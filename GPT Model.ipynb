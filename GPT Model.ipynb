{
 "cells": [
  {
   "cell_type": "markdown",
   "id": "d33ebf1a",
   "metadata": {},
   "source": [
    "## 4.1 实现 LLM 的架构"
   ]
  },
  {
   "cell_type": "code",
   "execution_count": 1,
   "id": "4515cc06",
   "metadata": {},
   "outputs": [],
   "source": [
    "GPT_CONFIG_124M = {\n",
    "    \"vocab_size\": 100277,    # Vocabulary size (from BPE tokenizer)\n",
    "    \"context_length\": 1024, # Context length( how many token can model handle)\n",
    "    \"emb_dim\": 768,         # Embedding dimension (each token transfer to 768 dims)\n",
    "    \"n_heads\": 12,          # Number of attention heads\n",
    "    \"n_layers\": 12,         # Number of layers(how many transofmrer layer do we need)\n",
    "    \"drop_rate\": 0.1,       # Dropout rate\n",
    "    \"qkv_bias\": False       # Query-Key-Value bias\n",
    "}"
   ]
  },
  {
   "cell_type": "code",
   "execution_count": 2,
   "id": "64d58c49",
   "metadata": {},
   "outputs": [],
   "source": [
    "# Listing 4.1 A placeholder GPT model architecture class\n",
    "import torch\n",
    "import torch.nn as nn\n",
    "\n",
    "class DummyGPTModel(nn.Module):\n",
    "    def __init__(self, cfg):\n",
    "        super().__init__()\n",
    "        self.tok_emb = nn.Embedding(cfg[\"vocab_size\"], cfg[\"emb_dim\"])\n",
    "        self.pos_emb = nn.Embedding(cfg[\"context_length\"], cfg[\"emb_dim\"])\n",
    "        self.drop_emb = nn.Dropout(cfg[\"drop_rate\"])\n",
    "        self.trf_blocks = nn.Sequential(\n",
    "            *[DummyTransformerBlock(cfg) for _ in range(cfg[\"n_layers\"])])      #A\n",
    "        self.final_norm = DummyLayerNorm(cfg[\"emb_dim\"])                       #B\n",
    "        self.out_head = nn.Linear(\n",
    "            cfg[\"emb_dim\"], cfg[\"vocab_size\"], bias=False\n",
    "        )\n",
    "\n",
    "    def forward(self, in_idx):\n",
    "        batch_size, seq_len = in_idx.shape\n",
    "        tok_embeds = self.tok_emb(in_idx)\n",
    "        pos_embeds = self.pos_emb(torch.arange(seq_len, device=in_idx.device))\n",
    "        x = tok_embeds + pos_embeds\n",
    "        x = self.drop_emb(x)\n",
    "        x = self.trf_blocks(x)\n",
    "        x = self.final_norm(x)\n",
    "        logits = self.out_head(x)\n",
    "        return logits\n",
    "\n",
    "class DummyTransformerBlock(nn.Module):                                       #C\n",
    "    def __init__(self, cfg):\n",
    "        super().__init__()\n",
    "\n",
    "    def forward(self, x):                                                     #D\n",
    "        return x\n",
    "\n",
    "class DummyLayerNorm(nn.Module):                                              #E\n",
    "    def __init__(self, normalized_shape, eps=1e-5):                           #F\n",
    "        super().__init__()\n",
    "\n",
    "    def forward(self, x):\n",
    "        return x\n",
    "\n",
    "\n",
    "#A 为 TransformerBlock 设置占位符\n",
    "#B 为 LayerNorm 设置占位符\n",
    "#C 一个简单的占位类，后续将被真正的 TransformerBlock 替换\n",
    "#D 该模块无实际操作，仅原样返回输入\n",
    "#E 一个简单的占位类，后续将被真正的 DummyLayerNorm 替换\n",
    "#F 此处的参数仅用于模拟LayerNorm接口"
   ]
  },
  {
   "cell_type": "code",
   "execution_count": 3,
   "id": "27e9b61d",
   "metadata": {},
   "outputs": [
    {
     "data": {
      "text/plain": [
       "100277"
      ]
     },
     "execution_count": 3,
     "metadata": {},
     "output_type": "execute_result"
    }
   ],
   "source": [
    "import tiktoken\n",
    "\n",
    "tokenizer = tiktoken.encoding_for_model(\"gpt-4\")\n",
    "tokenizer.n_vocab"
   ]
  },
  {
   "cell_type": "code",
   "execution_count": 4,
   "id": "d9ed1fc1",
   "metadata": {},
   "outputs": [
    {
     "data": {
      "text/plain": [
       "tensor([[ 8597,   347, 80202],\n",
       "        [  308,  7141,  3524]])"
      ]
     },
     "execution_count": 4,
     "metadata": {},
     "output_type": "execute_result"
    }
   ],
   "source": [
    "batch = []\n",
    "\n",
    "txt1 = \"heelodasd\"\n",
    "txt2 = \" nihao\"\n",
    "\n",
    "batch.append(torch.tensor(tokenizer.encode(txt1)))\n",
    "batch.append(torch.tensor(tokenizer.encode(txt2)))\n",
    "batch = torch.stack(batch,dim=0)\n",
    "batch"
   ]
  },
  {
   "cell_type": "code",
   "execution_count": 5,
   "id": "885c9f3d",
   "metadata": {},
   "outputs": [
    {
     "data": {
      "text/plain": [
       "(tensor([[[ 0.7294, -0.9918, -0.5595,  ..., -0.4872,  0.2833,  0.1160],\n",
       "          [ 0.4177,  1.9711, -0.3894,  ...,  1.3055,  1.0193,  0.0973],\n",
       "          [-0.9279, -0.1050, -0.3882,  ..., -1.4838,  0.0462,  0.1469]],\n",
       " \n",
       "         [[-0.0077, -1.1776, -0.3267,  ..., -0.2297, -0.1586,  1.2162],\n",
       "          [ 0.4273,  1.4703,  1.4208,  ...,  0.3123, -0.6263, -0.3699],\n",
       "          [-1.5987, -0.7349,  0.4377,  ..., -1.4158,  1.7225,  1.9415]]],\n",
       "        grad_fn=<UnsafeViewBackward0>),\n",
       " torch.Size([2, 3, 100277]))"
      ]
     },
     "execution_count": 5,
     "metadata": {},
     "output_type": "execute_result"
    }
   ],
   "source": [
    "torch.manual_seed(123)\n",
    "model = DummyGPTModel(GPT_CONFIG_124M)\n",
    "\n",
    "logits = model(batch)\n",
    "logits,logits.shape\n",
    "# 每个token被转换成了vocab size的维度"
   ]
  },
  {
   "cell_type": "markdown",
   "id": "2daea97e",
   "metadata": {},
   "source": [
    "## 4.2 使用层归一化对激活值进行标准化"
   ]
  },
  {
   "cell_type": "code",
   "execution_count": 6,
   "id": "7d90e36d",
   "metadata": {},
   "outputs": [
    {
     "data": {
      "text/plain": [
       "(tensor([[0.2260, 0.3470, 0.0000, 0.2216, 0.0000, 0.0000],\n",
       "         [0.2133, 0.2394, 0.0000, 0.5198, 0.3297, 0.0000]],\n",
       "        grad_fn=<ReluBackward0>),\n",
       " torch.Size([2, 6]))"
      ]
     },
     "execution_count": 6,
     "metadata": {},
     "output_type": "execute_result"
    }
   ],
   "source": [
    "torch.manual_seed(123)\n",
    "batch_example = torch.randn(2,5)\n",
    "layer = nn.Sequential(nn.Linear(5,6),nn.ReLU())\n",
    "out = layer(batch_example)\n",
    "out,out.shape"
   ]
  },
  {
   "cell_type": "code",
   "execution_count": 7,
   "id": "1ba7437e",
   "metadata": {},
   "outputs": [
    {
     "data": {
      "text/plain": [
       "(tensor([[0.1324],\n",
       "         [0.2170]], grad_fn=<MeanBackward1>),\n",
       " torch.Size([2, 1]),\n",
       " tensor([[0.0231],\n",
       "         [0.0398]], grad_fn=<VarBackward0>),\n",
       " torch.Size([2, 1]))"
      ]
     },
     "execution_count": 7,
     "metadata": {},
     "output_type": "execute_result"
    }
   ],
   "source": [
    "mean = out.mean(dim=-1,keepdim=True)\n",
    "var = out.var(dim=-1,keepdim=True)\n",
    "mean,mean.shape,var,var.shape"
   ]
  },
  {
   "cell_type": "markdown",
   "id": "7603a77c",
   "metadata": {},
   "source": [
    "在计算均值或方差等操作时使用 keepdim=True 参数，可以确保输出张量的维度与输入张量相同，即使该操作通过dim参数减少了张量的维度。例如，如果不使用 keepdim=True，返回的均值张量将是一个二维向量 [0.1324, 0.2170]，而使用 keepdim=True 后，返回的张量则会是一个 2×1 的矩阵 [[0.1324], [0.2170]]。"
   ]
  },
  {
   "cell_type": "code",
   "execution_count": 8,
   "id": "0312d4d8",
   "metadata": {},
   "outputs": [
    {
     "name": "stdout",
     "output_type": "stream",
     "text": [
      "Normalized layer outputs:\n",
      " tensor([[ 0.6159,  1.4126, -0.8719,  0.5872, -0.8719, -0.8719],\n",
      "        [-0.0189,  0.1121, -1.0876,  1.5173,  0.5647, -1.0876]],\n",
      "       grad_fn=<DivBackward0>)\n",
      "Mean:\n",
      " tensor([[9.9341e-09],\n",
      "        [5.9605e-08]], grad_fn=<MeanBackward1>)\n",
      "Variance:\n",
      " tensor([[1.0000],\n",
      "        [1.0000]], grad_fn=<VarBackward0>)\n"
     ]
    }
   ],
   "source": [
    "out_norm = (out - mean) / torch.sqrt(var)\n",
    "mean = out_norm.mean(dim=-1, keepdim=True)\n",
    "var = out_norm.var(dim=-1, keepdim=True)\n",
    "print(\"Normalized layer outputs:\\n\", out_norm)\n",
    "print(\"Mean:\\n\", mean)\n",
    "print(\"Variance:\\n\", var)"
   ]
  },
  {
   "cell_type": "code",
   "execution_count": 9,
   "id": "3d7e830b",
   "metadata": {},
   "outputs": [
    {
     "name": "stdout",
     "output_type": "stream",
     "text": [
      "Mean:\n",
      " tensor([[    0.0000],\n",
      "        [    0.0000]], grad_fn=<MeanBackward1>)\n",
      "Variance:\n",
      " tensor([[1.0000],\n",
      "        [1.0000]], grad_fn=<VarBackward0>)\n"
     ]
    }
   ],
   "source": [
    "torch.set_printoptions(sci_mode=False)\n",
    "# 关闭科学计数法\n",
    "print(\"Mean:\\n\", mean)\n",
    "print(\"Variance:\\n\", var)"
   ]
  },
  {
   "cell_type": "code",
   "execution_count": 10,
   "id": "7f804eea",
   "metadata": {},
   "outputs": [],
   "source": [
    "class LayerNorm(nn.Module):\n",
    "    def __init__(self,emb_dim):\n",
    "        super().__init__()\n",
    "        self.eps = 1e-5\n",
    "        self.scale = nn.Parameter(torch.ones(emb_dim))\n",
    "        self.shift = nn.Parameter(torch.zeros(emb_dim))\n",
    "\n",
    "    def forward(self,x):\n",
    "        mean = x.mean(dim=-1,keepdim=True)\n",
    "        var = x.var(dim=-1,keepdim=True,unbiased=False)\n",
    "        mean_x = (x-mean) / torch.sqrt(var + self.eps)\n",
    "        y = self.scale * mean_x + self.shift\n",
    "        return y\n",
    "# 变量 eps 是一个小常数（epsilon），在归一化过程中加到方差上，\n",
    "# 以防止出现除零错误。scale 和 shift 是两个可训练参数（与输入具有相同的维度）"
   ]
  },
  {
   "cell_type": "markdown",
   "id": "71e61dd8",
   "metadata": {},
   "source": [
    "`unbiased=False` 是 `torch.var` 函数的一个参数，控制方差的计算方式：\n",
    "* **当 `unbiased=True`（默认）**，方差是无偏估计，会除以 $N-1$（样本数减1）。\n",
    "* **当 `unbiased=False`**，方差是有偏估计，会除以 $N$（样本数）。\n",
    "* **无偏（unbiased=True）**:\n",
    "  $\\text{Var} = \\frac{1}{N-1} \\sum_{i=1}^N (x_i - \\bar{x})^2$\n",
    "* **有偏（unbiased=False）**:\n",
    "  $\\text{Var} = \\frac{1}{N} \\sum_{i=1}^N (x_i - \\bar{x})^2$\n",
    "\n",
    "**为什么 LayerNorm 用 unbiased=False？**\n",
    "LayerNorm 是对每个样本自己的特征做归一化（不是整批），用有偏估计（除以N）与标准实现一致，数值更稳定，也和 numpy 的 `var` 行为一致（默认除以N）。\n",
    "\n"
   ]
  },
  {
   "cell_type": "code",
   "execution_count": 11,
   "id": "da71ef47",
   "metadata": {},
   "outputs": [
    {
     "data": {
      "text/plain": [
       "tensor([[-0.1115,  0.1204, -0.3696, -0.2404, -1.1969],\n",
       "        [ 0.2093, -0.9724, -0.7550,  0.3239, -0.1085]])"
      ]
     },
     "execution_count": 11,
     "metadata": {},
     "output_type": "execute_result"
    }
   ],
   "source": [
    "batch_example"
   ]
  },
  {
   "cell_type": "code",
   "execution_count": 12,
   "id": "1af7d94c",
   "metadata": {},
   "outputs": [
    {
     "name": "stdout",
     "output_type": "stream",
     "text": [
      "Mean:\n",
      " tensor([[    -0.0000],\n",
      "        [     0.0000]], grad_fn=<MeanBackward1>)\n",
      "Variance:\n",
      " tensor([[1.0000],\n",
      "        [1.0000]], grad_fn=<VarBackward0>)\n"
     ]
    }
   ],
   "source": [
    "ln = LayerNorm(emb_dim=5)\n",
    "out_ln = ln(batch_example)\n",
    "mean = out_ln.mean(dim=-1, keepdim=True)\n",
    "var = out_ln.var(dim=-1, unbiased=False, keepdim=True)\n",
    "print(\"Mean:\\n\", mean)\n",
    "print(\"Variance:\\n\", var)"
   ]
  },
  {
   "cell_type": "markdown",
   "id": "966d5f51",
   "metadata": {},
   "source": [
    "## 4.3 实现带有 GELU 激活函数的前馈神经网络"
   ]
  },
  {
   "cell_type": "code",
   "execution_count": 13,
   "id": "864d42db",
   "metadata": {},
   "outputs": [],
   "source": [
    "# Listing 4.3 An implementation of the GELU activation function\n",
    "class GELU(nn.Module):\n",
    "    def __init__(self):\n",
    "        super().__init__()\n",
    "\n",
    "    def forward(self, x):\n",
    "        return 0.5 * x * (1 + torch.tanh(\n",
    "            torch.sqrt(torch.tensor(2.0 / torch.pi)) *\n",
    "            (x + 0.044715 * torch.pow(x, 3))\n",
    "        ))"
   ]
  },
  {
   "cell_type": "code",
   "execution_count": 14,
   "id": "186d7054",
   "metadata": {},
   "outputs": [
    {
     "data": {
      "image/png": "[encoded data removed]",
      "text/plain": [
       "<Figure size 800x300 with 2 Axes>"
      ]
     },
     "metadata": {},
     "output_type": "display_data"
    }
   ],
   "source": [
    "import matplotlib.pyplot as plt\n",
    "gelu, relu = GELU(), nn.ReLU()\n",
    "\n",
    "x = torch.linspace(-3, 3, 100)                                          #A\n",
    "y_gelu, y_relu = gelu(x), relu(x)\n",
    "plt.figure(figsize=(8, 3))\n",
    "for i, (y, label) in enumerate(zip([y_gelu, y_relu], [\"GELU\", \"ReLU\"]), 1):\n",
    "    plt.subplot(1, 2, i)\n",
    "    plt.plot(x, y)\n",
    "    plt.title(f\"{label} activation function\")\n",
    "    plt.xlabel(\"x\")\n",
    "    plt.ylabel(f\"{label}(x)\")\n",
    "    plt.grid(True)\n",
    "plt.tight_layout()\n",
    "plt.show()\n",
    "\n",
    "#A 在 -3 到 3 的范围内生成 100 个样本数据点"
   ]
  },
  {
   "cell_type": "markdown",
   "id": "3901fd58",
   "metadata": {},
   "source": [
    "ReLU 是一个分段线性函数，输入为正时输出输入值本身，否则输出零。而 GELU 是一种平滑的非线性函数，它近似于 ReLU，但在负值上也具有非零梯度。"
   ]
  },
  {
   "cell_type": "markdown",
   "id": "afe162ee",
   "metadata": {},
   "source": [
    "GELU 的平滑性使其在训练过程中具有更好的优化特性，能够对模型参数进行更细微的调整。相比之下，ReLU 在零点处有一个拐角，这在网络深度较大或结构复杂时可能会增加优化难度。此外，ReLU 对所有负输入的输出为零，而 GELU 对负值允许一个小的非零输出。这意味着在训练过程中，接收负输入的神经元也能对学习过程产生一定的贡献，尽管贡献程度不及正输入"
   ]
  },
  {
   "cell_type": "code",
   "execution_count": 15,
   "id": "a9521f12",
   "metadata": {},
   "outputs": [],
   "source": [
    "class FeedForward(nn.Module):\n",
    "    def __init__(self,cfg):\n",
    "        super().__init__()\n",
    "        self.layers = nn.Sequential(\n",
    "            nn.Linear(cfg[\"emb_dim\"],4*cfg[\"emb_dim\"]),\n",
    "            GELU(),\n",
    "            nn.Linear(4*cfg[\"emb_dim\"],cfg[\"emb_dim\"])\n",
    "        )\n",
    "\n",
    "    def forward(self,x):\n",
    "        return self.layers(x)"
   ]
  },
  {
   "cell_type": "code",
   "execution_count": 16,
   "id": "7864d82b",
   "metadata": {},
   "outputs": [
    {
     "data": {
      "text/plain": [
       "(tensor([[[-0.3731, -0.2161,  0.1972,  ..., -0.2462,  0.0535,  0.2413],\n",
       "          [ 0.0069,  0.0609,  0.3952,  ...,  0.1626, -0.0415, -0.1237],\n",
       "          [ 0.1569, -0.1565, -0.0789,  ..., -0.3007,  0.2389, -0.1702]],\n",
       " \n",
       "         [[ 0.2887,  0.0783,  0.1038,  ..., -0.2605, -0.0504, -0.2268],\n",
       "          [-0.0889,  0.2274,  0.0563,  ..., -0.2062,  0.0148, -0.2420],\n",
       "          [ 0.2520, -0.0005, -0.2848,  ..., -0.0739, -0.0354,  0.0410]]],\n",
       "        grad_fn=<ViewBackward0>),\n",
       " torch.Size([2, 3, 768]))"
      ]
     },
     "execution_count": 16,
     "metadata": {},
     "output_type": "execute_result"
    }
   ],
   "source": [
    "ffn = FeedForward(GPT_CONFIG_124M)\n",
    "\n",
    "x = torch.randn(2,3,768)\n",
    "y = ffn(x)\n",
    "y,y.shape"
   ]
  },
  {
   "cell_type": "code",
   "execution_count": 17,
   "id": "154a40db",
   "metadata": {},
   "outputs": [],
   "source": [
    "class ExampleDeepNeuralNetwork(nn.Module):\n",
    "    def __init__(self,layer_sizes,use_shortcut):\n",
    "        super().__init__()\n",
    "        self.use_shortcut = use_shortcut\n",
    "        self.layers = nn.ModuleList([\n",
    "            # Implement 5 layers\n",
    "            nn.Sequential(nn.Linear(layer_sizes[0], layer_sizes[1]), GELU()),\n",
    "            nn.Sequential(nn.Linear(layer_sizes[1], layer_sizes[2]), GELU()),\n",
    "            nn.Sequential(nn.Linear(layer_sizes[2], layer_sizes[3]), GELU()),\n",
    "            nn.Sequential(nn.Linear(layer_sizes[3], layer_sizes[4]), GELU()),\n",
    "            nn.Sequential(nn.Linear(layer_sizes[4], layer_sizes[5]), GELU())\n",
    "        ])\n",
    "\n",
    "    def forward(self,x):\n",
    "        for layer in self.layers:\n",
    "            layer_output = layer(x)\n",
    "            if self.use_shortcut and x.shape == layer_output.shape:\n",
    "                # 需要保证维度一致才能使用残差链接\n",
    "                x = layer_output + x\n",
    "            else:\n",
    "                x = layer_output\n",
    "        return x"
   ]
  },
  {
   "cell_type": "code",
   "execution_count": 18,
   "id": "9cd9c23c",
   "metadata": {},
   "outputs": [
    {
     "data": {
      "text/plain": [
       "torch.Size([1, 3])"
      ]
     },
     "execution_count": 18,
     "metadata": {},
     "output_type": "execute_result"
    }
   ],
   "source": [
    "layers_size = [3,3,3,3,3,1]\n",
    "sample_input = torch.tensor([[1.,0.,-1.]])\n",
    "torch.manual_seed(123)\n",
    "model_without_shortcut = ExampleDeepNeuralNetwork(\n",
    "    layers_size,use_shortcut=False\n",
    ")\n",
    "sample_input.shape"
   ]
  },
  {
   "cell_type": "code",
   "execution_count": 19,
   "id": "d67dc1ac",
   "metadata": {},
   "outputs": [],
   "source": [
    "def print_gradients(model,x):\n",
    "    output = model(x)\n",
    "    target = torch.tensor([[0.]])\n",
    "\n",
    "    loss = nn.MSELoss()\n",
    "    l = loss(output,target)\n",
    "    l.backward()\n",
    "\n",
    "    for name,param in model.named_parameters():\n",
    "        if 'weight' in name:\n",
    "            print(f\"{name} has gradient mean of {param.grad.abs().mean().item()}\")\n"
   ]
  },
  {
   "cell_type": "markdown",
   "id": "c1e5fe79",
   "metadata": {},
   "source": [
    "当调用 loss.backward() 时，PyTorch 会为模型的每一层计算损失的梯度。我们可以通过 model.named_parameters() 遍历权重参数"
   ]
  },
  {
   "cell_type": "code",
   "execution_count": 20,
   "id": "9aa9ce3c",
   "metadata": {},
   "outputs": [
    {
     "name": "stdout",
     "output_type": "stream",
     "text": [
      "layers.0.0.weight has gradient mean of 0.00020173590746708214\n",
      "layers.1.0.weight has gradient mean of 0.0001201116101583466\n",
      "layers.2.0.weight has gradient mean of 0.0007152042235247791\n",
      "layers.3.0.weight has gradient mean of 0.0013988739810883999\n",
      "layers.4.0.weight has gradient mean of 0.00504964729771018\n"
     ]
    }
   ],
   "source": [
    "print_gradients(model_without_shortcut, sample_input)"
   ]
  },
  {
   "cell_type": "code",
   "execution_count": 21,
   "id": "5146ae5f",
   "metadata": {},
   "outputs": [
    {
     "name": "stdout",
     "output_type": "stream",
     "text": [
      "layers.0.0.weight has gradient mean of 0.0014432318275794387\n",
      "layers.1.0.weight has gradient mean of 0.004846962168812752\n",
      "layers.2.0.weight has gradient mean of 0.004138901364058256\n",
      "layers.3.0.weight has gradient mean of 0.005915128160268068\n",
      "layers.4.0.weight has gradient mean of 0.03265950828790665\n"
     ]
    }
   ],
   "source": [
    "model_with_shotcut = ExampleDeepNeuralNetwork(\n",
    "    layers_size,use_shortcut=True\n",
    ")\n",
    "\n",
    "print_gradients(model_with_shotcut,sample_input)"
   ]
  },
  {
   "cell_type": "markdown",
   "id": "d41328ef",
   "metadata": {},
   "source": [
    "从输出结果可以看到，最后一层（layers.4）的梯度依然比其他层更大。然而，随着接近第一层（layers.0），梯度值逐渐趋于稳定，并未缩小到几乎消失的程度。"
   ]
  },
  {
   "cell_type": "markdown",
   "id": "07896196",
   "metadata": {},
   "source": [
    "能够很好的缓解当神经网络深度很深的时候，梯度消失的情况"
   ]
  },
  {
   "cell_type": "code",
   "execution_count": 22,
   "id": "eb5b0b67",
   "metadata": {},
   "outputs": [],
   "source": [
    "# file: multi_head_attention.py\n",
    "import torch\n",
    "import torch.nn as nn\n",
    "\n",
    "class MultiHeadAttention(nn.Module):\n",
    "    def __init__(self, d_in, d_out, max_length, dropout, num_heads, qkv_bias=False):\n",
    "        super().__init__()\n",
    "        assert d_out % num_heads == 0, \"d_out must be divisible by num_heads\"\n",
    "        self.d_out = d_out\n",
    "        self.num_heads = num_heads\n",
    "        self.head_dim = d_out // num_heads\n",
    "\n",
    "        self.queries = nn.Linear(d_in, d_out, bias=qkv_bias)\n",
    "        self.keys = nn.Linear(d_in, d_out, bias=qkv_bias)\n",
    "        self.values = nn.Linear(d_in, d_out, bias=qkv_bias)\n",
    "        self.proj = nn.Linear(d_out, d_out)\n",
    "        self.dropout = nn.Dropout(dropout)\n",
    "\n",
    "        self.register_buffer(\n",
    "            \"mask\",\n",
    "            torch.triu(torch.ones(max_length, max_length), diagonal=1)\n",
    "        )\n",
    "\n",
    "    def forward(self, x):\n",
    "        batch_size, num_tokens, d_in = x.shape\n",
    "        assert num_tokens <= self.mask.shape[0], \"num_tokens exceeds max_length\"\n",
    "\n",
    "        queries = self.queries(x).view(batch_size, num_tokens, self.num_heads, self.head_dim)\n",
    "        keys = self.keys(x).view(batch_size, num_tokens, self.num_heads, self.head_dim)\n",
    "        values = self.values(x).view(batch_size, num_tokens, self.num_heads, self.head_dim)\n",
    "\n",
    "        queries = queries.transpose(1, 2)  # (batch, num_heads, num_tokens, head_dim)\n",
    "        keys = keys.transpose(1, 2)\n",
    "        values = values.transpose(1, 2)\n",
    "\n",
    "        attn_scores = torch.matmul(queries, keys.transpose(-2, -1))  # (batch, num_heads, num_tokens, num_tokens)\n",
    "        mask_bool = self.mask.bool()[:num_tokens, :num_tokens].unsqueeze(0).unsqueeze(0)\n",
    "        attn_scores = attn_scores.masked_fill(mask_bool, float('-inf'))\n",
    "\n",
    "        attn_weights = torch.softmax(attn_scores / (self.head_dim ** 0.5), dim=-1)\n",
    "        attn_weights = self.dropout(attn_weights)\n",
    "\n",
    "        context_vecs = torch.matmul(attn_weights, values)  # (batch, num_heads, num_tokens, head_dim)\n",
    "        context_vecs = context_vecs.transpose(1, 2).contiguous().view(batch_size, num_tokens, self.d_out)\n",
    "        context_vecs = self.proj(context_vecs)\n",
    "        return context_vecs\n"
   ]
  },
  {
   "cell_type": "code",
   "execution_count": 23,
   "id": "d3fd9c2d",
   "metadata": {},
   "outputs": [
    {
     "name": "stdout",
     "output_type": "stream",
     "text": [
      "torch.Size([3])\n",
      "torch.Size([1, 3])\n",
      "torch.Size([3, 1])\n"
     ]
    }
   ],
   "source": [
    "import torch\n",
    "\n",
    "x = torch.tensor([1, 2, 3])      # shape: [3]\n",
    "y = x.unsqueeze(0)               # shape: [1, 3]\n",
    "z = x.unsqueeze(1)               # shape: [3, 1]\n",
    "# 因为x是一维的，所以y就是在一维前加一维，变成1，3 \n",
    "# z是在一维后面再加一维，变成3，1\n",
    "print(x.shape)  # torch.Size([3])\n",
    "print(y.shape)  # torch.Size([1, 3])\n",
    "print(z.shape)  # torch.Size([3, 1])\n"
   ]
  },
  {
   "cell_type": "code",
   "execution_count": 24,
   "id": "146992e1",
   "metadata": {},
   "outputs": [],
   "source": [
    "class FeedForward(nn.Module):\n",
    "    def __init__(self,num_dim):\n",
    "        super().__init__()\n",
    "        self.layers = nn.ModuleList([#需要传入一个列表\n",
    "            nn.Sequential(nn.Linear(num_dim,4*num_dim)),\n",
    "            GELU(),\n",
    "            nn.Sequential(nn.Linear(4*num_dim,num_dim)),\n",
    "        ])\n",
    "\n",
    "    def forward(self,x):\n",
    "        for layer in self.layers:\n",
    "            x = layer(x)\n",
    "        return x\n",
    "\n",
    "class LayerNorm(nn.Module):\n",
    "    def __init__(self,num_dim):\n",
    "        super().__init__()\n",
    "        self.eps = 1e-5\n",
    "        self.register_buffer(\"scale\", torch.ones(num_dim))\n",
    "        self.register_buffer(\"shift\", torch.zeros(num_dim))\n",
    "\n",
    "    def forward(self,x):\n",
    "        mean = x.mean(dim=-1,keepdim=True)\n",
    "        var = x.var(dim=-1,keepdim=True,unbiased = False)\n",
    "        y = (x-mean) - torch.sqrt(var + self.eps)\n",
    "        return self.scale * y + self.shift"
   ]
  },
  {
   "cell_type": "code",
   "execution_count": 25,
   "id": "fea0aa62",
   "metadata": {},
   "outputs": [
    {
     "data": {
      "text/plain": [
       "{'vocab_size': 100277,\n",
       " 'context_length': 1024,\n",
       " 'emb_dim': 768,\n",
       " 'n_heads': 12,\n",
       " 'n_layers': 12,\n",
       " 'drop_rate': 0.1,\n",
       " 'qkv_bias': False}"
      ]
     },
     "execution_count": 25,
     "metadata": {},
     "output_type": "execute_result"
    }
   ],
   "source": [
    "GPT_CONFIG_124M"
   ]
  },
  {
   "cell_type": "code",
   "execution_count": 26,
   "id": "41c081c0",
   "metadata": {},
   "outputs": [],
   "source": [
    "class TransformerBlock(nn.Module):\n",
    "    def __init__(self,cfg):\n",
    "        super().__init__()\n",
    "        self.att = MultiHeadAttention(\n",
    "            d_in = cfg[\"emb_dim\"],\n",
    "            d_out = cfg[\"emb_dim\"],\n",
    "            max_length= cfg[\"context_length\"],\n",
    "            dropout = cfg[\"drop_rate\"],\n",
    "            num_heads=cfg[\"n_heads\"],\n",
    "            qkv_bias=cfg[\"qkv_bias\"]\n",
    "        )\n",
    "        self.ff = FeedForward(cfg[\"emb_dim\"])\n",
    "        self.norm1 = LayerNorm(cfg[\"emb_dim\"])\n",
    "        self.norm2 = LayerNorm(cfg[\"emb_dim\"])\n",
    "        self.drop_shotcut = nn.Dropout(cfg[\"drop_rate\"])\n",
    "\n",
    "    def forward(self,x):\n",
    "        shortcut = x\n",
    "        x = self.norm1(x)\n",
    "        x = self.att(x)\n",
    "        x = self.drop_shotcut(x)\n",
    "        x = x + shortcut\n",
    "        shortcut = x\n",
    "        x = self.norm2(x)\n",
    "        x = self.ff(x)\n",
    "        x = self.drop_shotcut(x)\n",
    "        x = shortcut + x\n",
    "        return x\n",
    "# 归一化-- multihead attn --dropout -- resnet -- 归一化 -- ff -- dropout -- resnet"
   ]
  },
  {
   "cell_type": "code",
   "execution_count": 27,
   "id": "70d3db5b",
   "metadata": {},
   "outputs": [
    {
     "name": "stdout",
     "output_type": "stream",
     "text": [
      "Input shape: torch.Size([2, 4, 768])\n",
      "Output shape: torch.Size([2, 4, 768])\n"
     ]
    }
   ],
   "source": [
    "torch.manual_seed(123)\n",
    "x = torch.rand(2, 4, 768)                    #A\n",
    "block = TransformerBlock(GPT_CONFIG_124M)\n",
    "output = block(x)\n",
    "\n",
    "print(\"Input shape:\", x.shape)\n",
    "print(\"Output shape:\", output.shape)\n",
    "\n",
    "#A 建一个形状为 [batch_size, num_tokens, emb_dim] 的输入张量"
   ]
  },
  {
   "cell_type": "markdown",
   "id": "ee110d98",
   "metadata": {},
   "source": [
    "Transformer 模块结构中保持数据形状不变并非偶然，而是其设计的一个关键特性。这种设计使 Transformer 擅长处理各种序列到序列任务，因为每个输出向量直接对应一个输入向量，保持一一对应关系。然而，虽然维度一致，但输出向量是包含整个输入序列信息的“上下文向量”。也就是说，尽管序列的物理维度（长度和特征维度）在经过 Transformer 模块时保持不变，但每个输出向量的内容会被重新编码，融合整个输入序列的上下文信息。"
   ]
  },
  {
   "cell_type": "code",
   "execution_count": 28,
   "id": "3eb621a3",
   "metadata": {},
   "outputs": [],
   "source": [
    "# Listing 4.7 The GPT model architecture implementation\n",
    "class GPTModel(nn.Module):\n",
    "    def __init__(self, cfg):\n",
    "        super().__init__()\n",
    "        self.tok_emb = nn.Embedding(cfg[\"vocab_size\"], cfg[\"emb_dim\"])\n",
    "        self.pos_emb = nn.Embedding(cfg[\"context_length\"], cfg[\"emb_dim\"])\n",
    "        self.drop_emb = nn.Dropout(cfg[\"drop_rate\"])\n",
    "\n",
    "        self.trf_blocks = nn.Sequential(\n",
    "            *[TransformerBlock(cfg) for _ in range(cfg[\"n_layers\"])])\n",
    "\n",
    "        self.final_norm = LayerNorm(cfg[\"emb_dim\"])\n",
    "        self.out_head = nn.Linear(\n",
    "            cfg[\"emb_dim\"], cfg[\"vocab_size\"], bias=False\n",
    "        )\n",
    "        # 将每个token的embdim维度嵌入向量再转换成vocabsize大小的向量，然后计算softmax，选出这个token最有可能是什么？ dim=-1\n",
    "    def forward(self, in_idx):\n",
    "        batch_size, seq_len = in_idx.shape\n",
    "        tok_embeds = self.tok_emb(in_idx)\n",
    "\n",
    "        pos_embeds = self.pos_emb(torch.arange(seq_len, device=in_idx.device))      #A\n",
    "        x = tok_embeds + pos_embeds\n",
    "        x = self.drop_emb(x)\n",
    "        x = self.trf_blocks(x)\n",
    "        x = self.final_norm(x)\n",
    "        logits = self.out_head(x)\n",
    "        return logits\n",
    "\n",
    " #A 设备设置将根据输入数据所在的位置选择在 CPU 或 GPU 上训练模型"
   ]
  },
  {
   "cell_type": "code",
   "execution_count": 29,
   "id": "562870d4",
   "metadata": {},
   "outputs": [
    {
     "name": "stdout",
     "output_type": "stream",
     "text": [
      "Input batch:\n",
      " tensor([[ 8597,   347, 80202],\n",
      "        [  308,  7141,  3524]])\n",
      "\n",
      "Output shape: torch.Size([2, 3, 100277])\n",
      "tensor([[[ 6.9786,  1.9400, 14.0354,  ..., -2.2986,  0.8146, -3.0674],\n",
      "         [ 4.5567,  0.1219,  7.7915,  ...,  2.6425, -1.1140,  3.0169],\n",
      "         [ 1.5988,  3.9577,  9.5935,  ..., -4.4785,  1.3988, -7.7583]],\n",
      "\n",
      "        [[-4.0090,  2.5505,  7.9679,  ..., -2.8691, -6.3033, -6.7236],\n",
      "         [ 3.0305,  8.3174, 12.8744,  ..., -1.6319, -5.9147, -0.8746],\n",
      "         [ 5.3054,  1.5535,  8.3648,  ..., -5.5964, -3.9789,  0.2269]]],\n",
      "       grad_fn=<UnsafeViewBackward0>)\n"
     ]
    }
   ],
   "source": [
    "torch.manual_seed(123)\n",
    "model = GPTModel(GPT_CONFIG_124M)\n",
    "\n",
    "out = model(batch)\n",
    "print(\"Input batch:\\n\", batch)\n",
    "print(\"\\nOutput shape:\", out.shape)\n",
    "print(out)"
   ]
  },
  {
   "cell_type": "code",
   "execution_count": 30,
   "id": "6ff71153",
   "metadata": {},
   "outputs": [
    {
     "name": "stdout",
     "output_type": "stream",
     "text": [
      "Total number of parameters: 239,801,856\n"
     ]
    }
   ],
   "source": [
    "total_params = sum(p.numel() for p in model.parameters())\n",
    "print(f\"Total number of parameters: {total_params:,}\")"
   ]
  },
  {
   "cell_type": "code",
   "execution_count": 31,
   "id": "9a38bd6e",
   "metadata": {},
   "outputs": [
    {
     "name": "stdout",
     "output_type": "stream",
     "text": [
      "Token embedding layer shape: torch.Size([100277, 768])\n",
      "Output layer shape: torch.Size([100277, 768])\n"
     ]
    }
   ],
   "source": [
    "print(\"Token embedding layer shape:\", model.tok_emb.weight.shape)\n",
    "print(\"Output layer shape:\", model.out_head.weight.shape)"
   ]
  },
  {
   "cell_type": "markdown",
   "id": "05947fc6",
   "metadata": {},
   "source": [
    "原因在于 GPT-2 架构中使用了一种称为‘权重共享’的概念，这意味着 GPT-2 架构将 token 嵌入层的权重复用于输出层"
   ]
  },
  {
   "cell_type": "code",
   "execution_count": 32,
   "id": "04e681f3",
   "metadata": {},
   "outputs": [
    {
     "name": "stdout",
     "output_type": "stream",
     "text": [
      "Number of trainable parameters considering weight tying: 162,789,120\n"
     ]
    }
   ],
   "source": [
    "total_params_gpt2 = total_params - sum(p.numel() for p in model.out_head.parameters())\n",
    "print(f\"Number of trainable parameters considering weight tying: {total_params_gpt2:,}\")"
   ]
  },
  {
   "cell_type": "markdown",
   "id": "c0c39f23",
   "metadata": {},
   "source": [
    "权重共享能够减少模型的整体内存占用和计算复杂度。然而，根据我的经验，分别使用独立的 token 嵌入层和输出层会使训练效果和模型性能更佳，因此在我们的 GPT 模型实现中，我们使用了独立的嵌入层和输出层。"
   ]
  },
  {
   "cell_type": "code",
   "execution_count": 33,
   "id": "a753464b",
   "metadata": {},
   "outputs": [
    {
     "name": "stdout",
     "output_type": "stream",
     "text": [
      "Total size of the model: 914.77 MB\n"
     ]
    }
   ],
   "source": [
    "total_size_bytes = total_params * 4                 #A\n",
    "total_size_mb = total_size_bytes / (1024 * 1024)    #B\n",
    "print(f\"Total size of the model: {total_size_mb:.2f} MB\")\n",
    "\n",
    "#A 计算参数总大小（假设每个参数为 float32 类型，占用 4 字节）\n",
    "#B 转换为 MB"
   ]
  },
  {
   "cell_type": "code",
   "execution_count": 34,
   "id": "d034e006",
   "metadata": {},
   "outputs": [],
   "source": [
    "# Listing 4.8 A function for the GPT model to generate text\n",
    "def generate_text_simple(model, idx, max_new_tokens, context_size): #A\n",
    "    for _ in range(max_new_tokens):\n",
    "        idx_cond = idx[:, -context_size:]                           #B\n",
    "        with torch.no_grad():\n",
    "           logits = model(idx_cond)\n",
    "\n",
    "        logits = logits[:, -1, :]                                   #C\n",
    "        probas = torch.softmax(logits, dim=-1)                      #D\n",
    "        idx_next = torch.argmax(probas, dim=-1, keepdim=True)       #E\n",
    "        idx = torch.cat((idx, idx_next), dim=1)                     #F\n",
    "\n",
    "    return idx\n",
    "\n",
    "#“贪婪解码（Greedy Decoding）” 是一种在生成文本时，每一步都选择概率最大的那个 token 的策略。\n",
    "#A idx 是当前上下文中索引的数组，形状为 (batch, n_tokens)\n",
    "#B 若上下文长度超出支持范围，则进行裁剪。例如，若模型仅支持 5 个 token，而上下文长度为 10，仅使用最后 5 个 token 作为上下文\n",
    "#C 仅关注最后一个时间步，将形状从 (batch, n_token, vocab_size) 转换为 (batch, vocab_size)\n",
    "#D probas 的形状为 (batch, vocab_size)\n",
    "#E idx_next 的形状为 (batch, 1)\n",
    "#F 将采样的索引追加到当前序列中，此时 idx 的形状为 (batch, n_tokens+1)"
   ]
  },
  {
   "cell_type": "code",
   "execution_count": 35,
   "id": "78bcf5eb",
   "metadata": {},
   "outputs": [
    {
     "name": "stdout",
     "output_type": "stream",
     "text": [
      "[15339, 38868, 1097]\n"
     ]
    }
   ],
   "source": [
    "start_context = \"hello,I am\"\n",
    "encoded = tokenizer.encode(start_context)\n",
    "print(encoded)"
   ]
  },
  {
   "cell_type": "code",
   "execution_count": 36,
   "id": "2d3c8791",
   "metadata": {},
   "outputs": [
    {
     "data": {
      "text/plain": [
       "(tensor([[15339, 38868,  1097]]), torch.Size([1, 3]))"
      ]
     },
     "execution_count": 36,
     "metadata": {},
     "output_type": "execute_result"
    }
   ],
   "source": [
    "encoded = torch.tensor(encoded).unsqueeze(0)\n",
    "encoded,encoded.shape"
   ]
  },
  {
   "cell_type": "code",
   "execution_count": 37,
   "id": "f2c5798f",
   "metadata": {},
   "outputs": [
    {
     "name": "stdout",
     "output_type": "stream",
     "text": [
      "Output: tensor([[15339, 38868,  1097, 40889, 46616, 40889, 46616, 46616, 46616]])\n",
      "Output length: 9\n"
     ]
    }
   ],
   "source": [
    "model.eval()             #A\n",
    "out = generate_text_simple(\n",
    "    model=model,\n",
    "    idx=encoded,\n",
    "    max_new_tokens=6,\n",
    "    context_size=GPT_CONFIG_124M[\"context_length\"]\n",
    ")\n",
    "print(\"Output:\", out)\n",
    "print(\"Output length:\", len(out[0]))\n",
    "\n",
    "#A 禁用 dropout，因为当前不是在训练模型"
   ]
  },
  {
   "cell_type": "code",
   "execution_count": 38,
   "id": "11046ad2",
   "metadata": {},
   "outputs": [
    {
     "data": {
      "text/plain": [
       "'hello,I am(edge defenses(edge defenses defenses defenses'"
      ]
     },
     "execution_count": 38,
     "metadata": {},
     "output_type": "execute_result"
    }
   ],
   "source": [
    "decoded = tokenizer.decode(out.squeeze(0).tolist())\n",
    "# 因为只输入了一个句子 batchsize=0，所以去掉，\n",
    "# 并且tokenizer只能decode token序列\n",
    "# 如果有多个序列，需要使用batch_decode\n",
    "# 现在是 [1,lenoftoken]\n",
    "decoded"
   ]
  },
  {
   "cell_type": "code",
   "execution_count": 39,
   "id": "9546b0f7",
   "metadata": {},
   "outputs": [
    {
     "data": {
      "text/plain": [
       "['hello,I am(edge defenses(edge defenses defenses defenses']"
      ]
     },
     "execution_count": 39,
     "metadata": {},
     "output_type": "execute_result"
    }
   ],
   "source": [
    "decoded1 = tokenizer.decode_batch(out.tolist())\n",
    "decoded1"
   ]
  },
  {
   "cell_type": "markdown",
   "id": "0e4057ac",
   "metadata": {},
   "source": [
    "# 在无标记数据集上进行预训练"
   ]
  },
  {
   "cell_type": "markdown",
   "id": "2f4b2c9e",
   "metadata": {},
   "source": [
    "## 5.1 生成式文本模型的评估"
   ]
  },
  {
   "cell_type": "code",
   "execution_count": 40,
   "id": "d8065b15",
   "metadata": {},
   "outputs": [
    {
     "data": {
      "text/plain": [
       "GPTModel(\n",
       "  (tok_emb): Embedding(50257, 768)\n",
       "  (pos_emb): Embedding(256, 768)\n",
       "  (drop_emb): Dropout(p=0.1, inplace=False)\n",
       "  (trf_blocks): Sequential(\n",
       "    (0): TransformerBlock(\n",
       "      (att): MultiHeadAttention(\n",
       "        (queries): Linear(in_features=768, out_features=768, bias=False)\n",
       "        (keys): Linear(in_features=768, out_features=768, bias=False)\n",
       "        (values): Linear(in_features=768, out_features=768, bias=False)\n",
       "        (proj): Linear(in_features=768, out_features=768, bias=True)\n",
       "        (dropout): Dropout(p=0.1, inplace=False)\n",
       "      )\n",
       "      (ff): FeedForward(\n",
       "        (layers): ModuleList(\n",
       "          (0): Sequential(\n",
       "            (0): Linear(in_features=768, out_features=3072, bias=True)\n",
       "          )\n",
       "          (1): GELU()\n",
       "          (2): Sequential(\n",
       "            (0): Linear(in_features=3072, out_features=768, bias=True)\n",
       "          )\n",
       "        )\n",
       "      )\n",
       "      (norm1): LayerNorm()\n",
       "      (norm2): LayerNorm()\n",
       "      (drop_shotcut): Dropout(p=0.1, inplace=False)\n",
       "    )\n",
       "    (1): TransformerBlock(\n",
       "      (att): MultiHeadAttention(\n",
       "        (queries): Linear(in_features=768, out_features=768, bias=False)\n",
       "        (keys): Linear(in_features=768, out_features=768, bias=False)\n",
       "        (values): Linear(in_features=768, out_features=768, bias=False)\n",
       "        (proj): Linear(in_features=768, out_features=768, bias=True)\n",
       "        (dropout): Dropout(p=0.1, inplace=False)\n",
       "      )\n",
       "      (ff): FeedForward(\n",
       "        (layers): ModuleList(\n",
       "          (0): Sequential(\n",
       "            (0): Linear(in_features=768, out_features=3072, bias=True)\n",
       "          )\n",
       "          (1): GELU()\n",
       "          (2): Sequential(\n",
       "            (0): Linear(in_features=3072, out_features=768, bias=True)\n",
       "          )\n",
       "        )\n",
       "      )\n",
       "      (norm1): LayerNorm()\n",
       "      (norm2): LayerNorm()\n",
       "      (drop_shotcut): Dropout(p=0.1, inplace=False)\n",
       "    )\n",
       "    (2): TransformerBlock(\n",
       "      (att): MultiHeadAttention(\n",
       "        (queries): Linear(in_features=768, out_features=768, bias=False)\n",
       "        (keys): Linear(in_features=768, out_features=768, bias=False)\n",
       "        (values): Linear(in_features=768, out_features=768, bias=False)\n",
       "        (proj): Linear(in_features=768, out_features=768, bias=True)\n",
       "        (dropout): Dropout(p=0.1, inplace=False)\n",
       "      )\n",
       "      (ff): FeedForward(\n",
       "        (layers): ModuleList(\n",
       "          (0): Sequential(\n",
       "            (0): Linear(in_features=768, out_features=3072, bias=True)\n",
       "          )\n",
       "          (1): GELU()\n",
       "          (2): Sequential(\n",
       "            (0): Linear(in_features=3072, out_features=768, bias=True)\n",
       "          )\n",
       "        )\n",
       "      )\n",
       "      (norm1): LayerNorm()\n",
       "      (norm2): LayerNorm()\n",
       "      (drop_shotcut): Dropout(p=0.1, inplace=False)\n",
       "    )\n",
       "    (3): TransformerBlock(\n",
       "      (att): MultiHeadAttention(\n",
       "        (queries): Linear(in_features=768, out_features=768, bias=False)\n",
       "        (keys): Linear(in_features=768, out_features=768, bias=False)\n",
       "        (values): Linear(in_features=768, out_features=768, bias=False)\n",
       "        (proj): Linear(in_features=768, out_features=768, bias=True)\n",
       "        (dropout): Dropout(p=0.1, inplace=False)\n",
       "      )\n",
       "      (ff): FeedForward(\n",
       "        (layers): ModuleList(\n",
       "          (0): Sequential(\n",
       "            (0): Linear(in_features=768, out_features=3072, bias=True)\n",
       "          )\n",
       "          (1): GELU()\n",
       "          (2): Sequential(\n",
       "            (0): Linear(in_features=3072, out_features=768, bias=True)\n",
       "          )\n",
       "        )\n",
       "      )\n",
       "      (norm1): LayerNorm()\n",
       "      (norm2): LayerNorm()\n",
       "      (drop_shotcut): Dropout(p=0.1, inplace=False)\n",
       "    )\n",
       "    (4): TransformerBlock(\n",
       "      (att): MultiHeadAttention(\n",
       "        (queries): Linear(in_features=768, out_features=768, bias=False)\n",
       "        (keys): Linear(in_features=768, out_features=768, bias=False)\n",
       "        (values): Linear(in_features=768, out_features=768, bias=False)\n",
       "        (proj): Linear(in_features=768, out_features=768, bias=True)\n",
       "        (dropout): Dropout(p=0.1, inplace=False)\n",
       "      )\n",
       "      (ff): FeedForward(\n",
       "        (layers): ModuleList(\n",
       "          (0): Sequential(\n",
       "            (0): Linear(in_features=768, out_features=3072, bias=True)\n",
       "          )\n",
       "          (1): GELU()\n",
       "          (2): Sequential(\n",
       "            (0): Linear(in_features=3072, out_features=768, bias=True)\n",
       "          )\n",
       "        )\n",
       "      )\n",
       "      (norm1): LayerNorm()\n",
       "      (norm2): LayerNorm()\n",
       "      (drop_shotcut): Dropout(p=0.1, inplace=False)\n",
       "    )\n",
       "    (5): TransformerBlock(\n",
       "      (att): MultiHeadAttention(\n",
       "        (queries): Linear(in_features=768, out_features=768, bias=False)\n",
       "        (keys): Linear(in_features=768, out_features=768, bias=False)\n",
       "        (values): Linear(in_features=768, out_features=768, bias=False)\n",
       "        (proj): Linear(in_features=768, out_features=768, bias=True)\n",
       "        (dropout): Dropout(p=0.1, inplace=False)\n",
       "      )\n",
       "      (ff): FeedForward(\n",
       "        (layers): ModuleList(\n",
       "          (0): Sequential(\n",
       "            (0): Linear(in_features=768, out_features=3072, bias=True)\n",
       "          )\n",
       "          (1): GELU()\n",
       "          (2): Sequential(\n",
       "            (0): Linear(in_features=3072, out_features=768, bias=True)\n",
       "          )\n",
       "        )\n",
       "      )\n",
       "      (norm1): LayerNorm()\n",
       "      (norm2): LayerNorm()\n",
       "      (drop_shotcut): Dropout(p=0.1, inplace=False)\n",
       "    )\n",
       "    (6): TransformerBlock(\n",
       "      (att): MultiHeadAttention(\n",
       "        (queries): Linear(in_features=768, out_features=768, bias=False)\n",
       "        (keys): Linear(in_features=768, out_features=768, bias=False)\n",
       "        (values): Linear(in_features=768, out_features=768, bias=False)\n",
       "        (proj): Linear(in_features=768, out_features=768, bias=True)\n",
       "        (dropout): Dropout(p=0.1, inplace=False)\n",
       "      )\n",
       "      (ff): FeedForward(\n",
       "        (layers): ModuleList(\n",
       "          (0): Sequential(\n",
       "            (0): Linear(in_features=768, out_features=3072, bias=True)\n",
       "          )\n",
       "          (1): GELU()\n",
       "          (2): Sequential(\n",
       "            (0): Linear(in_features=3072, out_features=768, bias=True)\n",
       "          )\n",
       "        )\n",
       "      )\n",
       "      (norm1): LayerNorm()\n",
       "      (norm2): LayerNorm()\n",
       "      (drop_shotcut): Dropout(p=0.1, inplace=False)\n",
       "    )\n",
       "    (7): TransformerBlock(\n",
       "      (att): MultiHeadAttention(\n",
       "        (queries): Linear(in_features=768, out_features=768, bias=False)\n",
       "        (keys): Linear(in_features=768, out_features=768, bias=False)\n",
       "        (values): Linear(in_features=768, out_features=768, bias=False)\n",
       "        (proj): Linear(in_features=768, out_features=768, bias=True)\n",
       "        (dropout): Dropout(p=0.1, inplace=False)\n",
       "      )\n",
       "      (ff): FeedForward(\n",
       "        (layers): ModuleList(\n",
       "          (0): Sequential(\n",
       "            (0): Linear(in_features=768, out_features=3072, bias=True)\n",
       "          )\n",
       "          (1): GELU()\n",
       "          (2): Sequential(\n",
       "            (0): Linear(in_features=3072, out_features=768, bias=True)\n",
       "          )\n",
       "        )\n",
       "      )\n",
       "      (norm1): LayerNorm()\n",
       "      (norm2): LayerNorm()\n",
       "      (drop_shotcut): Dropout(p=0.1, inplace=False)\n",
       "    )\n",
       "    (8): TransformerBlock(\n",
       "      (att): MultiHeadAttention(\n",
       "        (queries): Linear(in_features=768, out_features=768, bias=False)\n",
       "        (keys): Linear(in_features=768, out_features=768, bias=False)\n",
       "        (values): Linear(in_features=768, out_features=768, bias=False)\n",
       "        (proj): Linear(in_features=768, out_features=768, bias=True)\n",
       "        (dropout): Dropout(p=0.1, inplace=False)\n",
       "      )\n",
       "      (ff): FeedForward(\n",
       "        (layers): ModuleList(\n",
       "          (0): Sequential(\n",
       "            (0): Linear(in_features=768, out_features=3072, bias=True)\n",
       "          )\n",
       "          (1): GELU()\n",
       "          (2): Sequential(\n",
       "            (0): Linear(in_features=3072, out_features=768, bias=True)\n",
       "          )\n",
       "        )\n",
       "      )\n",
       "      (norm1): LayerNorm()\n",
       "      (norm2): LayerNorm()\n",
       "      (drop_shotcut): Dropout(p=0.1, inplace=False)\n",
       "    )\n",
       "    (9): TransformerBlock(\n",
       "      (att): MultiHeadAttention(\n",
       "        (queries): Linear(in_features=768, out_features=768, bias=False)\n",
       "        (keys): Linear(in_features=768, out_features=768, bias=False)\n",
       "        (values): Linear(in_features=768, out_features=768, bias=False)\n",
       "        (proj): Linear(in_features=768, out_features=768, bias=True)\n",
       "        (dropout): Dropout(p=0.1, inplace=False)\n",
       "      )\n",
       "      (ff): FeedForward(\n",
       "        (layers): ModuleList(\n",
       "          (0): Sequential(\n",
       "            (0): Linear(in_features=768, out_features=3072, bias=True)\n",
       "          )\n",
       "          (1): GELU()\n",
       "          (2): Sequential(\n",
       "            (0): Linear(in_features=3072, out_features=768, bias=True)\n",
       "          )\n",
       "        )\n",
       "      )\n",
       "      (norm1): LayerNorm()\n",
       "      (norm2): LayerNorm()\n",
       "      (drop_shotcut): Dropout(p=0.1, inplace=False)\n",
       "    )\n",
       "    (10): TransformerBlock(\n",
       "      (att): MultiHeadAttention(\n",
       "        (queries): Linear(in_features=768, out_features=768, bias=False)\n",
       "        (keys): Linear(in_features=768, out_features=768, bias=False)\n",
       "        (values): Linear(in_features=768, out_features=768, bias=False)\n",
       "        (proj): Linear(in_features=768, out_features=768, bias=True)\n",
       "        (dropout): Dropout(p=0.1, inplace=False)\n",
       "      )\n",
       "      (ff): FeedForward(\n",
       "        (layers): ModuleList(\n",
       "          (0): Sequential(\n",
       "            (0): Linear(in_features=768, out_features=3072, bias=True)\n",
       "          )\n",
       "          (1): GELU()\n",
       "          (2): Sequential(\n",
       "            (0): Linear(in_features=3072, out_features=768, bias=True)\n",
       "          )\n",
       "        )\n",
       "      )\n",
       "      (norm1): LayerNorm()\n",
       "      (norm2): LayerNorm()\n",
       "      (drop_shotcut): Dropout(p=0.1, inplace=False)\n",
       "    )\n",
       "    (11): TransformerBlock(\n",
       "      (att): MultiHeadAttention(\n",
       "        (queries): Linear(in_features=768, out_features=768, bias=False)\n",
       "        (keys): Linear(in_features=768, out_features=768, bias=False)\n",
       "        (values): Linear(in_features=768, out_features=768, bias=False)\n",
       "        (proj): Linear(in_features=768, out_features=768, bias=True)\n",
       "        (dropout): Dropout(p=0.1, inplace=False)\n",
       "      )\n",
       "      (ff): FeedForward(\n",
       "        (layers): ModuleList(\n",
       "          (0): Sequential(\n",
       "            (0): Linear(in_features=768, out_features=3072, bias=True)\n",
       "          )\n",
       "          (1): GELU()\n",
       "          (2): Sequential(\n",
       "            (0): Linear(in_features=3072, out_features=768, bias=True)\n",
       "          )\n",
       "        )\n",
       "      )\n",
       "      (norm1): LayerNorm()\n",
       "      (norm2): LayerNorm()\n",
       "      (drop_shotcut): Dropout(p=0.1, inplace=False)\n",
       "    )\n",
       "  )\n",
       "  (final_norm): LayerNorm()\n",
       "  (out_head): Linear(in_features=768, out_features=50257, bias=False)\n",
       ")"
      ]
     },
     "execution_count": 40,
     "metadata": {},
     "output_type": "execute_result"
    }
   ],
   "source": [
    "import torch\n",
    "\n",
    "GPT_CONFIG_124M = {\n",
    "    \"vocab_size\": 50257,\n",
    "    \"context_length\": 256,        #A\n",
    "    \"emb_dim\": 768,\n",
    "    \"n_heads\": 12,\n",
    "    \"n_layers\": 12,\n",
    "    \"drop_rate\": 0.1,             #B\n",
    "    \"qkv_bias\": False\n",
    "}\n",
    "torch.manual_seed(123)\n",
    "model = GPTModel(GPT_CONFIG_124M)\n",
    "model.eval()\n",
    "\n",
    "#A 我们将上下文长度从1024个token缩短到256个token\n",
    "#B 将 dropout 设置为 0 是一种常见的做法"
   ]
  },
  {
   "cell_type": "code",
   "execution_count": 41,
   "id": "df1d89f6",
   "metadata": {},
   "outputs": [
    {
     "name": "stdout",
     "output_type": "stream",
     "text": [
      "Output text:\n",
      " Every effort moves you horn horn horn horn horn horn continuum horn horn horn\n"
     ]
    }
   ],
   "source": [
    "# Listing 5.1 Utility functions for text to token ID conversion\n",
    "import tiktoken\n",
    "\n",
    "def text_to_token_ids(text, tokenizer):\n",
    "    encoded = tokenizer.encode(text, allowed_special={'<|endoftext|>'})\n",
    "    encoded_tensor = torch.tensor(encoded, dtype=torch.long).unsqueeze(0)\n",
    "    return encoded_tensor\n",
    "\n",
    "def token_ids_to_text(token_ids, tokenizer):\n",
    "    flat = token_ids.squeeze(0) # remove batch dimension\n",
    "    return tokenizer.decode(flat.tolist())\n",
    "\n",
    "start_context = \"Every effort moves you\"\n",
    "tokenizer = tiktoken.get_encoding(\"gpt2\")\n",
    "\n",
    "token_ids = generate_text_simple(\n",
    "    model=model,\n",
    "    idx=text_to_token_ids(start_context, tokenizer),\n",
    "    max_new_tokens=10,\n",
    "    context_size=GPT_CONFIG_124M[\"context_length\"]\n",
    ")\n",
    "print(\"Output text:\\n\", token_ids_to_text(token_ids, tokenizer))"
   ]
  },
  {
   "cell_type": "code",
   "execution_count": 42,
   "id": "b698c719",
   "metadata": {},
   "outputs": [],
   "source": [
    "inputs = torch.tensor([[16833, 3626, 6100], # [\"every effort moves\",\n",
    "                       [40, 1107, 588]])    # \"I really like\"]\n",
    "# Matching these inputs, the `targets` contain the token IDs we aim for the model to produce:\n",
    "targets = torch.tensor([[3626, 6100, 345 ], # [\" effort moves you\",\n",
    "                        [1107, 588, 11311]]) # \" really like chocolate\"]"
   ]
  },
  {
   "cell_type": "code",
   "execution_count": 43,
   "id": "9c1e10a9",
   "metadata": {},
   "outputs": [
    {
     "data": {
      "text/plain": [
       "(tensor([[[    0.0000,     0.0000,     0.0000,  ...,     0.0000,\n",
       "               0.0000,     0.0000],\n",
       "          [    0.0000,     0.0000,     0.0000,  ...,     0.0000,\n",
       "               0.0000,     0.0000],\n",
       "          [    0.0000,     0.0000,     0.0000,  ...,     0.0000,\n",
       "               0.0000,     0.0000]],\n",
       " \n",
       "         [[    0.0000,     0.0000,     0.0000,  ...,     0.0000,\n",
       "               0.0000,     0.0000],\n",
       "          [    0.0000,     0.0000,     0.0000,  ...,     0.0000,\n",
       "               0.0000,     0.0000],\n",
       "          [    0.0000,     0.0000,     0.0000,  ...,     0.0000,\n",
       "               0.0000,     0.0000]]]),\n",
       " torch.Size([2, 3, 50257]))"
      ]
     },
     "execution_count": 43,
     "metadata": {},
     "output_type": "execute_result"
    }
   ],
   "source": [
    "with torch.no_grad():\n",
    "    logits = model(inputs)\n",
    "probas = torch.softmax(logits,dim=-1)\n",
    "probas,probas.shape"
   ]
  },
  {
   "cell_type": "markdown",
   "id": "945a4f42",
   "metadata": {},
   "source": [
    "第一个数字 2 表示输入中的两个样本（行），即批次大小。第二个数字 3 表示每个样本包含的 token 数量。最后一个数字表示嵌入维度的大小，通常由词汇表大小决定"
   ]
  },
  {
   "cell_type": "code",
   "execution_count": 44,
   "id": "da341325",
   "metadata": {},
   "outputs": [
    {
     "name": "stdout",
     "output_type": "stream",
     "text": [
      "Token IDs:\n",
      " tensor([[[23545],\n",
      "         [12718],\n",
      "         [12718]],\n",
      "\n",
      "        [[12718],\n",
      "         [26733],\n",
      "         [ 4929]]])\n"
     ]
    },
    {
     "data": {
      "text/plain": [
       "torch.Size([2, 3, 1])"
      ]
     },
     "execution_count": 44,
     "metadata": {},
     "output_type": "execute_result"
    }
   ],
   "source": [
    "token_ids = torch.argmax(probas, dim=-1, keepdim=True)\n",
    "print(\"Token IDs:\\n\", token_ids)\n",
    "token_ids.shape"
   ]
  },
  {
   "cell_type": "code",
   "execution_count": 45,
   "id": "22541318",
   "metadata": {},
   "outputs": [
    {
     "name": "stdout",
     "output_type": "stream",
     "text": [
      "Targets batch 1:  effort moves you\n",
      "Outputs batch 1: herence horn horn\n"
     ]
    }
   ],
   "source": [
    "print(f\"Targets batch 1: {token_ids_to_text(targets[0], tokenizer)}\")\n",
    "print(f\"Outputs batch 1: {token_ids_to_text(token_ids[0].flatten(), tokenizer)}\")\n",
    "#When we decode these tokens, we find that these output tokens are quite different from the target tokens we want the model to generate:\n"
   ]
  },
  {
   "cell_type": "code",
   "execution_count": 46,
   "id": "8681330f",
   "metadata": {},
   "outputs": [
    {
     "data": {
      "text/plain": [
       "torch.Size([2, 3, 50257])"
      ]
     },
     "execution_count": 46,
     "metadata": {},
     "output_type": "execute_result"
    }
   ],
   "source": [
    "probas.shape"
   ]
  },
  {
   "cell_type": "code",
   "execution_count": 47,
   "id": "1282d056",
   "metadata": {},
   "outputs": [
    {
     "data": {
      "text/plain": [
       "tensor([[ 3626,  6100,   345],\n",
       "        [ 1107,   588, 11311]])"
      ]
     },
     "execution_count": 47,
     "metadata": {},
     "output_type": "execute_result"
    }
   ],
   "source": [
    "targets"
   ]
  },
  {
   "cell_type": "code",
   "execution_count": 48,
   "id": "aa27ca20",
   "metadata": {},
   "outputs": [
    {
     "name": "stdout",
     "output_type": "stream",
     "text": [
      "Text 1: tensor([    0.0000,     0.0000,     0.0000])\n",
      "Text 2: tensor([    0.0000,     0.0000,     0.0000])\n"
     ]
    }
   ],
   "source": [
    "text_idx = 0\n",
    "target_probas_1 = probas[text_idx, [0, 1, 2], targets[text_idx]]\n",
    "print(\"Text 1:\", target_probas_1)\n",
    "\n",
    "text_idx = 1\n",
    "target_probas_2 = probas[text_idx, [0, 1, 2], targets[text_idx]]\n",
    "print(\"Text 2:\", target_probas_2)\n",
    "# 等价于 ：probas[0, [0, 1, 2], [3626, 6100, 345]]\n",
    "# [\n",
    "#   probas[0, 0, 3626],\n",
    "#   probas[0, 1, 6100],\n",
    "#   probas[0, 2, 345]\n",
    "# ]"
   ]
  },
  {
   "cell_type": "code",
   "execution_count": 49,
   "id": "029e4c9c",
   "metadata": {},
   "outputs": [
    {
     "name": "stdout",
     "output_type": "stream",
     "text": [
      "tensor([-20.6112, -32.4946, -14.5736, -37.0555, -24.4030, -35.7475])\n"
     ]
    }
   ],
   "source": [
    "log_probas = torch.log(torch.cat((target_probas_1, target_probas_2)))\n",
    "print(log_probas)\n",
    "# cat没有指定维度的时候，默认按照行拼接\n",
    "# 更推荐先log再cat\n",
    "#  如果直接相加 不cat一个新的向量， 不好计算反向传播"
   ]
  },
  {
   "cell_type": "markdown",
   "id": "8086ff96",
   "metadata": {},
   "source": [
    "交叉熵损失一般写为 -log(predict[target])"
   ]
  },
  {
   "cell_type": "code",
   "execution_count": 50,
   "id": "1668a3de",
   "metadata": {},
   "outputs": [
    {
     "data": {
      "text/plain": [
       "tensor([-20.6112, -32.4946, -14.5736])"
      ]
     },
     "execution_count": 50,
     "metadata": {},
     "output_type": "execute_result"
    }
   ],
   "source": [
    "torch.log(target_probas_1)"
   ]
  },
  {
   "cell_type": "code",
   "execution_count": 51,
   "id": "770a0499",
   "metadata": {},
   "outputs": [
    {
     "name": "stdout",
     "output_type": "stream",
     "text": [
      "tensor([-20.6112, -32.4946, -14.5736, -37.0555, -24.4030, -35.7475])\n"
     ]
    }
   ],
   "source": [
    "log_probas1 = torch.cat((torch.log(target_probas_1), torch.log(target_probas_2)))\n",
    "print(log_probas1)\n",
    "# 这个方法不能拓展"
   ]
  },
  {
   "cell_type": "code",
   "execution_count": 52,
   "id": "748336ae",
   "metadata": {},
   "outputs": [
    {
     "name": "stdout",
     "output_type": "stream",
     "text": [
      "tensor(-27.4809)\n"
     ]
    }
   ],
   "source": [
    "avg_log_probas = torch.mean(log_probas)\n",
    "print(avg_log_probas)"
   ]
  },
  {
   "cell_type": "code",
   "execution_count": 53,
   "id": "14cc3c8f",
   "metadata": {},
   "outputs": [
    {
     "name": "stdout",
     "output_type": "stream",
     "text": [
      "Logits shape: torch.Size([2, 3, 50257])\n",
      "Targets shape: torch.Size([2, 3])\n"
     ]
    }
   ],
   "source": [
    "print(\"Logits shape:\", logits.shape)\n",
    "print(\"Targets shape:\", targets.shape)\n",
    "# The resulting shapes are as follows:"
   ]
  },
  {
   "cell_type": "code",
   "execution_count": 54,
   "id": "9b734169",
   "metadata": {},
   "outputs": [
    {
     "name": "stdout",
     "output_type": "stream",
     "text": [
      "Flattened logits: torch.Size([6, 50257])\n",
      "Flattened targets: torch.Size([6])\n"
     ]
    }
   ],
   "source": [
    "logits_flat = logits.flatten(0, 1)\n",
    "targets_flat = targets.flatten()\n",
    "print(\"Flattened logits:\", logits_flat.shape)\n",
    "print(\"Flattened targets:\", targets_flat.shape)"
   ]
  },
  {
   "cell_type": "markdown",
   "id": "d8ce35fb",
   "metadata": {},
   "source": [
    "在 PyTorch 中使用交叉熵损失函数时，我们需要将这些张量展平，以便在批量维度上进行合并：\n",
    "请记住，targets 是希望 LLM 生成的目标 token ID，而 logits 包含了在进入 softmax 函数之前的模型原始输出。"
   ]
  },
  {
   "cell_type": "code",
   "execution_count": 55,
   "id": "43c280e4",
   "metadata": {},
   "outputs": [
    {
     "name": "stdout",
     "output_type": "stream",
     "text": [
      "tensor(27.4809)\n"
     ]
    }
   ],
   "source": [
    "loss = torch.nn.functional.cross_entropy(logits_flat, targets_flat)\n",
    "print(loss)"
   ]
  },
  {
   "cell_type": "code",
   "execution_count": 56,
   "id": "802e6207",
   "metadata": {},
   "outputs": [
    {
     "data": {
      "text/plain": [
       "(20479, 5145)"
      ]
     },
     "execution_count": 56,
     "metadata": {},
     "output_type": "execute_result"
    }
   ],
   "source": [
    "file_path = \"the-verdict.txt\"\n",
    "with open(file_path,\"r\",encoding=\"utf-8\") as f:\n",
    "    text_data = f.read()# 将整个文件当作整体来处理\n",
    "    # readlines（）将文件每一行当成独立字符串进行处理，全部组成一个列表，当文件很大的时候，可能会导致内存不足\n",
    "len(text_data),len(tokenizer.encode(text_data))"
   ]
  },
  {
   "cell_type": "code",
   "execution_count": 57,
   "id": "5f022c49",
   "metadata": {},
   "outputs": [
    {
     "name": "stdout",
     "output_type": "stream",
     "text": [
      "Characters: 20479\n",
      "Tokens: 5145\n"
     ]
    }
   ],
   "source": [
    "total_characters = len(text_data)\n",
    "total_tokens = len(tokenizer.encode(text_data))\n",
    "print(\"Characters:\", total_characters)\n",
    "print(\"Tokens:\", total_tokens)"
   ]
  },
  {
   "cell_type": "code",
   "execution_count": 58,
   "id": "a6fe3d82",
   "metadata": {},
   "outputs": [],
   "source": [
    "train_ratio = 0.90\n",
    "split_idx = int(train_ratio * len(text_data))\n",
    "train_data = text_data[:split_idx]\n",
    "test_data = text_data[split_idx:]"
   ]
  },
  {
   "cell_type": "code",
   "execution_count": 59,
   "id": "38233586",
   "metadata": {},
   "outputs": [],
   "source": [
    "import torch\n",
    "from torch.utils.data import Dataset, DataLoader\n",
    "import tiktoken\n",
    "\n",
    "class GPTdataset(Dataset):\n",
    "    def __init__(self, text, tokenizer, max_length, stride):\n",
    "        super().__init__()\n",
    "\n",
    "        self.input = []\n",
    "        self.predict = []\n",
    "\n",
    "        # 编码整个文本为token id序列\n",
    "        text_ids = tokenizer.encode(text)\n",
    "        # tokenizer 返回的是list而不是tensor，需要使用torch.tensor来进行转化。\n",
    "        # 按照max_length窗口、stride滑动窗口分块\n",
    "        for i in range(0, len(text_ids) - max_length, stride):\n",
    "            input_ids = text_ids[i : i + max_length]\n",
    "            label_ids = text_ids[i + 1 : i + 1 + max_length]\n",
    "\n",
    "            self.input.append(torch.tensor(input_ids, dtype=torch.long))\n",
    "            self.predict.append(torch.tensor(label_ids, dtype=torch.long))\n",
    "\n",
    "    def __getitem__(self, index):\n",
    "        return self.input[index], self.predict[index]\n",
    "\n",
    "    def __len__(self):\n",
    "        return len(self.input)\n",
    "\n",
    "def create_dataloader_v1(input_text, batch_size=2, max_length=256, stride=256, drop_last=True, shuffle=True, num_workers=0):\n",
    "    tokenizer = tiktoken.encoding_for_model(\"gpt-2\")\n",
    "    dataset = GPTdataset(input_text, tokenizer, max_length, stride)\n",
    "    dataloader = DataLoader(\n",
    "        dataset=dataset,\n",
    "        batch_size=batch_size,\n",
    "        shuffle=shuffle,\n",
    "        drop_last=drop_last,\n",
    "        num_workers=num_workers,\n",
    "    )\n",
    "    return dataloader\n",
    "\n",
    "# 假设train_data, test_data, GPT_CONFIG_124M都定义了\n",
    "torch.manual_seed(123)\n",
    "\n",
    "train_loader = create_dataloader_v1(\n",
    "    train_data,\n",
    "    batch_size=4,\n",
    "    max_length=GPT_CONFIG_124M[\"context_length\"],\n",
    "    stride=GPT_CONFIG_124M[\"context_length\"],\n",
    "    drop_last=True,\n",
    "    shuffle=True,\n",
    "    num_workers=0\n",
    ")\n",
    "\n",
    "val_loader = create_dataloader_v1(\n",
    "    test_data,\n",
    "    batch_size=4,\n",
    "    max_length=GPT_CONFIG_124M[\"context_length\"],\n",
    "    stride=GPT_CONFIG_124M[\"context_length\"],\n",
    "    drop_last=False,\n",
    "    shuffle=False,\n",
    "    num_workers=0\n",
    ")\n"
   ]
  },
  {
   "cell_type": "code",
   "execution_count": 60,
   "id": "715c111f",
   "metadata": {},
   "outputs": [
    {
     "name": "stdout",
     "output_type": "stream",
     "text": [
      "Train loader:\n",
      "torch.Size([4, 256]) torch.Size([4, 256])\n",
      "torch.Size([4, 256]) torch.Size([4, 256])\n",
      "torch.Size([4, 256]) torch.Size([4, 256])\n",
      "torch.Size([4, 256]) torch.Size([4, 256])\n",
      "\n",
      "Validation loader:\n",
      "torch.Size([2, 256]) torch.Size([2, 256])\n"
     ]
    }
   ],
   "source": [
    "print(\"Train loader:\")\n",
    "for x, y in train_loader:\n",
    "    print(x.shape, y.shape)\n",
    "\n",
    "print(\"\\nValidation loader:\")\n",
    "for x, y in val_loader:\n",
    "    print(x.shape, y.shape)"
   ]
  },
  {
   "cell_type": "markdown",
   "id": "e0fcbbf5",
   "metadata": {},
   "source": [
    "注意！ to(device)会复制一份到device，而不是就地修改；如果数据量巨大，建议按需处理。x = x.to(device) 就会抛弃掉原有的数据，创建新的内存，这样变量 x 就指向了新 device 上的 tensor，原来的旧 tensor（如果没有别的引用）会被垃圾回收。"
   ]
  },
  {
   "cell_type": "code",
   "execution_count": 61,
   "id": "f789c629",
   "metadata": {},
   "outputs": [],
   "source": [
    "def calc_loss_batch(input_batch, target_batch, model, device):\n",
    "    input_batch, target_batch = input_batch.to(device), target_batch.to(device)       #A\n",
    "    logits = model(input_batch)\n",
    "    loss = torch.nn.functional.cross_entropy(\n",
    "        logits.flatten(0, 1), target_batch.flatten()\n",
    "    )# logits.shape [batchsize,numtoken,vocabsize]\n",
    "    # target/input shape ]batchsize,numtoken\n",
    "    # 合并之后 [batchsize*numtoken,]and [batchsize*numtoken,vocabsize]\n",
    "    return loss\n",
    "\n",
    "#A 将数据传输到指定设备（如 GPU），使数据能够在 GPU 上处理。"
   ]
  },
  {
   "cell_type": "markdown",
   "id": "edf86289",
   "metadata": {},
   "source": [
    "flatten()\n",
    "总是返回拷贝/新tensor，默认会跨所有维度，可以选定某两维展平（如flatten(0, 1)）。\n",
    "\n",
    "支持指定起止维度展开，是最通用且安全的方法。\n",
    "\n",
    "flatten() 不会出错，即使张量不连续。\n",
    "\n",
    "view(-1)\n",
    "必须保证张量是内存连续的，否则会报错（比如某些转置、切片操作后）。\n",
    "\n",
    "通常更快，因为不做数据拷贝，只是更改视图。\n",
    "\n",
    "需要时可以配合 .contiguous()。\n",
    "\n",
    "reshape(-1)\n",
    "更智能，优先尝试返回view（快），但如果不能则自动拷贝数据。\n",
    "\n",
    "用 reshape 一般不会报“contiguous”错，兼容性最好。"
   ]
  },
  {
   "cell_type": "code",
   "execution_count": 62,
   "id": "49f8d4ba",
   "metadata": {},
   "outputs": [],
   "source": [
    "# Listing 5.2 Function to compute the training and validation loss\n",
    "def calc_loss_loader(data_loader, model, device, num_batches=None):\n",
    "    total_loss = 0.\n",
    "    if len(data_loader) == 0:\n",
    "        return float(\"nan\")\n",
    "    elif num_batches is None:\n",
    "        num_batches = len(data_loader)                                    #A\n",
    "    else:\n",
    "        num_batches = min(num_batches, len(data_loader))                  #B\n",
    "    for i, (input_batch, target_batch) in enumerate(data_loader):\n",
    "        if i < num_batches:\n",
    "            loss = calc_loss_batch(input_batch, target_batch, model, device)\n",
    "            total_loss += loss.item()                                     #C\n",
    "        else:\n",
    "            break\n",
    "    return total_loss / num_batches                                       #D\n",
    "\n",
    "\n",
    "#A 如果没有指定批次数，将自动遍历所有批次\n",
    "#B 若批次数超过数据加载器的总批次数，则减少批次数使其与数据加载器的批次数相匹配\n",
    "#C 每个批次的损失求和\n",
    "#D 对所有批次的损失取平均值"
   ]
  },
  {
   "cell_type": "code",
   "execution_count": 63,
   "id": "bbaabb5b",
   "metadata": {},
   "outputs": [
    {
     "name": "stdout",
     "output_type": "stream",
     "text": [
      "Training loss: 24.42553424835205\n",
      "Validation loss: 24.09621810913086\n"
     ]
    }
   ],
   "source": [
    "device = torch.device(\"cuda\" if torch.cuda.is_available() else \"cpu\") #A\n",
    "model.to(device)\n",
    "with torch.no_grad():                                                 #B\n",
    "    train_loss = calc_loss_loader(train_loader, model, device)        #C\n",
    "    val_loss = calc_loss_loader(val_loader, model, device)\n",
    "print(\"Training loss:\", train_loss)\n",
    "print(\"Validation loss:\", val_loss)\n",
    "\n",
    "\n",
    "#A 如果你的设备配备了支持 CUDA 的 GPU，LLM 将自动在 GPU 上进行训练，无需更改代码\n",
    "#B 因为当前不在训练，为提高效率，关闭梯度跟踪\n",
    "#C 通过 device 设置确保数据与 LLM 模型加载到同一设备上"
   ]
  },
  {
   "cell_type": "markdown",
   "id": "4169076f",
   "metadata": {},
   "source": [
    "在这里出现了个问题，直接使用torch.tensor（）不能直接跟随to（device），如果要写能够跟随模型一起转移的变量，需要用 nn.Parameters / register_buffer 前者是需要被更新的，后者是不需要更新的参数"
   ]
  },
  {
   "cell_type": "markdown",
   "id": "eac470ec",
   "metadata": {},
   "source": [
    "## 5.2 训练 LLM"
   ]
  },
  {
   "cell_type": "code",
   "execution_count": 64,
   "id": "e0dbbea8",
   "metadata": {},
   "outputs": [
    {
     "data": {
      "text/plain": [
       "Embedding(256, 768)"
      ]
     },
     "execution_count": 64,
     "metadata": {},
     "output_type": "execute_result"
    }
   ],
   "source": [
    "model.pos_emb"
   ]
  },
  {
   "cell_type": "code",
   "execution_count": 65,
   "id": "0725b5b4",
   "metadata": {},
   "outputs": [],
   "source": [
    "def evaluate_model(model, train_loader, val_loader, device, eval_iter):\n",
    "    model.eval()                #A\n",
    "    with torch.no_grad():       #B\n",
    "        train_loss = calc_loss_loader(train_loader, model, device, num_batches=eval_iter)\n",
    "        val_loss = calc_loss_loader(val_loader, model, device, num_batches=eval_iter)\n",
    "    model.train()\n",
    "    return train_loss, val_loss\n",
    "\n",
    "#A 评估阶段禁用 dropout，以确保结果稳定、可复现\n",
    "#B 禁用梯度跟踪，减少计算开销"
   ]
  },
  {
   "cell_type": "code",
   "execution_count": 66,
   "id": "2af9a10e",
   "metadata": {},
   "outputs": [],
   "source": [
    "def generate_and_print_sample(model, tokenizer, device, start_context):\n",
    "    model.eval()\n",
    "    context_size = model.pos_emb.weight.shape[0]\n",
    "    encoded = text_to_token_ids(start_context, tokenizer).to(device)\n",
    "    with torch.no_grad():\n",
    "        token_ids = generate_text_simple(\n",
    "            model=model, idx=encoded,\n",
    "            max_new_tokens=50, context_size=context_size\n",
    "        )\n",
    "        decoded_text = token_ids_to_text(token_ids, tokenizer)\n",
    "        print(decoded_text.replace(\"\\n\", \" \")) # Compact print format\n",
    "    model.train()"
   ]
  },
  {
   "cell_type": "code",
   "execution_count": 67,
   "id": "49196e6c",
   "metadata": {},
   "outputs": [],
   "source": [
    "# Listing 5.3 The main function for pretraining LLMs\n",
    "def train_model_simple(model, train_loader, val_loader, optimizer, device, num_epochs,\n",
    "                       eval_freq, eval_iter, start_context, tokenizer):\n",
    "    train_losses, val_losses, track_tokens_seen = [], [], []                        #A\n",
    "    tokens_seen, global_step = 0, -1\n",
    "\n",
    "    for epoch in range(num_epochs):                                                 #B\n",
    "        model.train()\n",
    "        for input_batch, target_batch in train_loader:\n",
    "            optimizer.zero_grad()                                                   #C\n",
    "            loss = calc_loss_batch(input_batch, target_batch, model, device)\n",
    "            loss.backward()                                                         #D\n",
    "            optimizer.step()                                                        #E\n",
    "            tokens_seen += input_batch.numel()\n",
    "            global_step += 1\n",
    "\n",
    "            if global_step % eval_freq == 0:                                        #F\n",
    "                train_loss, val_loss = evaluate_model(\n",
    "                    model, train_loader, val_loader, device, eval_iter)\n",
    "                train_losses.append(train_loss)\n",
    "                val_losses.append(val_loss)\n",
    "                track_tokens_seen.append(tokens_seen)\n",
    "                print(f\"Ep {epoch+1} (Step {global_step:06d}): \"\n",
    "                      f\"Train loss {train_loss:.3f}, Val loss {val_loss:.3f}\")\n",
    "\n",
    "        generate_and_print_sample(                                                  #G\n",
    "            model, tokenizer, device, start_context\n",
    "        )\n",
    "    return train_losses, val_losses, track_tokens_seen\n",
    "\n",
    "\n",
    "#A 初始化用于记录损失和已处理 token 数量的列表\n",
    "#B 开始主训练循环\n",
    "#C 重置上一批次的损失梯度\n",
    "#D 计算损失梯度\n",
    "#E 使用损失梯度更新模型权重\n",
    "#F 可选的评估步骤\n",
    "#G 每个 epoch 结束后打印示例文本"
   ]
  },
  {
   "cell_type": "code",
   "execution_count": 68,
   "id": "9329a0d2",
   "metadata": {},
   "outputs": [],
   "source": [
    "tokenizer = tiktoken.encoding_for_model(\"gpt-2\")"
   ]
  },
  {
   "cell_type": "code",
   "execution_count": 69,
   "id": "62c4f08f",
   "metadata": {},
   "outputs": [
    {
     "name": "stdout",
     "output_type": "stream",
     "text": [
      "Ep 1 (Step 000000): Train loss 19.870, Val loss 19.592\n",
      "Every effort moves you,hs Vide Minnesota Minnesota Minnesota Minnesotaanova exquisiteす heavyanova prescriptions Pay Minnesota Minnesota Minnesota Minnesotaanovaす1968ixed,,,,hsNine Minnesota Minnesota Various Minnesota Minnesotaanova widespreadNinelarglargENN Various wherequs widespread Minnesota Minnesota del Various where, Minnesota\n",
      "Ep 2 (Step 000005): Train loss 12.498, Val loss 12.579\n",
      "Every effort moves you, GohanOWN charred 820 dentist widespreadbe,,, GohanOWN charred Thrvest charred mines schema endogenous widespreadalf,,,, ScenesconstOWN prescriptions Minimum schema mines schemaARGET Thr Scenes viewing incitingOWN tackling schema flight,,,)—)—)—ANK\n",
      "Ep 3 (Step 000010): Train loss 11.317, Val loss 11.479\n",
      "Every effort moves you, GohanYes University unsigned dentist forecasting you, Gohan penal Gohan forecasting Short viewing World Productionsolesterolalf,, Gohan Gohan nan vaccination the tail PastRecipe noticing)—astic transformed much schema mills sing viewing inciting UniversityRef REST Blade,)—asticac,)—)—\n",
      "Ep 4 (Step 000015): Train loss 10.871, Val loss 10.965\n",
      "Every effort moves you, GohanYes REDRef, Gohanaign408,, Gohan TED..408 SDK JR, civilization, Gohan Gohan.        attainment, Blade Gohan civilization .. asticedomRefRef attainment,)—)—)—.\n",
      "Every effort moves you, GohanYes RED Pay atomic the,,,,, TED. TED, UAE,,,, Gohan Gohan RED,,,--, civilization--,,, Gohan gobl,,,,,,,,,,,,, Gohan\n",
      "Ep 6 (Step 000020): Train loss 10.303, Val loss 10.595\n",
      "Every effort moves you, GohanYes RED GohanYes the,,,,, Stur mL openly Gohan naturally,,,, Gohan Gohan Minimum,,-- TED, civilization--,,, Gohan gobl,,,,, bureaucrats suggestion,,,,,,--\n",
      "Ep 7 (Step 000025): Train loss 10.055, Val loss 10.343\n",
      "Every effort moves you, GohanYes RED GohanYes the--,,--, Stur,--, naturally,, civilization, Gohan Gohan toys the the -- of a    bureaucrats,,,-- I,, bureaucrats,,,,,,,--\n",
      "Ep 8 (Step 000030): Train loss 9.691, Val loss 10.114\n",
      "Every effort moves you, GohanYes--,, Gohan--,,,,--,--,,,,,, Gohan Gohan--,,----,--,,,,,,,--,,, bureaucrats,,,,,,,--\n",
      "Ep 9 (Step 000035): Train loss 9.553, Val loss 9.922\n",
      "Every effort moves you, GohanYes--,, Gohan--,,,,,,--,,,,,, Gohan Gohan--,,----,--,,,, Gohan--,-- I,, bureaucrats,,,,,,,--\n",
      "Every effort moves you, GohanYes--,, Gohan--,,,, I,--,,,,,, Gohan Gohan--,,----,--,,,, Gohan--,-- I,, bureaucrats,,,,,,,--\n"
     ]
    }
   ],
   "source": [
    "torch.manual_seed(123)\n",
    "model = GPTModel(GPT_CONFIG_124M)\n",
    "model.to(device)\n",
    "optimizer = torch.optim.AdamW(model.parameters(), lr=0.00001, weight_decay=0.01)      #A\n",
    "num_epochs = 10\n",
    "train_losses, val_losses, tokens_seen = train_model_simple(\n",
    "    model, train_loader, val_loader, optimizer, device,\n",
    "    num_epochs=num_epochs, eval_freq=5, eval_iter=1,\n",
    "    start_context=\"Every effort moves you\", tokenizer=tokenizer\n",
    ")\n",
    "\n",
    "#A .parameters() 方法返回模型的所有可训练权重参数"
   ]
  },
  {
   "cell_type": "code",
   "execution_count": 70,
   "id": "62d38221",
   "metadata": {},
   "outputs": [
    {
     "data": {
      "image/png": "[encoded data removed]",
      "text/plain": [
       "<Figure size 500x300 with 2 Axes>"
      ]
     },
     "metadata": {},
     "output_type": "display_data"
    }
   ],
   "source": [
    "import matplotlib.pyplot as plt\n",
    "def plot_losses(epochs_seen, tokens_seen, train_losses, val_losses):\n",
    "    fig, ax1 = plt.subplots(figsize=(5, 3))\n",
    "    ax1.plot(epochs_seen, train_losses, label=\"Training loss\")\n",
    "    ax1.plot(epochs_seen, val_losses, linestyle=\"-.\", label=\"Validation loss\")\n",
    "    ax1.set_xlabel(\"Epochs\")\n",
    "    ax1.set_ylabel(\"Loss\")\n",
    "    ax1.legend(loc=\"upper right\")\n",
    "    ax2 = ax1.twiny() #A\n",
    "    ax2.plot(tokens_seen, train_losses, alpha=0) #B\n",
    "    ax2.set_xlabel(\"Tokens seen\")\n",
    "    fig.tight_layout()\n",
    "    plt.show()\n",
    "\n",
    "epochs_tensor = torch.linspace(0, num_epochs, len(train_losses))\n",
    "plot_losses(epochs_tensor, tokens_seen, train_losses, val_losses)\n",
    "\n",
    "#A 创建与 y 轴共用的第二个 x 轴\n",
    "#B 用于对齐刻度的隐藏图形"
   ]
  },
  {
   "cell_type": "code",
   "execution_count": 71,
   "id": "089850f1",
   "metadata": {},
   "outputs": [
    {
     "name": "stdout",
     "output_type": "stream",
     "text": [
      "tok_emb.weight: torch.Size([50257, 768])\n",
      "pos_emb.weight: torch.Size([256, 768])\n",
      "trf_blocks.0.att.queries.weight: torch.Size([768, 768])\n",
      "trf_blocks.0.att.keys.weight: torch.Size([768, 768])\n",
      "trf_blocks.0.att.values.weight: torch.Size([768, 768])\n",
      "trf_blocks.0.att.proj.weight: torch.Size([768, 768])\n",
      "trf_blocks.0.att.proj.bias: torch.Size([768])\n",
      "trf_blocks.0.ff.layers.0.0.weight: torch.Size([3072, 768])\n",
      "trf_blocks.0.ff.layers.0.0.bias: torch.Size([3072])\n",
      "trf_blocks.0.ff.layers.2.0.weight: torch.Size([768, 3072])\n",
      "trf_blocks.0.ff.layers.2.0.bias: torch.Size([768])\n",
      "trf_blocks.1.att.queries.weight: torch.Size([768, 768])\n",
      "trf_blocks.1.att.keys.weight: torch.Size([768, 768])\n",
      "trf_blocks.1.att.values.weight: torch.Size([768, 768])\n",
      "trf_blocks.1.att.proj.weight: torch.Size([768, 768])\n",
      "trf_blocks.1.att.proj.bias: torch.Size([768])\n",
      "trf_blocks.1.ff.layers.0.0.weight: torch.Size([3072, 768])\n",
      "trf_blocks.1.ff.layers.0.0.bias: torch.Size([3072])\n",
      "trf_blocks.1.ff.layers.2.0.weight: torch.Size([768, 3072])\n",
      "trf_blocks.1.ff.layers.2.0.bias: torch.Size([768])\n",
      "trf_blocks.2.att.queries.weight: torch.Size([768, 768])\n",
      "trf_blocks.2.att.keys.weight: torch.Size([768, 768])\n",
      "trf_blocks.2.att.values.weight: torch.Size([768, 768])\n",
      "trf_blocks.2.att.proj.weight: torch.Size([768, 768])\n",
      "trf_blocks.2.att.proj.bias: torch.Size([768])\n",
      "trf_blocks.2.ff.layers.0.0.weight: torch.Size([3072, 768])\n",
      "trf_blocks.2.ff.layers.0.0.bias: torch.Size([3072])\n",
      "trf_blocks.2.ff.layers.2.0.weight: torch.Size([768, 3072])\n",
      "trf_blocks.2.ff.layers.2.0.bias: torch.Size([768])\n",
      "trf_blocks.3.att.queries.weight: torch.Size([768, 768])\n",
      "trf_blocks.3.att.keys.weight: torch.Size([768, 768])\n",
      "trf_blocks.3.att.values.weight: torch.Size([768, 768])\n",
      "trf_blocks.3.att.proj.weight: torch.Size([768, 768])\n",
      "trf_blocks.3.att.proj.bias: torch.Size([768])\n",
      "trf_blocks.3.ff.layers.0.0.weight: torch.Size([3072, 768])\n",
      "trf_blocks.3.ff.layers.0.0.bias: torch.Size([3072])\n",
      "trf_blocks.3.ff.layers.2.0.weight: torch.Size([768, 3072])\n",
      "trf_blocks.3.ff.layers.2.0.bias: torch.Size([768])\n",
      "trf_blocks.4.att.queries.weight: torch.Size([768, 768])\n",
      "trf_blocks.4.att.keys.weight: torch.Size([768, 768])\n",
      "trf_blocks.4.att.values.weight: torch.Size([768, 768])\n",
      "trf_blocks.4.att.proj.weight: torch.Size([768, 768])\n",
      "trf_blocks.4.att.proj.bias: torch.Size([768])\n",
      "trf_blocks.4.ff.layers.0.0.weight: torch.Size([3072, 768])\n",
      "trf_blocks.4.ff.layers.0.0.bias: torch.Size([3072])\n",
      "trf_blocks.4.ff.layers.2.0.weight: torch.Size([768, 3072])\n",
      "trf_blocks.4.ff.layers.2.0.bias: torch.Size([768])\n",
      "trf_blocks.5.att.queries.weight: torch.Size([768, 768])\n",
      "trf_blocks.5.att.keys.weight: torch.Size([768, 768])\n",
      "trf_blocks.5.att.values.weight: torch.Size([768, 768])\n",
      "trf_blocks.5.att.proj.weight: torch.Size([768, 768])\n",
      "trf_blocks.5.att.proj.bias: torch.Size([768])\n",
      "trf_blocks.5.ff.layers.0.0.weight: torch.Size([3072, 768])\n",
      "trf_blocks.5.ff.layers.0.0.bias: torch.Size([3072])\n",
      "trf_blocks.5.ff.layers.2.0.weight: torch.Size([768, 3072])\n",
      "trf_blocks.5.ff.layers.2.0.bias: torch.Size([768])\n",
      "trf_blocks.6.att.queries.weight: torch.Size([768, 768])\n",
      "trf_blocks.6.att.keys.weight: torch.Size([768, 768])\n",
      "trf_blocks.6.att.values.weight: torch.Size([768, 768])\n",
      "trf_blocks.6.att.proj.weight: torch.Size([768, 768])\n",
      "trf_blocks.6.att.proj.bias: torch.Size([768])\n",
      "trf_blocks.6.ff.layers.0.0.weight: torch.Size([3072, 768])\n",
      "trf_blocks.6.ff.layers.0.0.bias: torch.Size([3072])\n",
      "trf_blocks.6.ff.layers.2.0.weight: torch.Size([768, 3072])\n",
      "trf_blocks.6.ff.layers.2.0.bias: torch.Size([768])\n",
      "trf_blocks.7.att.queries.weight: torch.Size([768, 768])\n",
      "trf_blocks.7.att.keys.weight: torch.Size([768, 768])\n",
      "trf_blocks.7.att.values.weight: torch.Size([768, 768])\n",
      "trf_blocks.7.att.proj.weight: torch.Size([768, 768])\n",
      "trf_blocks.7.att.proj.bias: torch.Size([768])\n",
      "trf_blocks.7.ff.layers.0.0.weight: torch.Size([3072, 768])\n",
      "trf_blocks.7.ff.layers.0.0.bias: torch.Size([3072])\n",
      "trf_blocks.7.ff.layers.2.0.weight: torch.Size([768, 3072])\n",
      "trf_blocks.7.ff.layers.2.0.bias: torch.Size([768])\n",
      "trf_blocks.8.att.queries.weight: torch.Size([768, 768])\n",
      "trf_blocks.8.att.keys.weight: torch.Size([768, 768])\n",
      "trf_blocks.8.att.values.weight: torch.Size([768, 768])\n",
      "trf_blocks.8.att.proj.weight: torch.Size([768, 768])\n",
      "trf_blocks.8.att.proj.bias: torch.Size([768])\n",
      "trf_blocks.8.ff.layers.0.0.weight: torch.Size([3072, 768])\n",
      "trf_blocks.8.ff.layers.0.0.bias: torch.Size([3072])\n",
      "trf_blocks.8.ff.layers.2.0.weight: torch.Size([768, 3072])\n",
      "trf_blocks.8.ff.layers.2.0.bias: torch.Size([768])\n",
      "trf_blocks.9.att.queries.weight: torch.Size([768, 768])\n",
      "trf_blocks.9.att.keys.weight: torch.Size([768, 768])\n",
      "trf_blocks.9.att.values.weight: torch.Size([768, 768])\n",
      "trf_blocks.9.att.proj.weight: torch.Size([768, 768])\n",
      "trf_blocks.9.att.proj.bias: torch.Size([768])\n",
      "trf_blocks.9.ff.layers.0.0.weight: torch.Size([3072, 768])\n",
      "trf_blocks.9.ff.layers.0.0.bias: torch.Size([3072])\n",
      "trf_blocks.9.ff.layers.2.0.weight: torch.Size([768, 3072])\n",
      "trf_blocks.9.ff.layers.2.0.bias: torch.Size([768])\n",
      "trf_blocks.10.att.queries.weight: torch.Size([768, 768])\n",
      "trf_blocks.10.att.keys.weight: torch.Size([768, 768])\n",
      "trf_blocks.10.att.values.weight: torch.Size([768, 768])\n",
      "trf_blocks.10.att.proj.weight: torch.Size([768, 768])\n",
      "trf_blocks.10.att.proj.bias: torch.Size([768])\n",
      "trf_blocks.10.ff.layers.0.0.weight: torch.Size([3072, 768])\n",
      "trf_blocks.10.ff.layers.0.0.bias: torch.Size([3072])\n",
      "trf_blocks.10.ff.layers.2.0.weight: torch.Size([768, 3072])\n",
      "trf_blocks.10.ff.layers.2.0.bias: torch.Size([768])\n",
      "trf_blocks.11.att.queries.weight: torch.Size([768, 768])\n",
      "trf_blocks.11.att.keys.weight: torch.Size([768, 768])\n",
      "trf_blocks.11.att.values.weight: torch.Size([768, 768])\n",
      "trf_blocks.11.att.proj.weight: torch.Size([768, 768])\n",
      "trf_blocks.11.att.proj.bias: torch.Size([768])\n",
      "trf_blocks.11.ff.layers.0.0.weight: torch.Size([3072, 768])\n",
      "trf_blocks.11.ff.layers.0.0.bias: torch.Size([3072])\n",
      "trf_blocks.11.ff.layers.2.0.weight: torch.Size([768, 3072])\n",
      "trf_blocks.11.ff.layers.2.0.bias: torch.Size([768])\n",
      "out_head.weight: torch.Size([50257, 768])\n"
     ]
    }
   ],
   "source": [
    "for name, param in model.named_parameters():\n",
    "    print(f\"{name}: {param.shape}\")\n"
   ]
  },
  {
   "cell_type": "markdown",
   "id": "aad2f71c",
   "metadata": {},
   "source": [
    "## 5.3 通过解码策略控制生成结果的随机性"
   ]
  },
  {
   "cell_type": "code",
   "execution_count": 72,
   "id": "b779af30",
   "metadata": {},
   "outputs": [
    {
     "name": "stdout",
     "output_type": "stream",
     "text": [
      "Output text:\n",
      " Every effort moves you, GohanYes--,, Gohan--,,,, I,--,,,,,, Gohan Gohan--,\n"
     ]
    }
   ],
   "source": [
    "model.to(\"cpu\")\n",
    "model.eval()\n",
    "tokenizer = tiktoken.get_encoding(\"gpt2\")\n",
    "token_ids = generate_text_simple(\n",
    "    model=model,\n",
    "    idx=text_to_token_ids(\"Every effort moves you\", tokenizer),\n",
    "    max_new_tokens=25,\n",
    "    context_size=GPT_CONFIG_124M[\"context_length\"]\n",
    ")\n",
    "print(\"Output text:\\n\", token_ids_to_text(token_ids, tokenizer))"
   ]
  },
  {
   "cell_type": "code",
   "execution_count": 73,
   "id": "1c42c13a",
   "metadata": {},
   "outputs": [
    {
     "name": "stdout",
     "output_type": "stream",
     "text": [
      "forward\n"
     ]
    }
   ],
   "source": [
    "vocab = {\n",
    "    \"closer\": 0,\n",
    "    \"every\": 1,\n",
    "    \"effort\": 2,\n",
    "    \"forward\": 3,\n",
    "    \"inches\": 4,\n",
    "    \"moves\": 5,\n",
    "    \"pizza\": 6,\n",
    "    \"toward\": 7,\n",
    "    \"you\": 8,\n",
    "}\n",
    "inverse_vocab = {v: k for k, v in vocab.items()}\n",
    "\n",
    "next_token_logits = torch.tensor(\n",
    "    [4.51, 0.89, -1.90, 6.75, 1.63, -1.62, -1.89, 6.28, 1.79]\n",
    ")\n",
    "\n",
    "probas = torch.softmax(next_token_logits, dim=0)\n",
    "next_token_id = torch.argmax(probas).item()\n",
    "# argmax 返回最大值位置的張量\n",
    "# .item() 用于把只包含一个数值的张量（tensor）转换为普通的 Python 数值类型\n",
    "# （比如 int 或 float）。\n",
    "print(inverse_vocab[next_token_id])"
   ]
  },
  {
   "cell_type": "code",
   "execution_count": 74,
   "id": "635a7769",
   "metadata": {},
   "outputs": [
    {
     "name": "stdout",
     "output_type": "stream",
     "text": [
      "toward\n"
     ]
    }
   ],
   "source": [
    "torch.manual_seed(123)\n",
    "next_token_id = torch.multinomial(probas, num_samples=1).item()\n",
    "print(inverse_vocab[next_token_id])"
   ]
  },
  {
   "cell_type": "code",
   "execution_count": 75,
   "id": "2f243f96",
   "metadata": {},
   "outputs": [
    {
     "name": "stdout",
     "output_type": "stream",
     "text": [
      "71 x closer\n",
      "2 x every\n",
      "0 x effort\n",
      "544 x forward\n",
      "2 x inches\n",
      "1 x moves\n",
      "0 x pizza\n",
      "376 x toward\n",
      "4 x you\n"
     ]
    }
   ],
   "source": [
    "def print_sampled_tokens(probas):\n",
    "    torch.manual_seed(123)\n",
    "    sample = [torch.multinomial(probas, num_samples=1).item() for i in range(1_000)]\n",
    "    sampled_ids = torch.bincount(torch.tensor(sample))\n",
    "    for i, freq in enumerate(sampled_ids):\n",
    "        print(f\"{freq} x {inverse_vocab[i]}\")\n",
    "print_sampled_tokens(probas)"
   ]
  },
  {
   "cell_type": "markdown",
   "id": "4510a8fe",
   "metadata": {},
   "source": [
    "采样只能选取大于0的数"
   ]
  },
  {
   "cell_type": "markdown",
   "id": "07e6ca58",
   "metadata": {},
   "source": [
    "torch.multinomial(input, num_samples, replacement=False, *, generator=None, out=None)\n",
    "\n",
    "input: 一维/二维 tensor，每个元素是权重（可不是概率，但都应≥0，不能全为0）。\n",
    "\n",
    "num_samples: 采样个数。\n",
    "\n",
    "replacement: 是否有放回采样（默认False）。True时每次都可被选，False时每次选中后不能再次被选。\n",
    "\n",
    "返回值：shape为 [num_samples] 的 LongTensor，元素是下标。\n",
    "\n",
    "import torch\n",
    "weights = torch.tensor([0.1, 0.2, 0.7])\n",
    "samples = torch.multinomial(weights, 5, replacement=True)\n",
    "print(samples)\n",
    "结果可能是：tensor([2, 1, 2, 2, 0])\n",
    "\n",
    "2 被选中的概率最大（0.7），所以很可能多次被选中。"
   ]
  },
  {
   "cell_type": "markdown",
   "id": "52e334d8",
   "metadata": {},
   "source": [
    "\n",
    "torch.bincount(arr)：统计一维整数 tensor 每个可能取值的出现次数（频率）。\n",
    "\n",
    "输入如 [2, 1, 2, 2, 0, 1]\n",
    "\n",
    "返回 [1, 2, 3]\n",
    "\n",
    "0出现1次，1出现2次，2出现3次。\n",
    "\n",
    "和 numpy.bincount 类似，是高效计数统计工具（只能用于非负整数）"
   ]
  },
  {
   "cell_type": "code",
   "execution_count": 76,
   "id": "8e570e2d",
   "metadata": {},
   "outputs": [
    {
     "data": {
      "text/plain": [
       "(tensor([[[  7.0587,  -3.2935, -13.1793,  ...,   2.9044,   3.7385,   8.4152],\n",
       "          [  4.0956,  -5.2586, -13.6300,  ...,   2.8654,   3.5133,   8.8506],\n",
       "          [  5.3851,  -6.1039, -11.4961,  ...,   3.3582,   5.0339,   7.4872]],\n",
       " \n",
       "         [[  3.5163,  -0.4896, -11.9791,  ...,  -0.7037,   6.5363,   9.6311],\n",
       "          [  5.1303,  -0.9495, -12.8363,  ...,   1.1346,   6.3823,   8.0247],\n",
       "          [  6.9907,  -0.9637,  -9.4921,  ...,  -0.7716,   7.9530,   7.7548]]]),\n",
       " torch.Size([2, 3, 50257]))"
      ]
     },
     "execution_count": 76,
     "metadata": {},
     "output_type": "execute_result"
    }
   ],
   "source": [
    "logits,logits.shape"
   ]
  },
  {
   "cell_type": "code",
   "execution_count": 77,
   "id": "5d271ae0",
   "metadata": {},
   "outputs": [
    {
     "data": {
      "image/png": "[encoded data removed]",
      "text/plain": [
       "<Figure size 500x300 with 1 Axes>"
      ]
     },
     "metadata": {},
     "output_type": "display_data"
    }
   ],
   "source": [
    "def softmax_with_temperature(logits, temperature):\n",
    "    scaled_logits = logits / temperature\n",
    "    return torch.softmax(scaled_logits, dim=0)\n",
    "#Temperatures greater than 1 result in more uniformly distributed token probabilities, and Temperatures smaller than 1 will result in more confident (sharper or more peaky) distributions. Let's illustrate this by plotting the original probabilities alongside probabilities scaled with different temperature values:\n",
    "temperatures = [1, 0.1, 5]             #A\n",
    "scaled_probas = [softmax_with_temperature(next_token_logits, T) for T in temperatures]\n",
    "x = torch.arange(len(vocab))\n",
    "bar_width = 0.15\n",
    "fig, ax = plt.subplots(figsize=(5, 3))\n",
    "for i, T in enumerate(temperatures):\n",
    "    rects = ax.bar(x + i * bar_width, scaled_probas[i],\n",
    "                   bar_width, label=f'Temperature = {T}')\n",
    "ax.set_ylabel('Probability')\n",
    "ax.set_xticks(x)\n",
    "ax.set_xticklabels(vocab.keys(), rotation=90)\n",
    "ax.legend()\n",
    "plt.tight_layout()\n",
    "plt.show()\n",
    "\n",
    "#A 原始、较低和较高置信度\n",
    "\n",
    "# 其中 temperature 默认为 1。\n",
    "# temperature < 1：分母变小，softmax 更“激进”，\n",
    "# 概率分布更加尖锐，最大概率的 token 更容易被选中（更“自信”）。\n",
    "# temperature > 1：分母变大，softmax 更“温和”，\n",
    "# 概率分布更平缓，各 token 被采样的概率差距缩小，生成内容更加多样、更加“随机”。\n",
    "## 较高的 temperature 值会使下一词的概率分布更均匀，\n",
    "# 从而降低模型反复选择最可能词的概率，这样可以生成更多样化的内容"
   ]
  },
  {
   "cell_type": "markdown",
   "id": "8998204b",
   "metadata": {},
   "source": [
    "在 top-k 采样中，我们可以将采样限制在最有可能的前 k 个 token 内，并通过将其他 token 的概率设为零，将它们排除在选择之外"
   ]
  },
  {
   "cell_type": "code",
   "execution_count": 78,
   "id": "544f1afe",
   "metadata": {},
   "outputs": [
    {
     "name": "stdout",
     "output_type": "stream",
     "text": [
      "Top logits: tensor([6.7500, 6.2800, 4.5100])\n",
      "Top positions: tensor([3, 7, 0])\n"
     ]
    }
   ],
   "source": [
    "top_k = 3\n",
    "top_k = 3\n",
    "top_logits, top_pos = torch.topk(next_token_logits, top_k)\n",
    "print(\"Top logits:\", top_logits)\n",
    "print(\"Top positions:\", top_pos)"
   ]
  },
  {
   "cell_type": "code",
   "execution_count": 79,
   "id": "991733bb",
   "metadata": {},
   "outputs": [
    {
     "name": "stdout",
     "output_type": "stream",
     "text": [
      "tensor([4.5100,   -inf,   -inf, 6.7500,   -inf,   -inf,   -inf, 6.2800,   -inf])\n"
     ]
    }
   ],
   "source": [
    "new_logits = torch.where(\n",
    "    condition=next_token_logits < top_logits[-1],   #A\n",
    "    input=torch.tensor(float('-inf'),device = next_token_logits.device),              #B\n",
    "    other=next_token_logits                         #C\n",
    ")# 如果A成立，那么就是input，否则就是other\n",
    "print(new_logits)\n",
    "\n",
    "#A 识别出小于 top 3 最小值的 logits\n",
    "#B 将这些较小的 logits 赋值为负无穷大\n",
    "#C 保留所有其他 token 的原始 logits"
   ]
  },
  {
   "cell_type": "code",
   "execution_count": 80,
   "id": "4d1b091a",
   "metadata": {},
   "outputs": [
    {
     "data": {
      "text/plain": [
       "tensor([0.0615, 0.0000, 0.0000, 0.5775, 0.0000, 0.0000, 0.0000, 0.3610, 0.0000])"
      ]
     },
     "execution_count": 80,
     "metadata": {},
     "output_type": "execute_result"
    }
   ],
   "source": [
    "topk_probas = torch.softmax(new_logits,dim=0)\n",
    "topk_probas"
   ]
  },
  {
   "cell_type": "markdown",
   "id": "d9966d6b",
   "metadata": {},
   "source": [
    "### 5.3.3 对文本生成函数进行调整"
   ]
  },
  {
   "cell_type": "code",
   "execution_count": 81,
   "id": "fcabd71b",
   "metadata": {},
   "outputs": [],
   "source": [
    "# Listing 5.4 A modified text generation function with more diversity\n",
    "def generate(model, idx, max_new_tokens, context_size,\n",
    "             temperature=1.0, top_k=None, eos_id=None):\n",
    "    for _ in range(max_new_tokens):                             #A\n",
    "        idx_cond = idx[:, -context_size:]\n",
    "        with torch.no_grad():\n",
    "            logits = model(idx_cond)\n",
    "        logits = logits[:, -1, :]\n",
    "        if top_k is not None:                                   #B\n",
    "            top_logits, _ = torch.topk(logits, top_k)\n",
    "            min_val = top_logits[:, -1]\n",
    "            logits = torch.where(\n",
    "                logits < min_val,\n",
    "                torch.tensor(float('-inf')).to(logits.device),\n",
    "                logits\n",
    "            )\n",
    "\n",
    "        if temperature > 0.0:                                       #C\n",
    "            logits = logits / temperature\n",
    "            probs = torch.softmax(logits, dim=-1)\n",
    "            idx_next = torch.multinomial(probs, num_samples=1)\n",
    "        else:                                                       #D\n",
    "            idx_next = torch.argmax(logits, dim=-1, keepdim=True)\n",
    "        if idx_next == eos_id:                                      #E\n",
    "            break\n",
    "        idx = torch.cat((idx, idx_next), dim=1)\n",
    "    return idx\n",
    "\n",
    "\n",
    "#A For循环与之前相同：获取logits，仅关注最后的时间步\n",
    "#B 在新步骤中，通过top-k采样过滤logits\n",
    "#C 在新步骤中应用temperature scaling\n",
    "#D 在未使用temperature scaling时，执行贪婪的下一个token选择\n",
    "#E 如果遇到序列结束token且指定了eos_id，则提前停止生成"
   ]
  },
  {
   "cell_type": "code",
   "execution_count": 82,
   "id": "e1495a5f",
   "metadata": {},
   "outputs": [
    {
     "name": "stdout",
     "output_type": "stream",
     "text": [
      "Output text:\n",
      " Every effort moves you, the a browserACK, a Iretchedestonesra, Gohan Gohan.\n"
     ]
    }
   ],
   "source": [
    "torch.manual_seed(123)\n",
    "token_ids = generate(\n",
    "    model=model,\n",
    "    idx=text_to_token_ids(\"Every effort moves you\", tokenizer),\n",
    "    max_new_tokens=15,\n",
    "    context_size=GPT_CONFIG_124M[\"context_length\"],\n",
    "    top_k=25,\n",
    "    temperature=1.4\n",
    ")\n",
    "print(\"Output text:\\n\", token_ids_to_text(token_ids, tokenizer))"
   ]
  },
  {
   "cell_type": "code",
   "execution_count": 83,
   "id": "cb9ff16c",
   "metadata": {},
   "outputs": [],
   "source": [
    "torch.save(model.state_dict(),\"model.pth\")"
   ]
  },
  {
   "cell_type": "code",
   "execution_count": 84,
   "id": "870668b0",
   "metadata": {},
   "outputs": [
    {
     "data": {
      "text/plain": [
       "GPTModel(\n",
       "  (tok_emb): Embedding(50257, 768)\n",
       "  (pos_emb): Embedding(256, 768)\n",
       "  (drop_emb): Dropout(p=0.1, inplace=False)\n",
       "  (trf_blocks): Sequential(\n",
       "    (0): TransformerBlock(\n",
       "      (att): MultiHeadAttention(\n",
       "        (queries): Linear(in_features=768, out_features=768, bias=False)\n",
       "        (keys): Linear(in_features=768, out_features=768, bias=False)\n",
       "        (values): Linear(in_features=768, out_features=768, bias=False)\n",
       "        (proj): Linear(in_features=768, out_features=768, bias=True)\n",
       "        (dropout): Dropout(p=0.1, inplace=False)\n",
       "      )\n",
       "      (ff): FeedForward(\n",
       "        (layers): ModuleList(\n",
       "          (0): Sequential(\n",
       "            (0): Linear(in_features=768, out_features=3072, bias=True)\n",
       "          )\n",
       "          (1): GELU()\n",
       "          (2): Sequential(\n",
       "            (0): Linear(in_features=3072, out_features=768, bias=True)\n",
       "          )\n",
       "        )\n",
       "      )\n",
       "      (norm1): LayerNorm()\n",
       "      (norm2): LayerNorm()\n",
       "      (drop_shotcut): Dropout(p=0.1, inplace=False)\n",
       "    )\n",
       "    (1): TransformerBlock(\n",
       "      (att): MultiHeadAttention(\n",
       "        (queries): Linear(in_features=768, out_features=768, bias=False)\n",
       "        (keys): Linear(in_features=768, out_features=768, bias=False)\n",
       "        (values): Linear(in_features=768, out_features=768, bias=False)\n",
       "        (proj): Linear(in_features=768, out_features=768, bias=True)\n",
       "        (dropout): Dropout(p=0.1, inplace=False)\n",
       "      )\n",
       "      (ff): FeedForward(\n",
       "        (layers): ModuleList(\n",
       "          (0): Sequential(\n",
       "            (0): Linear(in_features=768, out_features=3072, bias=True)\n",
       "          )\n",
       "          (1): GELU()\n",
       "          (2): Sequential(\n",
       "            (0): Linear(in_features=3072, out_features=768, bias=True)\n",
       "          )\n",
       "        )\n",
       "      )\n",
       "      (norm1): LayerNorm()\n",
       "      (norm2): LayerNorm()\n",
       "      (drop_shotcut): Dropout(p=0.1, inplace=False)\n",
       "    )\n",
       "    (2): TransformerBlock(\n",
       "      (att): MultiHeadAttention(\n",
       "        (queries): Linear(in_features=768, out_features=768, bias=False)\n",
       "        (keys): Linear(in_features=768, out_features=768, bias=False)\n",
       "        (values): Linear(in_features=768, out_features=768, bias=False)\n",
       "        (proj): Linear(in_features=768, out_features=768, bias=True)\n",
       "        (dropout): Dropout(p=0.1, inplace=False)\n",
       "      )\n",
       "      (ff): FeedForward(\n",
       "        (layers): ModuleList(\n",
       "          (0): Sequential(\n",
       "            (0): Linear(in_features=768, out_features=3072, bias=True)\n",
       "          )\n",
       "          (1): GELU()\n",
       "          (2): Sequential(\n",
       "            (0): Linear(in_features=3072, out_features=768, bias=True)\n",
       "          )\n",
       "        )\n",
       "      )\n",
       "      (norm1): LayerNorm()\n",
       "      (norm2): LayerNorm()\n",
       "      (drop_shotcut): Dropout(p=0.1, inplace=False)\n",
       "    )\n",
       "    (3): TransformerBlock(\n",
       "      (att): MultiHeadAttention(\n",
       "        (queries): Linear(in_features=768, out_features=768, bias=False)\n",
       "        (keys): Linear(in_features=768, out_features=768, bias=False)\n",
       "        (values): Linear(in_features=768, out_features=768, bias=False)\n",
       "        (proj): Linear(in_features=768, out_features=768, bias=True)\n",
       "        (dropout): Dropout(p=0.1, inplace=False)\n",
       "      )\n",
       "      (ff): FeedForward(\n",
       "        (layers): ModuleList(\n",
       "          (0): Sequential(\n",
       "            (0): Linear(in_features=768, out_features=3072, bias=True)\n",
       "          )\n",
       "          (1): GELU()\n",
       "          (2): Sequential(\n",
       "            (0): Linear(in_features=3072, out_features=768, bias=True)\n",
       "          )\n",
       "        )\n",
       "      )\n",
       "      (norm1): LayerNorm()\n",
       "      (norm2): LayerNorm()\n",
       "      (drop_shotcut): Dropout(p=0.1, inplace=False)\n",
       "    )\n",
       "    (4): TransformerBlock(\n",
       "      (att): MultiHeadAttention(\n",
       "        (queries): Linear(in_features=768, out_features=768, bias=False)\n",
       "        (keys): Linear(in_features=768, out_features=768, bias=False)\n",
       "        (values): Linear(in_features=768, out_features=768, bias=False)\n",
       "        (proj): Linear(in_features=768, out_features=768, bias=True)\n",
       "        (dropout): Dropout(p=0.1, inplace=False)\n",
       "      )\n",
       "      (ff): FeedForward(\n",
       "        (layers): ModuleList(\n",
       "          (0): Sequential(\n",
       "            (0): Linear(in_features=768, out_features=3072, bias=True)\n",
       "          )\n",
       "          (1): GELU()\n",
       "          (2): Sequential(\n",
       "            (0): Linear(in_features=3072, out_features=768, bias=True)\n",
       "          )\n",
       "        )\n",
       "      )\n",
       "      (norm1): LayerNorm()\n",
       "      (norm2): LayerNorm()\n",
       "      (drop_shotcut): Dropout(p=0.1, inplace=False)\n",
       "    )\n",
       "    (5): TransformerBlock(\n",
       "      (att): MultiHeadAttention(\n",
       "        (queries): Linear(in_features=768, out_features=768, bias=False)\n",
       "        (keys): Linear(in_features=768, out_features=768, bias=False)\n",
       "        (values): Linear(in_features=768, out_features=768, bias=False)\n",
       "        (proj): Linear(in_features=768, out_features=768, bias=True)\n",
       "        (dropout): Dropout(p=0.1, inplace=False)\n",
       "      )\n",
       "      (ff): FeedForward(\n",
       "        (layers): ModuleList(\n",
       "          (0): Sequential(\n",
       "            (0): Linear(in_features=768, out_features=3072, bias=True)\n",
       "          )\n",
       "          (1): GELU()\n",
       "          (2): Sequential(\n",
       "            (0): Linear(in_features=3072, out_features=768, bias=True)\n",
       "          )\n",
       "        )\n",
       "      )\n",
       "      (norm1): LayerNorm()\n",
       "      (norm2): LayerNorm()\n",
       "      (drop_shotcut): Dropout(p=0.1, inplace=False)\n",
       "    )\n",
       "    (6): TransformerBlock(\n",
       "      (att): MultiHeadAttention(\n",
       "        (queries): Linear(in_features=768, out_features=768, bias=False)\n",
       "        (keys): Linear(in_features=768, out_features=768, bias=False)\n",
       "        (values): Linear(in_features=768, out_features=768, bias=False)\n",
       "        (proj): Linear(in_features=768, out_features=768, bias=True)\n",
       "        (dropout): Dropout(p=0.1, inplace=False)\n",
       "      )\n",
       "      (ff): FeedForward(\n",
       "        (layers): ModuleList(\n",
       "          (0): Sequential(\n",
       "            (0): Linear(in_features=768, out_features=3072, bias=True)\n",
       "          )\n",
       "          (1): GELU()\n",
       "          (2): Sequential(\n",
       "            (0): Linear(in_features=3072, out_features=768, bias=True)\n",
       "          )\n",
       "        )\n",
       "      )\n",
       "      (norm1): LayerNorm()\n",
       "      (norm2): LayerNorm()\n",
       "      (drop_shotcut): Dropout(p=0.1, inplace=False)\n",
       "    )\n",
       "    (7): TransformerBlock(\n",
       "      (att): MultiHeadAttention(\n",
       "        (queries): Linear(in_features=768, out_features=768, bias=False)\n",
       "        (keys): Linear(in_features=768, out_features=768, bias=False)\n",
       "        (values): Linear(in_features=768, out_features=768, bias=False)\n",
       "        (proj): Linear(in_features=768, out_features=768, bias=True)\n",
       "        (dropout): Dropout(p=0.1, inplace=False)\n",
       "      )\n",
       "      (ff): FeedForward(\n",
       "        (layers): ModuleList(\n",
       "          (0): Sequential(\n",
       "            (0): Linear(in_features=768, out_features=3072, bias=True)\n",
       "          )\n",
       "          (1): GELU()\n",
       "          (2): Sequential(\n",
       "            (0): Linear(in_features=3072, out_features=768, bias=True)\n",
       "          )\n",
       "        )\n",
       "      )\n",
       "      (norm1): LayerNorm()\n",
       "      (norm2): LayerNorm()\n",
       "      (drop_shotcut): Dropout(p=0.1, inplace=False)\n",
       "    )\n",
       "    (8): TransformerBlock(\n",
       "      (att): MultiHeadAttention(\n",
       "        (queries): Linear(in_features=768, out_features=768, bias=False)\n",
       "        (keys): Linear(in_features=768, out_features=768, bias=False)\n",
       "        (values): Linear(in_features=768, out_features=768, bias=False)\n",
       "        (proj): Linear(in_features=768, out_features=768, bias=True)\n",
       "        (dropout): Dropout(p=0.1, inplace=False)\n",
       "      )\n",
       "      (ff): FeedForward(\n",
       "        (layers): ModuleList(\n",
       "          (0): Sequential(\n",
       "            (0): Linear(in_features=768, out_features=3072, bias=True)\n",
       "          )\n",
       "          (1): GELU()\n",
       "          (2): Sequential(\n",
       "            (0): Linear(in_features=3072, out_features=768, bias=True)\n",
       "          )\n",
       "        )\n",
       "      )\n",
       "      (norm1): LayerNorm()\n",
       "      (norm2): LayerNorm()\n",
       "      (drop_shotcut): Dropout(p=0.1, inplace=False)\n",
       "    )\n",
       "    (9): TransformerBlock(\n",
       "      (att): MultiHeadAttention(\n",
       "        (queries): Linear(in_features=768, out_features=768, bias=False)\n",
       "        (keys): Linear(in_features=768, out_features=768, bias=False)\n",
       "        (values): Linear(in_features=768, out_features=768, bias=False)\n",
       "        (proj): Linear(in_features=768, out_features=768, bias=True)\n",
       "        (dropout): Dropout(p=0.1, inplace=False)\n",
       "      )\n",
       "      (ff): FeedForward(\n",
       "        (layers): ModuleList(\n",
       "          (0): Sequential(\n",
       "            (0): Linear(in_features=768, out_features=3072, bias=True)\n",
       "          )\n",
       "          (1): GELU()\n",
       "          (2): Sequential(\n",
       "            (0): Linear(in_features=3072, out_features=768, bias=True)\n",
       "          )\n",
       "        )\n",
       "      )\n",
       "      (norm1): LayerNorm()\n",
       "      (norm2): LayerNorm()\n",
       "      (drop_shotcut): Dropout(p=0.1, inplace=False)\n",
       "    )\n",
       "    (10): TransformerBlock(\n",
       "      (att): MultiHeadAttention(\n",
       "        (queries): Linear(in_features=768, out_features=768, bias=False)\n",
       "        (keys): Linear(in_features=768, out_features=768, bias=False)\n",
       "        (values): Linear(in_features=768, out_features=768, bias=False)\n",
       "        (proj): Linear(in_features=768, out_features=768, bias=True)\n",
       "        (dropout): Dropout(p=0.1, inplace=False)\n",
       "      )\n",
       "      (ff): FeedForward(\n",
       "        (layers): ModuleList(\n",
       "          (0): Sequential(\n",
       "            (0): Linear(in_features=768, out_features=3072, bias=True)\n",
       "          )\n",
       "          (1): GELU()\n",
       "          (2): Sequential(\n",
       "            (0): Linear(in_features=3072, out_features=768, bias=True)\n",
       "          )\n",
       "        )\n",
       "      )\n",
       "      (norm1): LayerNorm()\n",
       "      (norm2): LayerNorm()\n",
       "      (drop_shotcut): Dropout(p=0.1, inplace=False)\n",
       "    )\n",
       "    (11): TransformerBlock(\n",
       "      (att): MultiHeadAttention(\n",
       "        (queries): Linear(in_features=768, out_features=768, bias=False)\n",
       "        (keys): Linear(in_features=768, out_features=768, bias=False)\n",
       "        (values): Linear(in_features=768, out_features=768, bias=False)\n",
       "        (proj): Linear(in_features=768, out_features=768, bias=True)\n",
       "        (dropout): Dropout(p=0.1, inplace=False)\n",
       "      )\n",
       "      (ff): FeedForward(\n",
       "        (layers): ModuleList(\n",
       "          (0): Sequential(\n",
       "            (0): Linear(in_features=768, out_features=3072, bias=True)\n",
       "          )\n",
       "          (1): GELU()\n",
       "          (2): Sequential(\n",
       "            (0): Linear(in_features=3072, out_features=768, bias=True)\n",
       "          )\n",
       "        )\n",
       "      )\n",
       "      (norm1): LayerNorm()\n",
       "      (norm2): LayerNorm()\n",
       "      (drop_shotcut): Dropout(p=0.1, inplace=False)\n",
       "    )\n",
       "  )\n",
       "  (final_norm): LayerNorm()\n",
       "  (out_head): Linear(in_features=768, out_features=50257, bias=False)\n",
       ")"
      ]
     },
     "execution_count": 84,
     "metadata": {},
     "output_type": "execute_result"
    }
   ],
   "source": [
    "model = GPTModel(GPT_CONFIG_124M)\n",
    "model.load_state_dict(torch.load(\"model.pth\"))\n",
    "model.eval()\n",
    "#dropout 通过在训练过程中随机“丢弃”某些神经元，以防止模型过拟合。\n",
    "# 然而，在推理阶段，我们不希望随机丢弃网络中学到的任何信息。\n",
    "# 通过使用 model.eval()，模型会切换到推理阶段的评估模式，从而禁用 dropout 层。"
   ]
  },
  {
   "cell_type": "code",
   "execution_count": 86,
   "id": "48716fa2",
   "metadata": {},
   "outputs": [],
   "source": [
    "torch.save({\n",
    "    \"model_state_dict\": model.state_dict(),\n",
    "    \"optimizer_state_dict\": optimizer.state_dict(),\n",
    "    },\n",
    "    \"model_and_optimizer.pth\"\n",
    ")"
   ]
  },
  {
   "cell_type": "code",
   "execution_count": 87,
   "id": "3419864a",
   "metadata": {},
   "outputs": [
    {
     "data": {
      "text/plain": [
       "GPTModel(\n",
       "  (tok_emb): Embedding(50257, 768)\n",
       "  (pos_emb): Embedding(256, 768)\n",
       "  (drop_emb): Dropout(p=0.1, inplace=False)\n",
       "  (trf_blocks): Sequential(\n",
       "    (0): TransformerBlock(\n",
       "      (att): MultiHeadAttention(\n",
       "        (queries): Linear(in_features=768, out_features=768, bias=False)\n",
       "        (keys): Linear(in_features=768, out_features=768, bias=False)\n",
       "        (values): Linear(in_features=768, out_features=768, bias=False)\n",
       "        (proj): Linear(in_features=768, out_features=768, bias=True)\n",
       "        (dropout): Dropout(p=0.1, inplace=False)\n",
       "      )\n",
       "      (ff): FeedForward(\n",
       "        (layers): ModuleList(\n",
       "          (0): Sequential(\n",
       "            (0): Linear(in_features=768, out_features=3072, bias=True)\n",
       "          )\n",
       "          (1): GELU()\n",
       "          (2): Sequential(\n",
       "            (0): Linear(in_features=3072, out_features=768, bias=True)\n",
       "          )\n",
       "        )\n",
       "      )\n",
       "      (norm1): LayerNorm()\n",
       "      (norm2): LayerNorm()\n",
       "      (drop_shotcut): Dropout(p=0.1, inplace=False)\n",
       "    )\n",
       "    (1): TransformerBlock(\n",
       "      (att): MultiHeadAttention(\n",
       "        (queries): Linear(in_features=768, out_features=768, bias=False)\n",
       "        (keys): Linear(in_features=768, out_features=768, bias=False)\n",
       "        (values): Linear(in_features=768, out_features=768, bias=False)\n",
       "        (proj): Linear(in_features=768, out_features=768, bias=True)\n",
       "        (dropout): Dropout(p=0.1, inplace=False)\n",
       "      )\n",
       "      (ff): FeedForward(\n",
       "        (layers): ModuleList(\n",
       "          (0): Sequential(\n",
       "            (0): Linear(in_features=768, out_features=3072, bias=True)\n",
       "          )\n",
       "          (1): GELU()\n",
       "          (2): Sequential(\n",
       "            (0): Linear(in_features=3072, out_features=768, bias=True)\n",
       "          )\n",
       "        )\n",
       "      )\n",
       "      (norm1): LayerNorm()\n",
       "      (norm2): LayerNorm()\n",
       "      (drop_shotcut): Dropout(p=0.1, inplace=False)\n",
       "    )\n",
       "    (2): TransformerBlock(\n",
       "      (att): MultiHeadAttention(\n",
       "        (queries): Linear(in_features=768, out_features=768, bias=False)\n",
       "        (keys): Linear(in_features=768, out_features=768, bias=False)\n",
       "        (values): Linear(in_features=768, out_features=768, bias=False)\n",
       "        (proj): Linear(in_features=768, out_features=768, bias=True)\n",
       "        (dropout): Dropout(p=0.1, inplace=False)\n",
       "      )\n",
       "      (ff): FeedForward(\n",
       "        (layers): ModuleList(\n",
       "          (0): Sequential(\n",
       "            (0): Linear(in_features=768, out_features=3072, bias=True)\n",
       "          )\n",
       "          (1): GELU()\n",
       "          (2): Sequential(\n",
       "            (0): Linear(in_features=3072, out_features=768, bias=True)\n",
       "          )\n",
       "        )\n",
       "      )\n",
       "      (norm1): LayerNorm()\n",
       "      (norm2): LayerNorm()\n",
       "      (drop_shotcut): Dropout(p=0.1, inplace=False)\n",
       "    )\n",
       "    (3): TransformerBlock(\n",
       "      (att): MultiHeadAttention(\n",
       "        (queries): Linear(in_features=768, out_features=768, bias=False)\n",
       "        (keys): Linear(in_features=768, out_features=768, bias=False)\n",
       "        (values): Linear(in_features=768, out_features=768, bias=False)\n",
       "        (proj): Linear(in_features=768, out_features=768, bias=True)\n",
       "        (dropout): Dropout(p=0.1, inplace=False)\n",
       "      )\n",
       "      (ff): FeedForward(\n",
       "        (layers): ModuleList(\n",
       "          (0): Sequential(\n",
       "            (0): Linear(in_features=768, out_features=3072, bias=True)\n",
       "          )\n",
       "          (1): GELU()\n",
       "          (2): Sequential(\n",
       "            (0): Linear(in_features=3072, out_features=768, bias=True)\n",
       "          )\n",
       "        )\n",
       "      )\n",
       "      (norm1): LayerNorm()\n",
       "      (norm2): LayerNorm()\n",
       "      (drop_shotcut): Dropout(p=0.1, inplace=False)\n",
       "    )\n",
       "    (4): TransformerBlock(\n",
       "      (att): MultiHeadAttention(\n",
       "        (queries): Linear(in_features=768, out_features=768, bias=False)\n",
       "        (keys): Linear(in_features=768, out_features=768, bias=False)\n",
       "        (values): Linear(in_features=768, out_features=768, bias=False)\n",
       "        (proj): Linear(in_features=768, out_features=768, bias=True)\n",
       "        (dropout): Dropout(p=0.1, inplace=False)\n",
       "      )\n",
       "      (ff): FeedForward(\n",
       "        (layers): ModuleList(\n",
       "          (0): Sequential(\n",
       "            (0): Linear(in_features=768, out_features=3072, bias=True)\n",
       "          )\n",
       "          (1): GELU()\n",
       "          (2): Sequential(\n",
       "            (0): Linear(in_features=3072, out_features=768, bias=True)\n",
       "          )\n",
       "        )\n",
       "      )\n",
       "      (norm1): LayerNorm()\n",
       "      (norm2): LayerNorm()\n",
       "      (drop_shotcut): Dropout(p=0.1, inplace=False)\n",
       "    )\n",
       "    (5): TransformerBlock(\n",
       "      (att): MultiHeadAttention(\n",
       "        (queries): Linear(in_features=768, out_features=768, bias=False)\n",
       "        (keys): Linear(in_features=768, out_features=768, bias=False)\n",
       "        (values): Linear(in_features=768, out_features=768, bias=False)\n",
       "        (proj): Linear(in_features=768, out_features=768, bias=True)\n",
       "        (dropout): Dropout(p=0.1, inplace=False)\n",
       "      )\n",
       "      (ff): FeedForward(\n",
       "        (layers): ModuleList(\n",
       "          (0): Sequential(\n",
       "            (0): Linear(in_features=768, out_features=3072, bias=True)\n",
       "          )\n",
       "          (1): GELU()\n",
       "          (2): Sequential(\n",
       "            (0): Linear(in_features=3072, out_features=768, bias=True)\n",
       "          )\n",
       "        )\n",
       "      )\n",
       "      (norm1): LayerNorm()\n",
       "      (norm2): LayerNorm()\n",
       "      (drop_shotcut): Dropout(p=0.1, inplace=False)\n",
       "    )\n",
       "    (6): TransformerBlock(\n",
       "      (att): MultiHeadAttention(\n",
       "        (queries): Linear(in_features=768, out_features=768, bias=False)\n",
       "        (keys): Linear(in_features=768, out_features=768, bias=False)\n",
       "        (values): Linear(in_features=768, out_features=768, bias=False)\n",
       "        (proj): Linear(in_features=768, out_features=768, bias=True)\n",
       "        (dropout): Dropout(p=0.1, inplace=False)\n",
       "      )\n",
       "      (ff): FeedForward(\n",
       "        (layers): ModuleList(\n",
       "          (0): Sequential(\n",
       "            (0): Linear(in_features=768, out_features=3072, bias=True)\n",
       "          )\n",
       "          (1): GELU()\n",
       "          (2): Sequential(\n",
       "            (0): Linear(in_features=3072, out_features=768, bias=True)\n",
       "          )\n",
       "        )\n",
       "      )\n",
       "      (norm1): LayerNorm()\n",
       "      (norm2): LayerNorm()\n",
       "      (drop_shotcut): Dropout(p=0.1, inplace=False)\n",
       "    )\n",
       "    (7): TransformerBlock(\n",
       "      (att): MultiHeadAttention(\n",
       "        (queries): Linear(in_features=768, out_features=768, bias=False)\n",
       "        (keys): Linear(in_features=768, out_features=768, bias=False)\n",
       "        (values): Linear(in_features=768, out_features=768, bias=False)\n",
       "        (proj): Linear(in_features=768, out_features=768, bias=True)\n",
       "        (dropout): Dropout(p=0.1, inplace=False)\n",
       "      )\n",
       "      (ff): FeedForward(\n",
       "        (layers): ModuleList(\n",
       "          (0): Sequential(\n",
       "            (0): Linear(in_features=768, out_features=3072, bias=True)\n",
       "          )\n",
       "          (1): GELU()\n",
       "          (2): Sequential(\n",
       "            (0): Linear(in_features=3072, out_features=768, bias=True)\n",
       "          )\n",
       "        )\n",
       "      )\n",
       "      (norm1): LayerNorm()\n",
       "      (norm2): LayerNorm()\n",
       "      (drop_shotcut): Dropout(p=0.1, inplace=False)\n",
       "    )\n",
       "    (8): TransformerBlock(\n",
       "      (att): MultiHeadAttention(\n",
       "        (queries): Linear(in_features=768, out_features=768, bias=False)\n",
       "        (keys): Linear(in_features=768, out_features=768, bias=False)\n",
       "        (values): Linear(in_features=768, out_features=768, bias=False)\n",
       "        (proj): Linear(in_features=768, out_features=768, bias=True)\n",
       "        (dropout): Dropout(p=0.1, inplace=False)\n",
       "      )\n",
       "      (ff): FeedForward(\n",
       "        (layers): ModuleList(\n",
       "          (0): Sequential(\n",
       "            (0): Linear(in_features=768, out_features=3072, bias=True)\n",
       "          )\n",
       "          (1): GELU()\n",
       "          (2): Sequential(\n",
       "            (0): Linear(in_features=3072, out_features=768, bias=True)\n",
       "          )\n",
       "        )\n",
       "      )\n",
       "      (norm1): LayerNorm()\n",
       "      (norm2): LayerNorm()\n",
       "      (drop_shotcut): Dropout(p=0.1, inplace=False)\n",
       "    )\n",
       "    (9): TransformerBlock(\n",
       "      (att): MultiHeadAttention(\n",
       "        (queries): Linear(in_features=768, out_features=768, bias=False)\n",
       "        (keys): Linear(in_features=768, out_features=768, bias=False)\n",
       "        (values): Linear(in_features=768, out_features=768, bias=False)\n",
       "        (proj): Linear(in_features=768, out_features=768, bias=True)\n",
       "        (dropout): Dropout(p=0.1, inplace=False)\n",
       "      )\n",
       "      (ff): FeedForward(\n",
       "        (layers): ModuleList(\n",
       "          (0): Sequential(\n",
       "            (0): Linear(in_features=768, out_features=3072, bias=True)\n",
       "          )\n",
       "          (1): GELU()\n",
       "          (2): Sequential(\n",
       "            (0): Linear(in_features=3072, out_features=768, bias=True)\n",
       "          )\n",
       "        )\n",
       "      )\n",
       "      (norm1): LayerNorm()\n",
       "      (norm2): LayerNorm()\n",
       "      (drop_shotcut): Dropout(p=0.1, inplace=False)\n",
       "    )\n",
       "    (10): TransformerBlock(\n",
       "      (att): MultiHeadAttention(\n",
       "        (queries): Linear(in_features=768, out_features=768, bias=False)\n",
       "        (keys): Linear(in_features=768, out_features=768, bias=False)\n",
       "        (values): Linear(in_features=768, out_features=768, bias=False)\n",
       "        (proj): Linear(in_features=768, out_features=768, bias=True)\n",
       "        (dropout): Dropout(p=0.1, inplace=False)\n",
       "      )\n",
       "      (ff): FeedForward(\n",
       "        (layers): ModuleList(\n",
       "          (0): Sequential(\n",
       "            (0): Linear(in_features=768, out_features=3072, bias=True)\n",
       "          )\n",
       "          (1): GELU()\n",
       "          (2): Sequential(\n",
       "            (0): Linear(in_features=3072, out_features=768, bias=True)\n",
       "          )\n",
       "        )\n",
       "      )\n",
       "      (norm1): LayerNorm()\n",
       "      (norm2): LayerNorm()\n",
       "      (drop_shotcut): Dropout(p=0.1, inplace=False)\n",
       "    )\n",
       "    (11): TransformerBlock(\n",
       "      (att): MultiHeadAttention(\n",
       "        (queries): Linear(in_features=768, out_features=768, bias=False)\n",
       "        (keys): Linear(in_features=768, out_features=768, bias=False)\n",
       "        (values): Linear(in_features=768, out_features=768, bias=False)\n",
       "        (proj): Linear(in_features=768, out_features=768, bias=True)\n",
       "        (dropout): Dropout(p=0.1, inplace=False)\n",
       "      )\n",
       "      (ff): FeedForward(\n",
       "        (layers): ModuleList(\n",
       "          (0): Sequential(\n",
       "            (0): Linear(in_features=768, out_features=3072, bias=True)\n",
       "          )\n",
       "          (1): GELU()\n",
       "          (2): Sequential(\n",
       "            (0): Linear(in_features=3072, out_features=768, bias=True)\n",
       "          )\n",
       "        )\n",
       "      )\n",
       "      (norm1): LayerNorm()\n",
       "      (norm2): LayerNorm()\n",
       "      (drop_shotcut): Dropout(p=0.1, inplace=False)\n",
       "    )\n",
       "  )\n",
       "  (final_norm): LayerNorm()\n",
       "  (out_head): Linear(in_features=768, out_features=50257, bias=False)\n",
       ")"
      ]
     },
     "execution_count": 87,
     "metadata": {},
     "output_type": "execute_result"
    }
   ],
   "source": [
    "checkpoint = torch.load(\"model_and_optimizer.pth\")\n",
    "model = GPTModel(GPT_CONFIG_124M)\n",
    "model.load_state_dict(checkpoint[\"model_state_dict\"])\n",
    "optimizer = torch.optim.AdamW(model.parameters(), lr=5e-4, weight_decay=0.1)\n",
    "optimizer.load_state_dict(checkpoint[\"optimizer_state_dict\"])\n",
    "model.train()"
   ]
  },
  {
   "cell_type": "code",
   "execution_count": 88,
   "id": "a7320bdf",
   "metadata": {},
   "outputs": [
    {
     "data": {
      "text/plain": [
       "('gpt_download.py', <http.client.HTTPMessage at 0x20548a71450>)"
      ]
     },
     "execution_count": 88,
     "metadata": {},
     "output_type": "execute_result"
    }
   ],
   "source": [
    "import urllib.request\n",
    "url = (\n",
    "    \"https://raw.githubusercontent.com/rasbt/\"\n",
    "    \"LLMs-from-scratch/main/ch05/\"\n",
    "    \"01_main-chapter-code/gpt_download.py\"\n",
    ")\n",
    "filename = url.split('/')[-1]\n",
    "urllib.request.urlretrieve(url, filename)"
   ]
  },
  {
   "cell_type": "code",
   "execution_count": 89,
   "id": "1bb9f2c7",
   "metadata": {},
   "outputs": [
    {
     "name": "stderr",
     "output_type": "stream",
     "text": [
      "checkpoint: 100%|██████████| 77.0/77.0 [00:00<00:00, 77.0kiB/s]\n",
      "encoder.json: 100%|██████████| 1.04M/1.04M [00:00<00:00, 1.33MiB/s]\n",
      "hparams.json: 100%|██████████| 90.0/90.0 [00:00<00:00, 90.0kiB/s]\n",
      "model.ckpt.data-00000-of-00001: 100%|██████████| 498M/498M [02:05<00:00, 3.98MiB/s]  \n",
      "model.ckpt.index: 100%|██████████| 5.21k/5.21k [00:00<00:00, 2.07MiB/s]\n",
      "model.ckpt.meta: 100%|██████████| 471k/471k [00:00<00:00, 737kiB/s] \n",
      "vocab.bpe: 100%|██████████| 456k/456k [00:00<00:00, 702kiB/s] \n"
     ]
    }
   ],
   "source": [
    "from gpt_download import download_and_load_gpt2 \n",
    "settings, params = download_and_load_gpt2( model_size=\"124M\", models_dir=\"gpt2\" )"
   ]
  },
  {
   "cell_type": "code",
   "execution_count": 90,
   "id": "91928c4d",
   "metadata": {},
   "outputs": [
    {
     "name": "stdout",
     "output_type": "stream",
     "text": [
      "Settings: {'n_vocab': 50257, 'n_ctx': 1024, 'n_embd': 768, 'n_head': 12, 'n_layer': 12}\n",
      "Parameter dictionary keys: dict_keys(['blocks', 'b', 'g', 'wpe', 'wte'])\n"
     ]
    }
   ],
   "source": [
    "print(\"Settings:\", settings)\n",
    "print(\"Parameter dictionary keys:\", params.keys())"
   ]
  },
  {
   "cell_type": "markdown",
   "id": "2fe45a0d",
   "metadata": {},
   "source": [
    "2. Parameter dictionary keys（模型权重参数dict中的主键）\n",
    "'blocks'：Transformer主干的每一层（block）的参数集合。\n",
    "GPT-2 结构是 N 层 transformer block 堆叠，blocks 保存了每层的注意力、MLP等权重。\n",
    "\n",
    "'b'、'g'（有些实现用 'ln_f'）：最终LayerNorm（归一化层）的参数\n",
    "\n",
    "'b' 可能指 layer norm 的 bias（偏置）\n",
    "\n",
    "'g' 可能指 layer norm 的 gain（缩放/scale）\n",
    "\n",
    "这两项常用于最后一层输出归一化（final layernorm）\n",
    "\n",
    "'wpe'：位置编码参数（word positional embedding）\n",
    "\n",
    "shape=[n_ctx, n_embd]\n",
    "\n",
    "每个位置一个向量，用于捕获 token 的序列顺序信息\n",
    "\n",
    "'wte'：词嵌入参数（word token embedding）\n",
    "\n",
    "shape=[n_vocab, n_embd]\n",
    "\n",
    "每个 token id 对应一个 embedding 向量，是输入 token id → 向量的“字典”"
   ]
  },
  {
   "cell_type": "code",
   "execution_count": 91,
   "id": "c5cacebd",
   "metadata": {},
   "outputs": [
    {
     "name": "stdout",
     "output_type": "stream",
     "text": [
      "[[-0.11010301 -0.03926672  0.03310751 ... -0.1363697   0.01506208\n",
      "   0.04531523]\n",
      " [ 0.04034033 -0.04861503  0.04624869 ...  0.08605453  0.00253983\n",
      "   0.04318958]\n",
      " [-0.12746179  0.04793796  0.18410145 ...  0.08991534 -0.12972379\n",
      "  -0.08785918]\n",
      " ...\n",
      " [-0.04453601 -0.05483596  0.01225674 ...  0.10435229  0.09783269\n",
      "  -0.06952604]\n",
      " [ 0.1860082   0.01665728  0.04611587 ... -0.09625227  0.07847701\n",
      "  -0.02245961]\n",
      " [ 0.05135201 -0.02768905  0.0499369  ...  0.00704835  0.15519823\n",
      "   0.12067825]]\n",
      "Token embedding weight tensor dimensions: (50257, 768)\n"
     ]
    }
   ],
   "source": [
    "print(params[\"wte\"])\n",
    "print(\"Token embedding weight tensor dimensions:\", params[\"wte\"].shape)"
   ]
  },
  {
   "cell_type": "code",
   "execution_count": null,
   "id": "a54eb0c4",
   "metadata": {},
   "outputs": [
    {
     "name": "stdout",
     "output_type": "stream",
     "text": [
      "{'vocab_size': 50257, 'context_length': 256, 'emb_dim': 768, 'n_heads': 12, 'n_layers': 12, 'drop_rate': 0.1, 'qkv_bias': False}\n"
     ]
    }
   ],
   "source": [
    "# First, we create a dictionary that lists the differences between the different GPT model sizes, as explained in Figure 5.17:\n",
    "model_configs = {\n",
    "    \"gpt2-small (124M)\": {\"emb_dim\": 768, \"n_layers\": 12, \"n_heads\": 12},\n",
    "    \"gpt2-medium (355M)\": {\"emb_dim\": 1024, \"n_layers\": 24, \"n_heads\": 16},\n",
    "    \"gpt2-large (774M)\": {\"emb_dim\": 1280, \"n_layers\": 36, \"n_heads\": 20},\n",
    "    \"gpt2-xl (1558M)\": {\"emb_dim\": 1600, \"n_layers\": 48, \"n_heads\": 25},\n",
    "}\n",
    "# Suppose we are interested in loading the smallest model, \"gpt2-small (124M)\". We can use the corresponding settings from the model_configs table able to update our full-length GPT_CONFIG_124M we defined and used earlier throughout the chapter as follows:\n",
    "model_name = \"gpt2-small (124M)\"\n",
    "NEW_CONFIG = GPT_CONFIG_124M.copy()\n",
    "print(NEW_CONFIG)\n",
    "NEW_CONFIG.update(model_configs[model_name])\n",
    "# 如果 key 已存在，用新值覆盖/替换原有值。\n",
    "# 如果 key 不存在，就把新 key/value 直接加进来。\n",
    "# 不影响原来的 dict，只在拷贝后的 NEW_CONFIG 上生效。"
   ]
  },
  {
   "cell_type": "code",
   "execution_count": 94,
   "id": "ca8f58b3",
   "metadata": {},
   "outputs": [],
   "source": [
    "NEW_CONFIG.update({\"context_length\": 1024})"
   ]
  },
  {
   "cell_type": "code",
   "execution_count": 97,
   "id": "19d2ddae",
   "metadata": {},
   "outputs": [
    {
     "data": {
      "text/plain": [
       "GPTModel(\n",
       "  (tok_emb): Embedding(50257, 768)\n",
       "  (pos_emb): Embedding(1024, 768)\n",
       "  (drop_emb): Dropout(p=0.1, inplace=False)\n",
       "  (trf_blocks): Sequential(\n",
       "    (0): TransformerBlock(\n",
       "      (att): MultiHeadAttention(\n",
       "        (queries): Linear(in_features=768, out_features=768, bias=True)\n",
       "        (keys): Linear(in_features=768, out_features=768, bias=True)\n",
       "        (values): Linear(in_features=768, out_features=768, bias=True)\n",
       "        (proj): Linear(in_features=768, out_features=768, bias=True)\n",
       "        (dropout): Dropout(p=0.1, inplace=False)\n",
       "      )\n",
       "      (ff): FeedForward(\n",
       "        (layers): ModuleList(\n",
       "          (0): Sequential(\n",
       "            (0): Linear(in_features=768, out_features=3072, bias=True)\n",
       "          )\n",
       "          (1): GELU()\n",
       "          (2): Sequential(\n",
       "            (0): Linear(in_features=3072, out_features=768, bias=True)\n",
       "          )\n",
       "        )\n",
       "      )\n",
       "      (norm1): LayerNorm()\n",
       "      (norm2): LayerNorm()\n",
       "      (drop_shotcut): Dropout(p=0.1, inplace=False)\n",
       "    )\n",
       "    (1): TransformerBlock(\n",
       "      (att): MultiHeadAttention(\n",
       "        (queries): Linear(in_features=768, out_features=768, bias=True)\n",
       "        (keys): Linear(in_features=768, out_features=768, bias=True)\n",
       "        (values): Linear(in_features=768, out_features=768, bias=True)\n",
       "        (proj): Linear(in_features=768, out_features=768, bias=True)\n",
       "        (dropout): Dropout(p=0.1, inplace=False)\n",
       "      )\n",
       "      (ff): FeedForward(\n",
       "        (layers): ModuleList(\n",
       "          (0): Sequential(\n",
       "            (0): Linear(in_features=768, out_features=3072, bias=True)\n",
       "          )\n",
       "          (1): GELU()\n",
       "          (2): Sequential(\n",
       "            (0): Linear(in_features=3072, out_features=768, bias=True)\n",
       "          )\n",
       "        )\n",
       "      )\n",
       "      (norm1): LayerNorm()\n",
       "      (norm2): LayerNorm()\n",
       "      (drop_shotcut): Dropout(p=0.1, inplace=False)\n",
       "    )\n",
       "    (2): TransformerBlock(\n",
       "      (att): MultiHeadAttention(\n",
       "        (queries): Linear(in_features=768, out_features=768, bias=True)\n",
       "        (keys): Linear(in_features=768, out_features=768, bias=True)\n",
       "        (values): Linear(in_features=768, out_features=768, bias=True)\n",
       "        (proj): Linear(in_features=768, out_features=768, bias=True)\n",
       "        (dropout): Dropout(p=0.1, inplace=False)\n",
       "      )\n",
       "      (ff): FeedForward(\n",
       "        (layers): ModuleList(\n",
       "          (0): Sequential(\n",
       "            (0): Linear(in_features=768, out_features=3072, bias=True)\n",
       "          )\n",
       "          (1): GELU()\n",
       "          (2): Sequential(\n",
       "            (0): Linear(in_features=3072, out_features=768, bias=True)\n",
       "          )\n",
       "        )\n",
       "      )\n",
       "      (norm1): LayerNorm()\n",
       "      (norm2): LayerNorm()\n",
       "      (drop_shotcut): Dropout(p=0.1, inplace=False)\n",
       "    )\n",
       "    (3): TransformerBlock(\n",
       "      (att): MultiHeadAttention(\n",
       "        (queries): Linear(in_features=768, out_features=768, bias=True)\n",
       "        (keys): Linear(in_features=768, out_features=768, bias=True)\n",
       "        (values): Linear(in_features=768, out_features=768, bias=True)\n",
       "        (proj): Linear(in_features=768, out_features=768, bias=True)\n",
       "        (dropout): Dropout(p=0.1, inplace=False)\n",
       "      )\n",
       "      (ff): FeedForward(\n",
       "        (layers): ModuleList(\n",
       "          (0): Sequential(\n",
       "            (0): Linear(in_features=768, out_features=3072, bias=True)\n",
       "          )\n",
       "          (1): GELU()\n",
       "          (2): Sequential(\n",
       "            (0): Linear(in_features=3072, out_features=768, bias=True)\n",
       "          )\n",
       "        )\n",
       "      )\n",
       "      (norm1): LayerNorm()\n",
       "      (norm2): LayerNorm()\n",
       "      (drop_shotcut): Dropout(p=0.1, inplace=False)\n",
       "    )\n",
       "    (4): TransformerBlock(\n",
       "      (att): MultiHeadAttention(\n",
       "        (queries): Linear(in_features=768, out_features=768, bias=True)\n",
       "        (keys): Linear(in_features=768, out_features=768, bias=True)\n",
       "        (values): Linear(in_features=768, out_features=768, bias=True)\n",
       "        (proj): Linear(in_features=768, out_features=768, bias=True)\n",
       "        (dropout): Dropout(p=0.1, inplace=False)\n",
       "      )\n",
       "      (ff): FeedForward(\n",
       "        (layers): ModuleList(\n",
       "          (0): Sequential(\n",
       "            (0): Linear(in_features=768, out_features=3072, bias=True)\n",
       "          )\n",
       "          (1): GELU()\n",
       "          (2): Sequential(\n",
       "            (0): Linear(in_features=3072, out_features=768, bias=True)\n",
       "          )\n",
       "        )\n",
       "      )\n",
       "      (norm1): LayerNorm()\n",
       "      (norm2): LayerNorm()\n",
       "      (drop_shotcut): Dropout(p=0.1, inplace=False)\n",
       "    )\n",
       "    (5): TransformerBlock(\n",
       "      (att): MultiHeadAttention(\n",
       "        (queries): Linear(in_features=768, out_features=768, bias=True)\n",
       "        (keys): Linear(in_features=768, out_features=768, bias=True)\n",
       "        (values): Linear(in_features=768, out_features=768, bias=True)\n",
       "        (proj): Linear(in_features=768, out_features=768, bias=True)\n",
       "        (dropout): Dropout(p=0.1, inplace=False)\n",
       "      )\n",
       "      (ff): FeedForward(\n",
       "        (layers): ModuleList(\n",
       "          (0): Sequential(\n",
       "            (0): Linear(in_features=768, out_features=3072, bias=True)\n",
       "          )\n",
       "          (1): GELU()\n",
       "          (2): Sequential(\n",
       "            (0): Linear(in_features=3072, out_features=768, bias=True)\n",
       "          )\n",
       "        )\n",
       "      )\n",
       "      (norm1): LayerNorm()\n",
       "      (norm2): LayerNorm()\n",
       "      (drop_shotcut): Dropout(p=0.1, inplace=False)\n",
       "    )\n",
       "    (6): TransformerBlock(\n",
       "      (att): MultiHeadAttention(\n",
       "        (queries): Linear(in_features=768, out_features=768, bias=True)\n",
       "        (keys): Linear(in_features=768, out_features=768, bias=True)\n",
       "        (values): Linear(in_features=768, out_features=768, bias=True)\n",
       "        (proj): Linear(in_features=768, out_features=768, bias=True)\n",
       "        (dropout): Dropout(p=0.1, inplace=False)\n",
       "      )\n",
       "      (ff): FeedForward(\n",
       "        (layers): ModuleList(\n",
       "          (0): Sequential(\n",
       "            (0): Linear(in_features=768, out_features=3072, bias=True)\n",
       "          )\n",
       "          (1): GELU()\n",
       "          (2): Sequential(\n",
       "            (0): Linear(in_features=3072, out_features=768, bias=True)\n",
       "          )\n",
       "        )\n",
       "      )\n",
       "      (norm1): LayerNorm()\n",
       "      (norm2): LayerNorm()\n",
       "      (drop_shotcut): Dropout(p=0.1, inplace=False)\n",
       "    )\n",
       "    (7): TransformerBlock(\n",
       "      (att): MultiHeadAttention(\n",
       "        (queries): Linear(in_features=768, out_features=768, bias=True)\n",
       "        (keys): Linear(in_features=768, out_features=768, bias=True)\n",
       "        (values): Linear(in_features=768, out_features=768, bias=True)\n",
       "        (proj): Linear(in_features=768, out_features=768, bias=True)\n",
       "        (dropout): Dropout(p=0.1, inplace=False)\n",
       "      )\n",
       "      (ff): FeedForward(\n",
       "        (layers): ModuleList(\n",
       "          (0): Sequential(\n",
       "            (0): Linear(in_features=768, out_features=3072, bias=True)\n",
       "          )\n",
       "          (1): GELU()\n",
       "          (2): Sequential(\n",
       "            (0): Linear(in_features=3072, out_features=768, bias=True)\n",
       "          )\n",
       "        )\n",
       "      )\n",
       "      (norm1): LayerNorm()\n",
       "      (norm2): LayerNorm()\n",
       "      (drop_shotcut): Dropout(p=0.1, inplace=False)\n",
       "    )\n",
       "    (8): TransformerBlock(\n",
       "      (att): MultiHeadAttention(\n",
       "        (queries): Linear(in_features=768, out_features=768, bias=True)\n",
       "        (keys): Linear(in_features=768, out_features=768, bias=True)\n",
       "        (values): Linear(in_features=768, out_features=768, bias=True)\n",
       "        (proj): Linear(in_features=768, out_features=768, bias=True)\n",
       "        (dropout): Dropout(p=0.1, inplace=False)\n",
       "      )\n",
       "      (ff): FeedForward(\n",
       "        (layers): ModuleList(\n",
       "          (0): Sequential(\n",
       "            (0): Linear(in_features=768, out_features=3072, bias=True)\n",
       "          )\n",
       "          (1): GELU()\n",
       "          (2): Sequential(\n",
       "            (0): Linear(in_features=3072, out_features=768, bias=True)\n",
       "          )\n",
       "        )\n",
       "      )\n",
       "      (norm1): LayerNorm()\n",
       "      (norm2): LayerNorm()\n",
       "      (drop_shotcut): Dropout(p=0.1, inplace=False)\n",
       "    )\n",
       "    (9): TransformerBlock(\n",
       "      (att): MultiHeadAttention(\n",
       "        (queries): Linear(in_features=768, out_features=768, bias=True)\n",
       "        (keys): Linear(in_features=768, out_features=768, bias=True)\n",
       "        (values): Linear(in_features=768, out_features=768, bias=True)\n",
       "        (proj): Linear(in_features=768, out_features=768, bias=True)\n",
       "        (dropout): Dropout(p=0.1, inplace=False)\n",
       "      )\n",
       "      (ff): FeedForward(\n",
       "        (layers): ModuleList(\n",
       "          (0): Sequential(\n",
       "            (0): Linear(in_features=768, out_features=3072, bias=True)\n",
       "          )\n",
       "          (1): GELU()\n",
       "          (2): Sequential(\n",
       "            (0): Linear(in_features=3072, out_features=768, bias=True)\n",
       "          )\n",
       "        )\n",
       "      )\n",
       "      (norm1): LayerNorm()\n",
       "      (norm2): LayerNorm()\n",
       "      (drop_shotcut): Dropout(p=0.1, inplace=False)\n",
       "    )\n",
       "    (10): TransformerBlock(\n",
       "      (att): MultiHeadAttention(\n",
       "        (queries): Linear(in_features=768, out_features=768, bias=True)\n",
       "        (keys): Linear(in_features=768, out_features=768, bias=True)\n",
       "        (values): Linear(in_features=768, out_features=768, bias=True)\n",
       "        (proj): Linear(in_features=768, out_features=768, bias=True)\n",
       "        (dropout): Dropout(p=0.1, inplace=False)\n",
       "      )\n",
       "      (ff): FeedForward(\n",
       "        (layers): ModuleList(\n",
       "          (0): Sequential(\n",
       "            (0): Linear(in_features=768, out_features=3072, bias=True)\n",
       "          )\n",
       "          (1): GELU()\n",
       "          (2): Sequential(\n",
       "            (0): Linear(in_features=3072, out_features=768, bias=True)\n",
       "          )\n",
       "        )\n",
       "      )\n",
       "      (norm1): LayerNorm()\n",
       "      (norm2): LayerNorm()\n",
       "      (drop_shotcut): Dropout(p=0.1, inplace=False)\n",
       "    )\n",
       "    (11): TransformerBlock(\n",
       "      (att): MultiHeadAttention(\n",
       "        (queries): Linear(in_features=768, out_features=768, bias=True)\n",
       "        (keys): Linear(in_features=768, out_features=768, bias=True)\n",
       "        (values): Linear(in_features=768, out_features=768, bias=True)\n",
       "        (proj): Linear(in_features=768, out_features=768, bias=True)\n",
       "        (dropout): Dropout(p=0.1, inplace=False)\n",
       "      )\n",
       "      (ff): FeedForward(\n",
       "        (layers): ModuleList(\n",
       "          (0): Sequential(\n",
       "            (0): Linear(in_features=768, out_features=3072, bias=True)\n",
       "          )\n",
       "          (1): GELU()\n",
       "          (2): Sequential(\n",
       "            (0): Linear(in_features=3072, out_features=768, bias=True)\n",
       "          )\n",
       "        )\n",
       "      )\n",
       "      (norm1): LayerNorm()\n",
       "      (norm2): LayerNorm()\n",
       "      (drop_shotcut): Dropout(p=0.1, inplace=False)\n",
       "    )\n",
       "  )\n",
       "  (final_norm): LayerNorm()\n",
       "  (out_head): Linear(in_features=768, out_features=50257, bias=False)\n",
       ")"
      ]
     },
     "execution_count": 97,
     "metadata": {},
     "output_type": "execute_result"
    }
   ],
   "source": [
    "NEW_CONFIG.update({\"qkv_bias\": True})\n",
    "# We can now use the updated NEW_CONFIG dictionary to initialize a new GPTModel instance:\n",
    "gpt = GPTModel(NEW_CONFIG)\n",
    "gpt.eval()"
   ]
  },
  {
   "cell_type": "code",
   "execution_count": 98,
   "id": "11065dd1",
   "metadata": {},
   "outputs": [],
   "source": [
    "def assign(left, right):\n",
    "    if left.shape != right.shape:\n",
    "        raise ValueError(f\"Shape mismatch. Left: {left.shape}, Right: {right.shape}\")\n",
    "    return torch.nn.Parameter(torch.tensor(right))"
   ]
  },
  {
   "cell_type": "code",
   "execution_count": 99,
   "id": "b73a8271",
   "metadata": {},
   "outputs": [],
   "source": [
    "# Listing 5.5 Loading OpenAI weights into our GPT model code\n",
    "import numpy as np\n",
    "\n",
    "def load_weights_into_gpt(gpt, params):\n",
    "    gpt.pos_emb.weight = assign(gpt.pos_emb.weight, params['wpe'])               #A\n",
    "    gpt.tok_emb.weight = assign(gpt.tok_emb.weight, params['wte'])\n",
    "    for b in range(len(params[\"blocks\"])):                                       #B\n",
    "        q_w, k_w, v_w = np.split(                                                #C\n",
    "            (params[\"blocks\"][b][\"attn\"][\"c_attn\"])[\"w\"], 3, axis=-1)\n",
    "        gpt.trf_blocks[b].att.W_query.weight = assign(\n",
    "            gpt.trf_blocks[b].att.W_query.weight, q_w.T)\n",
    "        gpt.trf_blocks[b].att.W_key.weight = assign(\n",
    "            gpt.trf_blocks[b].att.W_key.weight, k_w.T)\n",
    "        gpt.trf_blocks[b].att.W_value.weight = assign(\n",
    "            gpt.trf_blocks[b].att.W_value.weight, v_w.T)\n",
    "\n",
    "        q_b, k_b, v_b = np.split(\n",
    "            (params[\"blocks\"][b][\"attn\"][\"c_attn\"])[\"b\"], 3, axis=-1)\n",
    "        gpt.trf_blocks[b].att.W_query.bias = assign(\n",
    "            gpt.trf_blocks[b].att.W_query.bias, q_b)\n",
    "        gpt.trf_blocks[b].att.W_key.bias = assign(\n",
    "            gpt.trf_blocks[b].att.W_key.bias, k_b)\n",
    "        gpt.trf_blocks[b].att.W_value.bias = assign(\n",
    "            gpt.trf_blocks[b].att.W_value.bias, v_b)\n",
    "\n",
    "        gpt.trf_blocks[b].att.out_proj.weight = assign(\n",
    "            gpt.trf_blocks[b].att.out_proj.weight,\n",
    "            params[\"blocks\"][b][\"attn\"][\"c_proj\"][\"w\"].T)\n",
    "        gpt.trf_blocks[b].att.out_proj.bias = assign(\n",
    "            gpt.trf_blocks[b].att.out_proj.bias,\n",
    "            params[\"blocks\"][b][\"attn\"][\"c_proj\"][\"b\"])\n",
    "\n",
    "        gpt.trf_blocks[b].ff.layers[0].weight = assign(\n",
    "            gpt.trf_blocks[b].ff.layers[0].weight,\n",
    "            params[\"blocks\"][b][\"mlp\"][\"c_fc\"][\"w\"].T)\n",
    "        gpt.trf_blocks[b].ff.layers[0].bias = assign(\n",
    "            gpt.trf_blocks[b].ff.layers[0].bias,\n",
    "            params[\"blocks\"][b][\"mlp\"][\"c_fc\"][\"b\"])\n",
    "        gpt.trf_blocks[b].ff.layers[2].weight = assign(\n",
    "            gpt.trf_blocks[b].ff.layers[2].weight,\n",
    "            params[\"blocks\"][b][\"mlp\"][\"c_proj\"][\"w\"].T)\n",
    "        gpt.trf_blocks[b].ff.layers[2].bias = assign(\n",
    "            gpt.trf_blocks[b].ff.layers[2].bias,\n",
    "            params[\"blocks\"][b][\"mlp\"][\"c_proj\"][\"b\"])\n",
    "\n",
    "        gpt.trf_blocks[b].norm1.scale = assign(\n",
    "            gpt.trf_blocks[b].norm1.scale,\n",
    "            params[\"blocks\"][b][\"ln_1\"][\"g\"])\n",
    "        gpt.trf_blocks[b].norm1.shift = assign(\n",
    "            gpt.trf_blocks[b].norm1.shift,\n",
    "            params[\"blocks\"][b][\"ln_1\"][\"b\"])\n",
    "        gpt.trf_blocks[b].norm2.scale = assign(\n",
    "            gpt.trf_blocks[b].norm2.scale,\n",
    "            params[\"blocks\"][b][\"ln_2\"][\"g\"])\n",
    "        gpt.trf_blocks[b].norm2.shift = assign(\n",
    "            gpt.trf_blocks[b].norm2.shift,\n",
    "            params[\"blocks\"][b][\"ln_2\"][\"b\"])\n",
    "\n",
    "    gpt.final_norm.scale = assign(gpt.final_norm.scale, params[\"g\"])\n",
    "    gpt.final_norm.shift = assign(gpt.final_norm.shift, params[\"b\"])\n",
    "    gpt.out_head.weight = assign(gpt.out_head.weight, params[\"wte\"])                   #D\n",
    "\n",
    "\n",
    "#A 将模型的位置嵌入和token 嵌入的权重设置为 params 中指定的值\n",
    "#B 遍历模型中的每个 Transformer 模块\n",
    "#C 使用 np.split 函数将注意力和偏置权重分为三等份，分别用于查询、键和值组件\n",
    "#D OpenAI 的原始 GPT-2 模型在输出层中复用了 token 嵌入的权重，以减少参数总量，这一概念称为权重共享"
   ]
  },
  {
   "cell_type": "code",
   "execution_count": 100,
   "id": "fb7b8daa",
   "metadata": {},
   "outputs": [
    {
     "ename": "AttributeError",
     "evalue": "'MultiHeadAttention' object has no attribute 'W_query'",
     "output_type": "error",
     "traceback": [
      "\u001b[1;31m---------------------------------------------------------------------------\u001b[0m",
      "\u001b[1;31mAttributeError\u001b[0m                            Traceback (most recent call last)",
      "Cell \u001b[1;32mIn[100], line 1\u001b[0m\n\u001b[1;32m----> 1\u001b[0m \u001b[43mload_weights_into_gpt\u001b[49m\u001b[43m(\u001b[49m\u001b[43mgpt\u001b[49m\u001b[43m,\u001b[49m\u001b[43m \u001b[49m\u001b[43mparams\u001b[49m\u001b[43m)\u001b[49m\n\u001b[0;32m      2\u001b[0m gpt\u001b[38;5;241m.\u001b[39mto(device)\n",
      "Cell \u001b[1;32mIn[99], line 11\u001b[0m, in \u001b[0;36mload_weights_into_gpt\u001b[1;34m(gpt, params)\u001b[0m\n\u001b[0;32m      7\u001b[0m \u001b[38;5;28;01mfor\u001b[39;00m b \u001b[38;5;129;01min\u001b[39;00m \u001b[38;5;28mrange\u001b[39m(\u001b[38;5;28mlen\u001b[39m(params[\u001b[38;5;124m\"\u001b[39m\u001b[38;5;124mblocks\u001b[39m\u001b[38;5;124m\"\u001b[39m])):                                       \u001b[38;5;66;03m#B\u001b[39;00m\n\u001b[0;32m      8\u001b[0m     q_w, k_w, v_w \u001b[38;5;241m=\u001b[39m np\u001b[38;5;241m.\u001b[39msplit(                                                \u001b[38;5;66;03m#C\u001b[39;00m\n\u001b[0;32m      9\u001b[0m         (params[\u001b[38;5;124m\"\u001b[39m\u001b[38;5;124mblocks\u001b[39m\u001b[38;5;124m\"\u001b[39m][b][\u001b[38;5;124m\"\u001b[39m\u001b[38;5;124mattn\u001b[39m\u001b[38;5;124m\"\u001b[39m][\u001b[38;5;124m\"\u001b[39m\u001b[38;5;124mc_attn\u001b[39m\u001b[38;5;124m\"\u001b[39m])[\u001b[38;5;124m\"\u001b[39m\u001b[38;5;124mw\u001b[39m\u001b[38;5;124m\"\u001b[39m], \u001b[38;5;241m3\u001b[39m, axis\u001b[38;5;241m=\u001b[39m\u001b[38;5;241m-\u001b[39m\u001b[38;5;241m1\u001b[39m)\n\u001b[0;32m     10\u001b[0m     gpt\u001b[38;5;241m.\u001b[39mtrf_blocks[b]\u001b[38;5;241m.\u001b[39matt\u001b[38;5;241m.\u001b[39mW_query\u001b[38;5;241m.\u001b[39mweight \u001b[38;5;241m=\u001b[39m assign(\n\u001b[1;32m---> 11\u001b[0m         \u001b[43mgpt\u001b[49m\u001b[38;5;241;43m.\u001b[39;49m\u001b[43mtrf_blocks\u001b[49m\u001b[43m[\u001b[49m\u001b[43mb\u001b[49m\u001b[43m]\u001b[49m\u001b[38;5;241;43m.\u001b[39;49m\u001b[43matt\u001b[49m\u001b[38;5;241;43m.\u001b[39;49m\u001b[43mW_query\u001b[49m\u001b[38;5;241m.\u001b[39mweight, q_w\u001b[38;5;241m.\u001b[39mT)\n\u001b[0;32m     12\u001b[0m     gpt\u001b[38;5;241m.\u001b[39mtrf_blocks[b]\u001b[38;5;241m.\u001b[39matt\u001b[38;5;241m.\u001b[39mW_key\u001b[38;5;241m.\u001b[39mweight \u001b[38;5;241m=\u001b[39m assign(\n\u001b[0;32m     13\u001b[0m         gpt\u001b[38;5;241m.\u001b[39mtrf_blocks[b]\u001b[38;5;241m.\u001b[39matt\u001b[38;5;241m.\u001b[39mW_key\u001b[38;5;241m.\u001b[39mweight, k_w\u001b[38;5;241m.\u001b[39mT)\n\u001b[0;32m     14\u001b[0m     gpt\u001b[38;5;241m.\u001b[39mtrf_blocks[b]\u001b[38;5;241m.\u001b[39matt\u001b[38;5;241m.\u001b[39mW_value\u001b[38;5;241m.\u001b[39mweight \u001b[38;5;241m=\u001b[39m assign(\n\u001b[0;32m     15\u001b[0m         gpt\u001b[38;5;241m.\u001b[39mtrf_blocks[b]\u001b[38;5;241m.\u001b[39matt\u001b[38;5;241m.\u001b[39mW_value\u001b[38;5;241m.\u001b[39mweight, v_w\u001b[38;5;241m.\u001b[39mT)\n",
      "File \u001b[1;32md:\\python\\Lib\\site-packages\\torch\\nn\\modules\\module.py:1709\u001b[0m, in \u001b[0;36mModule.__getattr__\u001b[1;34m(self, name)\u001b[0m\n\u001b[0;32m   1707\u001b[0m     \u001b[38;5;28;01mif\u001b[39;00m name \u001b[38;5;129;01min\u001b[39;00m modules:\n\u001b[0;32m   1708\u001b[0m         \u001b[38;5;28;01mreturn\u001b[39;00m modules[name]\n\u001b[1;32m-> 1709\u001b[0m \u001b[38;5;28;01mraise\u001b[39;00m \u001b[38;5;167;01mAttributeError\u001b[39;00m(\u001b[38;5;124mf\u001b[39m\u001b[38;5;124m\"\u001b[39m\u001b[38;5;124m'\u001b[39m\u001b[38;5;132;01m{\u001b[39;00m\u001b[38;5;28mtype\u001b[39m(\u001b[38;5;28mself\u001b[39m)\u001b[38;5;241m.\u001b[39m\u001b[38;5;18m__name__\u001b[39m\u001b[38;5;132;01m}\u001b[39;00m\u001b[38;5;124m'\u001b[39m\u001b[38;5;124m object has no attribute \u001b[39m\u001b[38;5;124m'\u001b[39m\u001b[38;5;132;01m{\u001b[39;00mname\u001b[38;5;132;01m}\u001b[39;00m\u001b[38;5;124m'\u001b[39m\u001b[38;5;124m\"\u001b[39m)\n",
      "\u001b[1;31mAttributeError\u001b[0m: 'MultiHeadAttention' object has no attribute 'W_query'"
     ]
    }
   ],
   "source": [
    "load_weights_into_gpt(gpt, params)\n",
    "gpt.to(device)"
   ]
  }
 ],
 "metadata": {
  "kernelspec": {
   "display_name": "Python 3",
   "language": "python",
   "name": "python3"
  },
  "language_info": {
   "codemirror_mode": {
    "name": "ipython",
    "version": 3
   },
   "file_extension": ".py",
   "mimetype": "text/x-python",
   "name": "python",
   "nbconvert_exporter": "python",
   "pygments_lexer": "ipython3",
   "version": "3.11.0"
  }
 },
 "nbformat": 4,
 "nbformat_minor": 5
}
