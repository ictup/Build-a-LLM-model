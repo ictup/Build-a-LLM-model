{
 "cells": [
  {
   "cell_type": "code",
   "execution_count": 1,
   "id": "848df072",
   "metadata": {},
   "outputs": [],
   "source": [
    "import torch\n",
    "inputs = torch.tensor(\n",
    "  [[0.43, 0.15, 0.89], # Your     (x^1)\n",
    "   [0.55, 0.87, 0.66], # journey  (x^2)\n",
    "   [0.57, 0.85, 0.64], # starts   (x^3)\n",
    "   [0.22, 0.58, 0.33], # with     (x^4)\n",
    "   [0.77, 0.25, 0.10], # one      (x^5)\n",
    "   [0.05, 0.80, 0.55]] # step     (x^6)\n",
    ")"
   ]
  },
  {
   "cell_type": "code",
   "execution_count": 2,
   "id": "894b5c19",
   "metadata": {},
   "outputs": [
    {
     "name": "stdout",
     "output_type": "stream",
     "text": [
      "tensor([0.9544, 1.4950, 1.4754, 0.8434, 0.7070, 1.0865])\n"
     ]
    }
   ],
   "source": [
    "query = inputs[1]\n",
    "attn_scores_2 = torch.empty(inputs.shape[0])\n",
    "#创建一个给定形状的张量，但元素内容是未初始化的（内存中的随机值、垃圾值）。\n",
    "#如果你要“马上填充所有元素”，如循环赋值或从数据加载，则torch.empty效率更高。\n",
    "for i, x_i in  enumerate(inputs):\n",
    "    attn_scores_2[i] = torch.dot(x_i,query)\n",
    "#A 第二个输入 token 用作查询向量\n",
    "print(attn_scores_2)"
   ]
  },
  {
   "cell_type": "code",
   "execution_count": 3,
   "id": "91bd60ca",
   "metadata": {},
   "outputs": [
    {
     "name": "stdout",
     "output_type": "stream",
     "text": [
      "Attention weights: tensor([0.1455, 0.2278, 0.2249, 0.1285, 0.1077, 0.1656])\n",
      "Sum: tensor(1.0000)\n"
     ]
    }
   ],
   "source": [
    "attn_weights_2_tmp = attn_scores_2 / (attn_scores_2.sum())\n",
    "print(\"Attention weights:\", attn_weights_2_tmp)\n",
    "print(\"Sum:\", attn_weights_2_tmp.sum())\n",
    "# 归一化的主要目的是使注意力权重之和为 1。\n",
    "# 这种归一化是一种有助于解释和保持LLM训练稳定性的惯例"
   ]
  },
  {
   "cell_type": "code",
   "execution_count": 4,
   "id": "ce606c7b",
   "metadata": {},
   "outputs": [
    {
     "name": "stdout",
     "output_type": "stream",
     "text": [
      "Attention weights: tensor([0.1385, 0.2379, 0.2333, 0.1240, 0.1082, 0.1581])\n",
      "Sum: tensor(1.)\n"
     ]
    }
   ],
   "source": [
    "def softmax_naive(x):\n",
    "    return torch.exp(x) / torch.exp(x).sum(dim=0)\n",
    "\n",
    "attn_weights_2_naive = softmax_naive(attn_scores_2)\n",
    "print(\"Attention weights:\", attn_weights_2_naive)\n",
    "print(\"Sum:\", attn_weights_2_naive.sum())\n",
    "# 常见且更推荐使用 softmax 函数来进行归一化。\n",
    "# 这种方法更擅长处理极端值，并且在训练过程中提供了更有利的梯度特性\n",
    "# 此外，softmax 函数确保注意力权重始终为正值。\n",
    "# 这使得输出可以被解释为概率或相对重要性，其中较高的权重表示更重要。"
   ]
  },
  {
   "cell_type": "code",
   "execution_count": 5,
   "id": "6297f800",
   "metadata": {},
   "outputs": [
    {
     "name": "stdout",
     "output_type": "stream",
     "text": [
      "Attention weights: tensor([0.1385, 0.2379, 0.2333, 0.1240, 0.1082, 0.1581])\n",
      "Sum: tensor(1.)\n"
     ]
    }
   ],
   "source": [
    "attn_weights_2 = torch.softmax(attn_scores_2, dim=0)\n",
    "print(\"Attention weights:\", attn_weights_2)\n",
    "print(\"Sum:\", attn_weights_2.sum())"
   ]
  },
  {
   "cell_type": "code",
   "execution_count": 6,
   "id": "46161730",
   "metadata": {},
   "outputs": [
    {
     "name": "stdout",
     "output_type": "stream",
     "text": [
      "tensor([0.4419, 0.6515, 0.5683])\n"
     ]
    }
   ],
   "source": [
    "query = inputs[1]\n",
    "context_vector_2 = torch.zeros(query.shape)\n",
    "for i ,xi in enumerate(attn_weights_2):\n",
    "    context_vector_2 += xi *inputs[i]\n",
    "print(context_vector_2)\n",
    "# 上下文向量 z(2) 是所有输入向量的加权和。\n",
    "# 其计算方法为将每个输入向量与对应的注意力权重相乘后相加。\n"
   ]
  },
  {
   "cell_type": "code",
   "execution_count": 7,
   "id": "60b3a396",
   "metadata": {},
   "outputs": [
    {
     "data": {
      "text/plain": [
       "tensor([[0.4300, 0.1500, 0.8900],\n",
       "        [0.5500, 0.8700, 0.6600],\n",
       "        [0.5700, 0.8500, 0.6400],\n",
       "        [0.2200, 0.5800, 0.3300],\n",
       "        [0.7700, 0.2500, 0.1000],\n",
       "        [0.0500, 0.8000, 0.5500]])"
      ]
     },
     "execution_count": 7,
     "metadata": {},
     "output_type": "execute_result"
    }
   ],
   "source": [
    "inputs"
   ]
  },
  {
   "cell_type": "code",
   "execution_count": 8,
   "id": "c34af486",
   "metadata": {},
   "outputs": [
    {
     "name": "stdout",
     "output_type": "stream",
     "text": [
      "tensor([[0.9995, 0.9544, 0.9422, 0.4753, 0.4576, 0.6310],\n",
      "        [0.9544, 1.4950, 1.4754, 0.8434, 0.7070, 1.0865],\n",
      "        [0.9422, 1.4754, 1.4570, 0.8296, 0.7154, 1.0605],\n",
      "        [0.4753, 0.8434, 0.8296, 0.4937, 0.3474, 0.6565],\n",
      "        [0.4576, 0.7070, 0.7154, 0.3474, 0.6654, 0.2935],\n",
      "        [0.6310, 1.0865, 1.0605, 0.6565, 0.2935, 0.9450]])\n"
     ]
    }
   ],
   "source": [
    "attn_scores = torch.empty(6, 6)\n",
    "# 6个输入 相互计算 就是6*6\n",
    "for i, x_i in enumerate(inputs):\n",
    "    for j, x_j in enumerate(inputs):\n",
    "        attn_scores[i, j] = torch.dot(x_i, x_j)\n",
    "print(attn_scores)"
   ]
  },
  {
   "cell_type": "code",
   "execution_count": 9,
   "id": "1284e208",
   "metadata": {},
   "outputs": [
    {
     "name": "stdout",
     "output_type": "stream",
     "text": [
      "tensor([[0.9995, 0.9544, 0.9422, 0.4753, 0.4576, 0.6310],\n",
      "        [0.9544, 1.4950, 1.4754, 0.8434, 0.7070, 1.0865],\n",
      "        [0.9422, 1.4754, 1.4570, 0.8296, 0.7154, 1.0605],\n",
      "        [0.4753, 0.8434, 0.8296, 0.4937, 0.3474, 0.6565],\n",
      "        [0.4576, 0.7070, 0.7154, 0.3474, 0.6654, 0.2935],\n",
      "        [0.6310, 1.0865, 1.0605, 0.6565, 0.2935, 0.9450]])\n"
     ]
    }
   ],
   "source": [
    "attn_scores = inputs @ inputs.T\n",
    "print(attn_scores)"
   ]
  },
  {
   "cell_type": "code",
   "execution_count": 10,
   "id": "4394a0d2",
   "metadata": {},
   "outputs": [
    {
     "data": {
      "text/plain": [
       "tensor([[0.2098, 0.2006, 0.1981, 0.1242, 0.1220, 0.1452],\n",
       "        [0.1385, 0.2379, 0.2333, 0.1240, 0.1082, 0.1581],\n",
       "        [0.1390, 0.2369, 0.2326, 0.1242, 0.1108, 0.1565],\n",
       "        [0.1435, 0.2074, 0.2046, 0.1462, 0.1263, 0.1720],\n",
       "        [0.1526, 0.1958, 0.1975, 0.1367, 0.1879, 0.1295],\n",
       "        [0.1385, 0.2184, 0.2128, 0.1420, 0.0988, 0.1896]])"
      ]
     },
     "execution_count": 10,
     "metadata": {},
     "output_type": "execute_result"
    }
   ],
   "source": [
    "attn_weights = torch.softmax(attn_scores,dim = -1)\n",
    "attn_weights"
   ]
  },
  {
   "cell_type": "code",
   "execution_count": 11,
   "id": "333eee9a",
   "metadata": {},
   "outputs": [
    {
     "data": {
      "text/plain": [
       "tensor(1.)"
      ]
     },
     "execution_count": 11,
     "metadata": {},
     "output_type": "execute_result"
    }
   ],
   "source": [
    "sum(attn_weights[1])"
   ]
  },
  {
   "cell_type": "code",
   "execution_count": 12,
   "id": "db2fb685",
   "metadata": {},
   "outputs": [
    {
     "name": "stdout",
     "output_type": "stream",
     "text": [
      "Row 2 sum: 1.0\n",
      "All row sums: tensor([1.0000, 1.0000, 1.0000, 1.0000, 1.0000, 1.0000])\n"
     ]
    }
   ],
   "source": [
    "row_2_sum = sum([0.1385, 0.2379, 0.2333, 0.1240, 0.1082, 0.1581])\n",
    "print(\"Row 2 sum:\", row_2_sum)\n",
    "print(\"All row sums:\", attn_weights.sum(dim=-1))"
   ]
  },
  {
   "cell_type": "code",
   "execution_count": 13,
   "id": "83673738",
   "metadata": {},
   "outputs": [
    {
     "data": {
      "text/plain": [
       "tensor([[0.4421, 0.5931, 0.5790],\n",
       "        [0.4419, 0.6515, 0.5683],\n",
       "        [0.4431, 0.6496, 0.5671],\n",
       "        [0.4304, 0.6298, 0.5510],\n",
       "        [0.4671, 0.5910, 0.5266],\n",
       "        [0.4177, 0.6503, 0.5645]])"
      ]
     },
     "execution_count": 13,
     "metadata": {},
     "output_type": "execute_result"
    }
   ],
   "source": [
    "all_context_vecs = attn_weights @ inputs\n",
    "all_context_vecs"
   ]
  },
  {
   "cell_type": "markdown",
   "id": "51bf6a5b",
   "metadata": {},
   "source": [
    "其实就是每个位置的向量 单独与其他所有位置的向量进行点积，计算出来的值再进行归一化就得到了位置i与其它所有位置的权重，然后再通过将该权重和每个位置的向量进行乘积再相加就得到了上下文向量。"
   ]
  },
  {
   "cell_type": "markdown",
   "id": "311c24d2",
   "metadata": {},
   "source": [
    "## 3.4 实现带有可训练权重的自注意力机制"
   ]
  },
  {
   "cell_type": "code",
   "execution_count": 14,
   "id": "97cd0ee7",
   "metadata": {},
   "outputs": [],
   "source": [
    "x_2 = inputs[1]                                                   #A\n",
    "d_in = inputs.shape[1]                                            #B\n",
    "d_out = 2                                                         #C\n",
    "\n",
    "# 请注意，在 GPT 类模型中，输入维度和输出维度通常是相同的。\n",
    "# 不过，为了便于说明和更清楚地展示计算过程，\n",
    "# 我们在此选择了不同的输入（d_in=3）和输出（d_out=2）维度。\n",
    "#A 第二个输入元素\n",
    "#B 输入维度， d_in=3\n",
    "#C 输出维度， d_out=2"
   ]
  },
  {
   "cell_type": "code",
   "execution_count": 15,
   "id": "ad7ea0dd",
   "metadata": {},
   "outputs": [
    {
     "data": {
      "text/plain": [
       "<torch._C.Generator at 0x180be87b030>"
      ]
     },
     "execution_count": 15,
     "metadata": {},
     "output_type": "execute_result"
    }
   ],
   "source": [
    "torch.manual_seed(42)"
   ]
  },
  {
   "cell_type": "code",
   "execution_count": 16,
   "id": "11233a35",
   "metadata": {},
   "outputs": [
    {
     "data": {
      "text/plain": [
       "(Parameter containing:\n",
       " tensor([[ 0.3367,  0.1288],\n",
       "         [ 0.2345,  0.2303],\n",
       "         [-1.1229, -0.1863]], requires_grad=True),\n",
       " Parameter containing:\n",
       " tensor([[ 2.2082, -0.6380],\n",
       "         [ 0.4617,  0.2674],\n",
       "         [ 0.5349,  0.8094]], requires_grad=True),\n",
       " Parameter containing:\n",
       " tensor([[ 1.1103, -1.6898],\n",
       "         [-0.9890,  0.9580],\n",
       "         [ 1.3221,  0.8172]], requires_grad=True))"
      ]
     },
     "execution_count": 16,
     "metadata": {},
     "output_type": "execute_result"
    }
   ],
   "source": [
    "w_q = torch.nn.Parameter(torch.randn(d_in,d_out),requires_grad = True)\n",
    "w_k = torch.nn.Parameter(torch.randn(d_in,d_out),requires_grad = True)\n",
    "w_v = torch.nn.Parameter(torch.randn(d_in,d_out),requires_grad = True)\n",
    "w_q,w_k,w_v"
   ]
  },
  {
   "cell_type": "code",
   "execution_count": 17,
   "id": "131d1fb7",
   "metadata": {},
   "outputs": [
    {
     "data": {
      "text/plain": [
       "(tensor([-0.3519,  0.1483], grad_fn=<SqueezeBackward4>),\n",
       " tensor([1.9692, 0.4159], grad_fn=<SqueezeBackward4>),\n",
       " tensor([0.6229, 0.4434], grad_fn=<SqueezeBackward4>))"
      ]
     },
     "execution_count": 17,
     "metadata": {},
     "output_type": "execute_result"
    }
   ],
   "source": [
    "q2 = inputs[1] @ w_q\n",
    "k2 = inputs[1] @ w_k\n",
    "v2 = inputs[1] @ w_v\n",
    "q2,k2,v2"
   ]
  },
  {
   "cell_type": "code",
   "execution_count": 18,
   "id": "671122dd",
   "metadata": {},
   "outputs": [
    {
     "data": {
      "text/plain": [
       "(tensor([[0.4300, 0.1500, 0.8900],\n",
       "         [0.5500, 0.8700, 0.6600],\n",
       "         [0.5700, 0.8500, 0.6400],\n",
       "         [0.2200, 0.5800, 0.3300],\n",
       "         [0.7700, 0.2500, 0.1000],\n",
       "         [0.0500, 0.8000, 0.5500]]),\n",
       " torch.Size([6, 3]))"
      ]
     },
     "execution_count": 18,
     "metadata": {},
     "output_type": "execute_result"
    }
   ],
   "source": [
    "inputs,inputs.shape"
   ]
  },
  {
   "cell_type": "code",
   "execution_count": 19,
   "id": "d0447acd",
   "metadata": {},
   "outputs": [
    {
     "data": {
      "text/plain": [
       "(tensor([[ 1.4948,  0.4861],\n",
       "         [ 1.9692,  0.4159],\n",
       "         [ 1.9934,  0.3816],\n",
       "         [ 0.9301,  0.2818],\n",
       "         [ 1.8692, -0.3435],\n",
       "         [ 0.7739,  0.6271]], grad_fn=<MmBackward0>),\n",
       " tensor([[ 1.5058,  0.1444],\n",
       "         [ 0.6229,  0.4434],\n",
       "         [ 0.6384,  0.3741],\n",
       "         [ 0.1070,  0.4535],\n",
       "         [ 0.7399, -0.9799],\n",
       "         [-0.0085,  1.1313]], grad_fn=<MmBackward0>),\n",
       " torch.Size([6, 2]),\n",
       " torch.Size([6, 2]))"
      ]
     },
     "execution_count": 19,
     "metadata": {},
     "output_type": "execute_result"
    }
   ],
   "source": [
    "key = inputs @ w_k\n",
    "value = inputs @ w_v\n",
    "key,value,key.shape,value.shape"
   ]
  },
  {
   "cell_type": "code",
   "execution_count": 20,
   "id": "f451a674",
   "metadata": {},
   "outputs": [
    {
     "data": {
      "text/plain": [
       "tensor([-0.4540, -0.6313, -0.6450, -0.2855, -0.7087, -0.1794],\n",
       "       grad_fn=<SqueezeBackward4>)"
      ]
     },
     "execution_count": 20,
     "metadata": {},
     "output_type": "execute_result"
    }
   ],
   "source": [
    "attn_scores_2 = q2 @ key.T\n",
    "attn_scores_2\n"
   ]
  },
  {
   "cell_type": "code",
   "execution_count": 21,
   "id": "7f1c0171",
   "metadata": {},
   "outputs": [
    {
     "data": {
      "text/plain": [
       "tensor([0.1686, 0.1487, 0.1473, 0.1899, 0.1408, 0.2047],\n",
       "       grad_fn=<SoftmaxBackward0>)"
      ]
     },
     "execution_count": 21,
     "metadata": {},
     "output_type": "execute_result"
    }
   ],
   "source": [
    "attn_scores_2 = torch.softmax(attn_scores_2 / (key.shape[-1]**0.5),dim=-1)\n",
    "attn_scores_2"
   ]
  },
  {
   "cell_type": "code",
   "execution_count": 22,
   "id": "6fadab78",
   "metadata": {},
   "outputs": [
    {
     "data": {
      "text/plain": [
       "tensor([0.5633, 0.3251], grad_fn=<SqueezeBackward4>)"
      ]
     },
     "execution_count": 22,
     "metadata": {},
     "output_type": "execute_result"
    }
   ],
   "source": [
    "context_vec_2 = attn_scores_2 @ value\n",
    "context_vec_2"
   ]
  },
  {
   "cell_type": "code",
   "execution_count": 23,
   "id": "5724cd0a",
   "metadata": {},
   "outputs": [],
   "source": [
    "import torch\n",
    "import torch.nn as nn\n",
    "\n",
    "class SelfAttention_v1(nn.Module):\n",
    "    def __init__(self, d_in, d_out):\n",
    "        super().__init__()\n",
    "        self.wk = nn.Parameter(torch.randn(d_in, d_out))\n",
    "        self.wq = nn.Parameter(torch.randn(d_in, d_out))\n",
    "        self.wv = nn.Parameter(torch.randn(d_in, d_out))\n",
    "        self.d_out = d_out\n",
    "\n",
    "    def forward(self, x):\n",
    "        # x: [seq_len, d_in]\n",
    "        query = x @ self.wq    # [seq_len, d_out]\n",
    "        key = x @ self.wk      # [seq_len, d_out]\n",
    "        value = x @ self.wv    # [seq_len, d_out]\n",
    "        attn_scores = query @ key.T   # [seq_len, seq_len]\n",
    "        attn_weights = torch.softmax(attn_scores / (self.d_out ** 0.5), dim=-1)\n",
    "        context = attn_weights @ value   # [seq_len, d_out]\n",
    "        return context\n"
   ]
  },
  {
   "cell_type": "code",
   "execution_count": 24,
   "id": "19a6a495",
   "metadata": {},
   "outputs": [
    {
     "name": "stdout",
     "output_type": "stream",
     "text": [
      "tensor([[0.2904, 0.3920],\n",
      "        [0.2903, 0.3950],\n",
      "        [0.2905, 0.3942],\n",
      "        [0.2880, 0.3932],\n",
      "        [0.2927, 0.3798],\n",
      "        [0.2864, 0.4014]], grad_fn=<MmBackward0>)\n"
     ]
    }
   ],
   "source": [
    "torch.manual_seed(123)\n",
    "sa_v1 = SelfAttention_v1(d_in,d_out)\n",
    "print(sa_v1(inputs))"
   ]
  },
  {
   "cell_type": "code",
   "execution_count": 25,
   "id": "41fb2197",
   "metadata": {},
   "outputs": [],
   "source": [
    "#  Listing 3.2 A self-attention class using PyTorch's Linear layers\n",
    "class SelfAttention_v2(nn.Module):\n",
    "    def __init__(self, d_in, d_out, qkv_bias=False):\n",
    "        super().__init__()\n",
    "        self.d_out = d_out\n",
    "        self.W_query = nn.Linear(d_in, d_out, bias=qkv_bias)\n",
    "        self.W_key   = nn.Linear(d_in, d_out, bias=qkv_bias)\n",
    "        self.W_value = nn.Linear(d_in, d_out, bias=qkv_bias)\n",
    "\n",
    "    def forward(self, x):\n",
    "        keys = self.W_key(x)\n",
    "        queries = self.W_query(x)\n",
    "        values = self.W_value(x)\n",
    "        attn_scores = queries @ keys.T\n",
    "        attn_weights = torch.softmax(attn_scores / keys.shape[-1]**0.5, dim=-1)\n",
    "        context_vec = attn_weights @ values\n",
    "        return context_vec"
   ]
  },
  {
   "cell_type": "code",
   "execution_count": 26,
   "id": "f6acd4cb",
   "metadata": {},
   "outputs": [
    {
     "name": "stdout",
     "output_type": "stream",
     "text": [
      "tensor([[-0.0739,  0.0713],\n",
      "        [-0.0748,  0.0703],\n",
      "        [-0.0749,  0.0702],\n",
      "        [-0.0760,  0.0685],\n",
      "        [-0.0763,  0.0679],\n",
      "        [-0.0754,  0.0693]], grad_fn=<MmBackward0>)\n"
     ]
    }
   ],
   "source": [
    "torch.manual_seed(789)\n",
    "sa_v2 = SelfAttention_v2(d_in, d_out)\n",
    "print(sa_v2(inputs))"
   ]
  },
  {
   "cell_type": "code",
   "execution_count": 27,
   "id": "d065ff04",
   "metadata": {},
   "outputs": [
    {
     "name": "stdout",
     "output_type": "stream",
     "text": [
      "Parameter containing:\n",
      "tensor([[-0.1115,  0.1204],\n",
      "        [-0.3696, -0.2404],\n",
      "        [-1.1969,  0.2093]], requires_grad=True)\n",
      "Parameter containing:\n",
      "tensor([[-0.9724, -0.7550],\n",
      "        [ 0.3239, -0.1085],\n",
      "        [ 0.2103, -0.3908]], requires_grad=True)\n",
      "Parameter containing:\n",
      "tensor([[ 0.2350,  0.6653],\n",
      "        [ 0.3528,  0.9728],\n",
      "        [-0.0386, -0.8861]], requires_grad=True)\n"
     ]
    }
   ],
   "source": [
    "print(sa_v1.wk)\n",
    "print(sa_v1.wq)\n",
    "print(sa_v1.wv)\n"
   ]
  },
  {
   "cell_type": "code",
   "execution_count": 28,
   "id": "b300e0f0",
   "metadata": {},
   "outputs": [
    {
     "name": "stdout",
     "output_type": "stream",
     "text": [
      "Parameter containing:\n",
      "tensor([[ 0.3161,  0.4568,  0.5118],\n",
      "        [-0.1683, -0.3379, -0.0918]], requires_grad=True)\n",
      "Parameter containing:\n",
      "tensor([[ 0.4058, -0.4704,  0.2368],\n",
      "        [ 0.2134, -0.2601, -0.5105]], requires_grad=True)\n",
      "Parameter containing:\n",
      "tensor([[ 0.2526, -0.1415, -0.1962],\n",
      "        [ 0.5191, -0.0852, -0.2043]], requires_grad=True)\n"
     ]
    }
   ],
   "source": [
    "print(sa_v2.W_query.weight)\n",
    "print(sa_v2.W_key.weight)\n",
    "print(sa_v2.W_value.weight)\n",
    "# 使用nn.linear输出的权重是自带转置的"
   ]
  },
  {
   "cell_type": "code",
   "execution_count": 29,
   "id": "956a224b",
   "metadata": {},
   "outputs": [
    {
     "data": {
      "text/plain": [
       "tensor([[ 0.2526,  0.5191],\n",
       "        [-0.1415, -0.0852],\n",
       "        [-0.1962, -0.2043]], grad_fn=<CopyBackwards>)"
      ]
     },
     "execution_count": 29,
     "metadata": {},
     "output_type": "execute_result"
    }
   ],
   "source": [
    "sa_v1.wk.data.copy_(sa_v2.W_query.weight.T.clone())\n",
    "sa_v1.wq.data.copy_(sa_v2.W_key.weight.T.clone())\n",
    "sa_v1.wv.data.copy_(sa_v2.W_value.weight.T.clone())\n",
    "# 因为sav1的权重是parameter方法创建的，包含了梯度等信息，如果想要更改的话，需要.data.copy_\n",
    "# 并且由于可能存在内存冲突的情况，需要创建一个新的内存来复制"
   ]
  },
  {
   "cell_type": "markdown",
   "id": "4862b264",
   "metadata": {},
   "source": [
    "1️⃣ 为什么要用 .clone()？\n",
    "原因1：防止“原地修改”影响源张量\n",
    "很多 PyTorch 张量操作（如 .T、切片、view() 等）其实只是创建了原张量的“视图”，并没有真正拷贝数据。\n",
    "\n",
    "直接用视图赋值/修改时，会影响原始数据，这可能会导致意外的副作用或梯度错误。\n",
    "\n",
    "原因2：防止“内存重叠”导致的运行时错误\n",
    "如果你对一个张量的某种变换（如转置、切片）赋值给另一个张量，如果二者的底层数据有内存重叠，PyTorch 会报错或警告。\n",
    "\n",
    "clone() 会分配一块全新内存，消除重叠风险。\n",
    "\n",
    "原因3：确保数据独立，可安全赋值或参与运算\n",
    "对于copy_()、参数赋值、梯度操作等，强烈建议先 .clone()，保证数据之间没有引用、互不干扰。\n",
    "\n"
   ]
  },
  {
   "cell_type": "code",
   "execution_count": 30,
   "id": "fd5aa183",
   "metadata": {},
   "outputs": [
    {
     "data": {
      "text/plain": [
       "tensor([[-0.0809,  0.0638],\n",
       "        [-0.0784,  0.0657],\n",
       "        [-0.0784,  0.0657],\n",
       "        [-0.0772,  0.0666],\n",
       "        [-0.0787,  0.0652],\n",
       "        [-0.0769,  0.0669]], grad_fn=<MmBackward0>)"
      ]
     },
     "execution_count": 30,
     "metadata": {},
     "output_type": "execute_result"
    }
   ],
   "source": [
    "sa_v1(inputs)"
   ]
  },
  {
   "cell_type": "code",
   "execution_count": 31,
   "id": "11b0a69a",
   "metadata": {},
   "outputs": [
    {
     "data": {
      "text/plain": [
       "tensor([[-0.0739,  0.0713],\n",
       "        [-0.0748,  0.0703],\n",
       "        [-0.0749,  0.0702],\n",
       "        [-0.0760,  0.0685],\n",
       "        [-0.0763,  0.0679],\n",
       "        [-0.0754,  0.0693]], grad_fn=<MmBackward0>)"
      ]
     },
     "execution_count": 31,
     "metadata": {},
     "output_type": "execute_result"
    }
   ],
   "source": [
    "sa_v2(inputs)"
   ]
  },
  {
   "cell_type": "markdown",
   "id": "543cc6e6",
   "metadata": {},
   "source": [
    "## 3.5 使用因果注意力机制来屏蔽后续词"
   ]
  },
  {
   "cell_type": "code",
   "execution_count": 32,
   "id": "3f27affc",
   "metadata": {},
   "outputs": [
    {
     "name": "stdout",
     "output_type": "stream",
     "text": [
      "tensor([[0.1921, 0.1646, 0.1652, 0.1550, 0.1721, 0.1510],\n",
      "        [0.2041, 0.1659, 0.1662, 0.1496, 0.1665, 0.1477],\n",
      "        [0.2036, 0.1659, 0.1662, 0.1498, 0.1664, 0.1480],\n",
      "        [0.1869, 0.1667, 0.1668, 0.1571, 0.1661, 0.1564],\n",
      "        [0.1830, 0.1669, 0.1670, 0.1588, 0.1658, 0.1585],\n",
      "        [0.1935, 0.1663, 0.1666, 0.1542, 0.1666, 0.1529]],\n",
      "       grad_fn=<SoftmaxBackward0>)\n"
     ]
    }
   ],
   "source": [
    "queries = sa_v2.W_query(inputs)                                   #A\n",
    "keys = sa_v2.W_key(inputs)\n",
    "attn_scores = queries @ keys.T\n",
    "attn_weights = torch.softmax(attn_scores / keys.shape[-1]**0.5, dim=1)\n",
    "print(attn_weights)\n",
    "\n",
    "#A 为了方便起见，我们复用上一节中 SelfAttention_v2 对象的query和key权重矩阵。"
   ]
  },
  {
   "cell_type": "code",
   "execution_count": 33,
   "id": "316fce7a",
   "metadata": {},
   "outputs": [
    {
     "data": {
      "text/plain": [
       "tensor([[1., 0., 0., 0., 0., 0.],\n",
       "        [1., 1., 0., 0., 0., 0.],\n",
       "        [1., 1., 1., 0., 0., 0.],\n",
       "        [1., 1., 1., 1., 0., 0.],\n",
       "        [1., 1., 1., 1., 1., 0.],\n",
       "        [1., 1., 1., 1., 1., 1.]])"
      ]
     },
     "execution_count": 33,
     "metadata": {},
     "output_type": "execute_result"
    }
   ],
   "source": [
    "context_length = attn_weights.shape[0]\n",
    "mask_simple = torch.tril(torch.ones(context_length,context_length))\n",
    "mask_simple"
   ]
  },
  {
   "cell_type": "code",
   "execution_count": 34,
   "id": "6eb25c19",
   "metadata": {},
   "outputs": [
    {
     "name": "stdout",
     "output_type": "stream",
     "text": [
      "tensor([[0.1921, 0.0000, 0.0000, 0.0000, 0.0000, 0.0000],\n",
      "        [0.2041, 0.1659, 0.0000, 0.0000, 0.0000, 0.0000],\n",
      "        [0.2036, 0.1659, 0.1662, 0.0000, 0.0000, 0.0000],\n",
      "        [0.1869, 0.1667, 0.1668, 0.1571, 0.0000, 0.0000],\n",
      "        [0.1830, 0.1669, 0.1670, 0.1588, 0.1658, 0.0000],\n",
      "        [0.1935, 0.1663, 0.1666, 0.1542, 0.1666, 0.1529]],\n",
      "       grad_fn=<MulBackward0>)\n"
     ]
    }
   ],
   "source": [
    "masked_simple = attn_weights*mask_simple\n",
    "print(masked_simple)"
   ]
  },
  {
   "cell_type": "code",
   "execution_count": 35,
   "id": "adad668c",
   "metadata": {},
   "outputs": [
    {
     "data": {
      "text/plain": [
       "(tensor([[1.0000, 0.0000, 0.0000, 0.0000, 0.0000, 0.0000],\n",
       "         [0.5000, 0.5000, 0.0000, 0.0000, 0.0000, 0.0000],\n",
       "         [0.3333, 0.3333, 0.3333, 0.0000, 0.0000, 0.0000],\n",
       "         [0.2500, 0.2500, 0.2500, 0.2500, 0.0000, 0.0000],\n",
       "         [0.2000, 0.2000, 0.2000, 0.2000, 0.2000, 0.0000],\n",
       "         [0.1667, 0.1667, 0.1667, 0.1667, 0.1667, 0.1667]]),\n",
       " tensor([[1.],\n",
       "         [2.],\n",
       "         [3.],\n",
       "         [4.],\n",
       "         [5.],\n",
       "         [6.]]))"
      ]
     },
     "execution_count": 35,
     "metadata": {},
     "output_type": "execute_result"
    }
   ],
   "source": [
    "row_sum = mask_simple.sum(dim=-1,keepdim=True)\n",
    "maskattn = mask_simple / row_sum\n",
    "maskattn,row_sum"
   ]
  },
  {
   "cell_type": "code",
   "execution_count": 36,
   "id": "8bf9608b",
   "metadata": {},
   "outputs": [
    {
     "name": "stdout",
     "output_type": "stream",
     "text": [
      "tensor([[0.2899,   -inf,   -inf,   -inf,   -inf,   -inf],\n",
      "        [0.4656, 0.1723,   -inf,   -inf,   -inf,   -inf],\n",
      "        [0.4594, 0.1703, 0.1731,   -inf,   -inf,   -inf],\n",
      "        [0.2642, 0.1024, 0.1036, 0.0186,   -inf,   -inf],\n",
      "        [0.2183, 0.0874, 0.0882, 0.0177, 0.0786,   -inf],\n",
      "        [0.3408, 0.1270, 0.1290, 0.0198, 0.1290, 0.0078]],\n",
      "       grad_fn=<MaskedFillBackward0>)\n"
     ]
    }
   ],
   "source": [
    "mask = torch.triu(torch.ones(context_length, context_length), diagonal=1)\n",
    "masked = attn_scores.masked_fill(mask.bool(), -torch.inf)\n",
    "print(masked)"
   ]
  },
  {
   "cell_type": "code",
   "execution_count": 37,
   "id": "ed3ee805",
   "metadata": {},
   "outputs": [
    {
     "name": "stdout",
     "output_type": "stream",
     "text": [
      "tensor([[1.0000, 0.0000, 0.0000, 0.0000, 0.0000, 0.0000],\n",
      "        [0.5517, 0.4483, 0.0000, 0.0000, 0.0000, 0.0000],\n",
      "        [0.3800, 0.3097, 0.3103, 0.0000, 0.0000, 0.0000],\n",
      "        [0.2758, 0.2460, 0.2462, 0.2319, 0.0000, 0.0000],\n",
      "        [0.2175, 0.1983, 0.1984, 0.1888, 0.1971, 0.0000],\n",
      "        [0.1935, 0.1663, 0.1666, 0.1542, 0.1666, 0.1529]],\n",
      "       grad_fn=<SoftmaxBackward0>)\n"
     ]
    }
   ],
   "source": [
    "attn_weights = torch.softmax(masked / keys.shape[-1]**0.5, dim=1)\n",
    "print(attn_weights)"
   ]
  },
  {
   "cell_type": "code",
   "execution_count": 38,
   "id": "91afb692",
   "metadata": {},
   "outputs": [
    {
     "data": {
      "text/plain": [
       "tensor([[2., 2., 2., 2., 2., 2.],\n",
       "        [0., 2., 0., 0., 0., 0.],\n",
       "        [0., 0., 2., 0., 2., 0.],\n",
       "        [2., 2., 0., 0., 0., 2.],\n",
       "        [2., 0., 0., 0., 0., 2.],\n",
       "        [0., 2., 0., 0., 0., 0.]])"
      ]
     },
     "execution_count": 38,
     "metadata": {},
     "output_type": "execute_result"
    }
   ],
   "source": [
    "torch.manual_seed(123)\n",
    "dropout = torch.nn.Dropout(0.5)\n",
    "example = torch.ones(6,6)\n",
    "dropout(example)"
   ]
  },
  {
   "cell_type": "markdown",
   "id": "faf8a5a4",
   "metadata": {},
   "source": [
    "当对注意力权重矩阵应用 50% 的 dropout 时，矩阵中一半的元素会被随机设置为零。为了补偿有效元素的减少，矩阵中剩余元素的值会被放大 1/0.5 = 2 倍。这个缩放操作至关重要，可以在训练和推理阶段保持注意力机制的整体权重平衡，确保注意力机制在这两个阶段的平均影响保持一致。"
   ]
  },
  {
   "cell_type": "code",
   "execution_count": 39,
   "id": "b1feeb72",
   "metadata": {},
   "outputs": [
    {
     "data": {
      "text/plain": [
       "(tensor([[1.0000, 0.0000, 0.0000, 0.0000, 0.0000, 0.0000],\n",
       "         [0.5517, 0.4483, 0.0000, 0.0000, 0.0000, 0.0000],\n",
       "         [0.3800, 0.3097, 0.3103, 0.0000, 0.0000, 0.0000],\n",
       "         [0.2758, 0.2460, 0.2462, 0.2319, 0.0000, 0.0000],\n",
       "         [0.2175, 0.1983, 0.1984, 0.1888, 0.1971, 0.0000],\n",
       "         [0.1935, 0.1663, 0.1666, 0.1542, 0.1666, 0.1529]],\n",
       "        grad_fn=<SoftmaxBackward0>),\n",
       " tensor([[2.0000, 0.0000, 0.0000, 0.0000, 0.0000, 0.0000],\n",
       "         [0.0000, 0.8966, 0.0000, 0.0000, 0.0000, 0.0000],\n",
       "         [0.0000, 0.0000, 0.6206, 0.0000, 0.0000, 0.0000],\n",
       "         [0.5517, 0.4921, 0.0000, 0.0000, 0.0000, 0.0000],\n",
       "         [0.4350, 0.0000, 0.0000, 0.0000, 0.0000, 0.0000],\n",
       "         [0.0000, 0.3327, 0.0000, 0.0000, 0.0000, 0.0000]],\n",
       "        grad_fn=<MulBackward0>))"
      ]
     },
     "execution_count": 39,
     "metadata": {},
     "output_type": "execute_result"
    }
   ],
   "source": [
    "torch.manual_seed(123)\n",
    "attn_weights,dropout(attn_weights)"
   ]
  },
  {
   "cell_type": "code",
   "execution_count": 40,
   "id": "c075c180",
   "metadata": {},
   "outputs": [
    {
     "data": {
      "text/plain": [
       "(tensor([[[0.4300, 0.1500, 0.8900],\n",
       "          [0.5500, 0.8700, 0.6600],\n",
       "          [0.5700, 0.8500, 0.6400],\n",
       "          [0.2200, 0.5800, 0.3300],\n",
       "          [0.7700, 0.2500, 0.1000],\n",
       "          [0.0500, 0.8000, 0.5500]],\n",
       " \n",
       "         [[0.4300, 0.1500, 0.8900],\n",
       "          [0.5500, 0.8700, 0.6600],\n",
       "          [0.5700, 0.8500, 0.6400],\n",
       "          [0.2200, 0.5800, 0.3300],\n",
       "          [0.7700, 0.2500, 0.1000],\n",
       "          [0.0500, 0.8000, 0.5500]]]),\n",
       " torch.Size([2, 6, 3]))"
      ]
     },
     "execution_count": 40,
     "metadata": {},
     "output_type": "execute_result"
    }
   ],
   "source": [
    "batch = torch.stack((inputs,inputs),dim=0)\n",
    "# 将两个inputs放入torch中模拟batch操作\n",
    "# torch.cat 是“拼接”，只合并维度不增加新维度（比如把两个 [6, 3] 拼成 [12, 3] 或 [6, 6]）。\n",
    "# torch.stack 是“叠加”，总是会新加一维。\n",
    "# dim=0：在最前面加新维度（常用于 batch 处理）\n",
    "# dim=1：在第1维插入（横向堆叠）\n",
    "# dim=2：以此类推（更高维度）\n",
    "batch,batch.size()"
   ]
  },
  {
   "cell_type": "code",
   "execution_count": 41,
   "id": "493ee0fd",
   "metadata": {},
   "outputs": [],
   "source": [
    "# register_buffer 是 nn.Module（也就是你所有自定义模型和层的基类）里的一个方法。\n",
    "# 它用来把“不是参数”（不需要梯度、不被优化器更新）但又要随着模型存储和迁移的张量“注册进模型”。\n",
    "\n",
    "class CausalAttention(nn.Module):\n",
    "    def __init__(self,d_in,d_out,context_length,dropout,bias=False):\n",
    "        super().__init__()\n",
    "\n",
    "        self.query = nn.Linear(d_in,d_out,bias=bias)\n",
    "        self.key = nn.Linear(d_in,d_out,bias=bias)\n",
    "        self.value = nn.Linear(d_in,d_out,bias=bias)\n",
    "        self.dropout = nn.Dropout(dropout)\n",
    "        self.output = d_out\n",
    "        self.register_buffer(\n",
    "            'mask',\n",
    "            torch.triu(torch.ones((context_length,context_length)),diagonal=1)\n",
    "        )\n",
    "\n",
    "\n",
    "    def forward(self,input):\n",
    "        batch_size,num_tokens,d_in = input.shape\n",
    "        key = self.key(input)      # shape: [batch_size, num_tokens, d_out]\n",
    "        query = self.query(input)  # shape: [batch_size, num_tokens, d_out]\n",
    "        value = self.value(input)\n",
    "\n",
    "        attn_socres = query @ key.transpose(1,2)\n",
    "        attn_scores.masked_fill_(\n",
    "            self.mask.bool()[:num_tokens,:num_tokens],-torch.inf\n",
    "        )\n",
    "        attn_weight = torch.softmax(attn_scores / key.shape[-1]**0.5,dim = -1)\n",
    "        attn_weight = self.dropout(attn_weight)\n",
    "        context_vec = attn_weight @ value\n",
    "        return context_vec\n",
    "# 例如，当我们在大语言模型（LLM）中使用 CausalAttention 类时，buffer 会自动随模型迁移到合适的设备（CPU 或 GPU）。\n",
    "# 这意味着我们无需手动确保这些张量与模型参数在同一设备上，从而避免设备不匹配错误"
   ]
  },
  {
   "cell_type": "code",
   "execution_count": 42,
   "id": "ca00c756",
   "metadata": {},
   "outputs": [
    {
     "name": "stdout",
     "output_type": "stream",
     "text": [
      "context_vecs.shape: torch.Size([2, 6, 2])\n"
     ]
    }
   ],
   "source": [
    "torch.manual_seed(123)\n",
    "context_length = batch.shape[1]\n",
    "ca = CausalAttention(d_in, d_out, context_length, 0.0)\n",
    "context_vecs = ca(batch)\n",
    "print(\"context_vecs.shape:\", context_vecs.shape)"
   ]
  },
  {
   "cell_type": "markdown",
   "id": "55917abb",
   "metadata": {},
   "source": [
    "##  3.6 从单头注意力扩展到多头注意力"
   ]
  },
  {
   "cell_type": "code",
   "execution_count": 43,
   "id": "b756cb1b",
   "metadata": {},
   "outputs": [],
   "source": [
    "# Listing 3.4 A wrapper class to implement multi-head attention\n",
    "class MultiHeadAttentionWrapper(nn.Module):\n",
    "    def __init__(self, d_in, d_out, context_length,\n",
    "                 dropout, num_heads, qkv_bias=False):\n",
    "        super().__init__()\n",
    "        self.heads = nn.ModuleList(\n",
    "            [CausalAttention(d_in, d_out, context_length, dropout, qkv_bias)\n",
    "             for _ in range(num_heads)]\n",
    "        )\n",
    "        \n",
    "    def forward(self, x):\n",
    "        return torch.cat([head(x) for head in self.heads], dim=-1)\n",
    "\n",
    "#nn.ModuleList是一个**专门用来存放子模块（layer/layer序列）**的Python列表，\n",
    "# 继承自nn.Module。\n",
    "# 它能让PyTorch自动追踪它里面的所有子模块（参数管理、模型保存/加载、迁移等都能正确工作）。"
   ]
  },
  {
   "cell_type": "code",
   "execution_count": 44,
   "id": "62ca666e",
   "metadata": {},
   "outputs": [
    {
     "data": {
      "text/plain": [
       "torch.Size([2, 6, 3])"
      ]
     },
     "execution_count": 44,
     "metadata": {},
     "output_type": "execute_result"
    }
   ],
   "source": [
    "batch.size()"
   ]
  },
  {
   "cell_type": "code",
   "execution_count": 45,
   "id": "c65aeaea",
   "metadata": {},
   "outputs": [
    {
     "name": "stdout",
     "output_type": "stream",
     "text": [
      "tensor([[[0.4772, 0.1063, 0.4566, 0.2729],\n",
      "         [0.5668, 0.2819, 0.5771, 0.3006],\n",
      "         [0.6008, 0.3481, 0.6229, 0.3097],\n",
      "         [0.5462, 0.3445, 0.5722, 0.2806],\n",
      "         [0.5318, 0.3359, 0.5591, 0.2553],\n",
      "         [0.5093, 0.3362, 0.5375, 0.2530]],\n",
      "\n",
      "        [[0.4772, 0.1063, 0.4566, 0.2729],\n",
      "         [0.5668, 0.2819, 0.5771, 0.3006],\n",
      "         [0.6008, 0.3481, 0.6229, 0.3097],\n",
      "         [0.5462, 0.3445, 0.5722, 0.2806],\n",
      "         [0.5318, 0.3359, 0.5591, 0.2553],\n",
      "         [0.5093, 0.3362, 0.5375, 0.2530]]], grad_fn=<CatBackward0>)\n",
      "context_vecs.shape: torch.Size([2, 6, 4])\n"
     ]
    }
   ],
   "source": [
    "context_length = batch.shape[1]\n",
    "d_in=3\n",
    "d_out=2\n",
    "mha = MultiHeadAttentionWrapper(d_in,d_out,context_length,0.0,num_heads=2)\n",
    "context_vecs = mha(batch)\n",
    "print(context_vecs)\n",
    "print(\"context_vecs.shape:\", context_vecs.shape)"
   ]
  },
  {
   "cell_type": "code",
   "execution_count": 46,
   "id": "e2a93646",
   "metadata": {},
   "outputs": [
    {
     "name": "stdout",
     "output_type": "stream",
     "text": [
      "tensor([[[-0.3749,  0.5063],\n",
      "         [-0.1699,  0.6414],\n",
      "         [-0.0860,  0.6925],\n",
      "         [-0.0293,  0.6497],\n",
      "         [ 0.0056,  0.5955],\n",
      "         [ 0.0109,  0.5970]],\n",
      "\n",
      "        [[-0.3749,  0.5063],\n",
      "         [-0.1699,  0.6414],\n",
      "         [-0.0860,  0.6925],\n",
      "         [-0.0293,  0.6497],\n",
      "         [ 0.0056,  0.5955],\n",
      "         [ 0.0109,  0.5970]]], grad_fn=<CatBackward0>)\n",
      "context_vecs.shape: torch.Size([2, 6, 2])\n"
     ]
    }
   ],
   "source": [
    "d_out = 1\n",
    "mha = MultiHeadAttentionWrapper(d_in,d_out,context_length,0.0,num_heads=2)\n",
    "context_vecs = mha(batch)\n",
    "print(context_vecs)\n",
    "print(\"context_vecs.shape:\", context_vecs.shape)"
   ]
  },
  {
   "cell_type": "code",
   "execution_count": 47,
   "id": "da7685b1",
   "metadata": {},
   "outputs": [],
   "source": [
    "class MultiHeadAttnetion(nn.Module):\n",
    "    def __init__(self,d_in,d_out,context_length,dropout,num_heads,qkv_bias=False):\n",
    "        super().__init__()\n",
    "\n",
    "        self.query = nn.Linear(d_in,d_out,bias=qkv_bias)\n",
    "        self.keys = nn.Linear(d_in,d_out,bias=qkv_bias)\n",
    "        self.values = nn.Linear(d_in,d_out,bias=qkv_bias)\n",
    "        self.register_buffer(\n",
    "            \"mask\",\n",
    "            torch.triu(torch.ones(context_length,context_length),diagonal=1)\n",
    "        )\n",
    "        assert d_out % num_heads == 0,\"111\"\n",
    "        self.head_dim = d_out // num_heads\n",
    "        self.dropout = nn.Dropout(dropout)\n",
    "        self.d_out = d_out\n",
    "        self.num_heads = num_heads\n",
    "        self.out_proj = nn.Linear(d_out, d_out) \n",
    "\n",
    "    def forward(self,inputs):\n",
    "        batch_size,num_tokens,d_in = inputs.shape\n",
    "\n",
    "        queries = self.query(inputs).view(batch_size,num_tokens,self.num_heads,self.head_dim)\n",
    "        keys= self.keys(inputs).view(batch_size,num_tokens,self.num_heads,self.head_dim)\n",
    "        values = self.values(inputs).view(batch_size,num_tokens,self.num_heads,self.head_dim)\n",
    "\n",
    "        queries = queries.transpose(1,2)\n",
    "        keys = keys.transpose(1,2)\n",
    "        values = values.transpose(1,2)\n",
    "        # [batch_size,self.num_heads,num_tokens,self.head_dim]\n",
    "\n",
    "        attn_scores = queries @ keys.transpose(2,3)\n",
    "        ## [batch_size,self.num_heads,self.head_dim,num_tokens]\n",
    "        # [batch_size,self.num_heads,num_tokens,num_tokens]\n",
    "        # 维度变化 计算分数要求是[nums tokens * num tokens]\n",
    "        mask_bool = self.mask.bool()[:num_tokens,:num_tokens]\n",
    "        attn_scores.masked_fill_(mask_bool,-torch.inf)\n",
    "\n",
    "        attn_weights = torch.softmax(attn_scores/keys.shape[-1]**0.5,dim=-1)\n",
    "        attn_weights = self.dropout(attn_weights)\n",
    "\n",
    "        context_vecs = (attn_weights @ values).transpose(1,2)\n",
    "        # [batch_size,self.num_heads,num_tokens,self.head_dim]\n",
    "        # 但是输出需要满足 batch_size,num_tokens,d_out 所以再次更换维度\n",
    "        # [batch_size,num_tokens,self.num_heads，self.head_dim]\n",
    "        context_vecs.contiguous().view(batch_size,num_tokens,d_out)\n",
    "        context_vec = self.out_proj(context_vec)                  #K\n",
    "        return context_vec\n"
   ]
  },
  {
   "cell_type": "markdown",
   "id": "e95d031c",
   "metadata": {},
   "source": [
    "1. 单头注意力的局限性\n",
    "单一注意力（只一组QKV权重）只能学会“某一种”关注规律，比如每个词对邻居的相关性。\n",
    "\n",
    "但语言/图像/序列往往有多层面、多种远近关系需要被关注。\n",
    "\n",
    "例：句子里既有短语依赖，又有长距离依赖。\n",
    "\n",
    "2. 多头注意力怎么做的？\n",
    "把总的输出维度d_out分成num_heads份，每份叫一个head，每个head有独立的Q/K/V权重（实际上你的代码实现有bug，下文会讲）。\n",
    "\n",
    "每个head在自己的小空间里做注意力机制，可以捕捉不同类型、不同距离的信息模式。\n",
    "\n",
    "最后把所有head的输出拼起来，用线性层混合成最终输出。\n",
    "\n",
    "3. 带来的好处\n",
    "多角度、多尺度感知：每个head有自己的注意力参数，可以关注不同内容、不同距离、不同特征。\n",
    "\n",
    "信息融合：多个head的输出再混合，能“看得更全”，让模型学会同时捕捉多种语义/结构/空间信息。\n",
    "\n",
    "更强泛化能力：单一注意力只能关注有限关系，多头能避免“注意力塌缩”问题。\n",
    "\n",
    "并行高效：PyTorch设计得好，所有head同时并行计算，速度快。"
   ]
  },
  {
   "cell_type": "code",
   "execution_count": 48,
   "id": "05f0806e",
   "metadata": {},
   "outputs": [
    {
     "data": {
      "text/plain": [
       "torch.Size([1, 2, 3, 4])"
      ]
     },
     "execution_count": 48,
     "metadata": {},
     "output_type": "execute_result"
    }
   ],
   "source": [
    "a = torch.tensor([[[[0.2745, 0.6584, 0.2775, 0.8573],             #A\n",
    "                    [0.8993, 0.0390, 0.9268, 0.7388],\n",
    "                    [0.7179, 0.7058, 0.9156, 0.4340]],\n",
    "                   [[0.0772, 0.3565, 0.1479, 0.5331],\n",
    "                    [0.4066, 0.2318, 0.4545, 0.9737],\n",
    "                    [0.4606, 0.5159, 0.4220, 0.5786]]]])\n",
    "a.shape\n",
    "#A 该张量的形状为 (b, num_heads, num_tokens, head_dim) = (1, 2, 3, 4)"
   ]
  },
  {
   "cell_type": "code",
   "execution_count": 49,
   "id": "df27fc8d",
   "metadata": {},
   "outputs": [
    {
     "name": "stdout",
     "output_type": "stream",
     "text": [
      "tensor([[[[1.3208, 1.1631, 1.2879],\n",
      "          [1.1631, 2.2150, 1.8424],\n",
      "          [1.2879, 1.8424, 2.0402]],\n",
      "\n",
      "         [[0.4391, 0.7003, 0.5903],\n",
      "          [0.7003, 1.3737, 1.0620],\n",
      "          [0.5903, 1.0620, 0.9912]]]])\n"
     ]
    }
   ],
   "source": [
    "print(a @ a.transpose(2, 3))"
   ]
  },
  {
   "cell_type": "code",
   "execution_count": 50,
   "id": "a3c03c91",
   "metadata": {},
   "outputs": [
    {
     "name": "stdout",
     "output_type": "stream",
     "text": [
      "torch.Size([3, 4])\n",
      "First head:\n",
      " tensor([[1.3208, 1.1631, 1.2879],\n",
      "        [1.1631, 2.2150, 1.8424],\n",
      "        [1.2879, 1.8424, 2.0402]])\n",
      "torch.Size([3, 4])\n",
      "\n",
      "Second head:\n",
      " tensor([[0.4391, 0.7003, 0.5903],\n",
      "        [0.7003, 1.3737, 1.0620],\n",
      "        [0.5903, 1.0620, 0.9912]])\n"
     ]
    }
   ],
   "source": [
    "\n",
    "first_head = a[0, 0, :, :]\n",
    "print(first_head.shape)\n",
    "first_res = first_head @ first_head.T\n",
    "print(\"First head:\\n\", first_res)\n",
    "second_head = a[0, 1, :, :]\n",
    "print(second_head.shape)\n",
    "second_res = second_head @ second_head.T\n",
    "print(\"\\nSecond head:\\n\", second_res)"
   ]
  },
  {
   "cell_type": "code",
   "execution_count": null,
   "id": "97f9bc9f",
   "metadata": {},
   "outputs": [],
   "source": []
  }
 ],
 "metadata": {
  "kernelspec": {
   "display_name": "Python 3",
   "language": "python",
   "name": "python3"
  },
  "language_info": {
   "codemirror_mode": {
    "name": "ipython",
    "version": 3
   },
   "file_extension": ".py",
   "mimetype": "text/x-python",
   "name": "python",
   "nbconvert_exporter": "python",
   "pygments_lexer": "ipython3",
   "version": "3.11.0"
  }
 },
 "nbformat": 4,
 "nbformat_minor": 5
}
